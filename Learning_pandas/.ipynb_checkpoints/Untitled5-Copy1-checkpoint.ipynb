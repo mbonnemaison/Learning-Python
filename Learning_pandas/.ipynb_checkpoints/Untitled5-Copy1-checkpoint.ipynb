{
 "cells": [
  {
   "cell_type": "markdown",
   "metadata": {},
   "source": [
    "# **Introduction to Dates & Time with pandas**\n",
    "\n",
    "This jupyter notebook can be found on my GitHub account: https://github.com/mbonnemaison/Learning-Python\n",
    "### **pandas** is a python library that facilitates data analysis organized in a table.\n",
    "\n",
    "### Sources:\n",
    "- Information to install pandas, introduce pandas and the user guide: https://pandas.pydata.org/pandas-docs/stable/getting_started/index.html\n",
    "- Python for Data Analysis by Wes McKinney (2nd edition used here) - Chapter 5 (Introduction), Chapter 11 (Time Series)\n",
    "- Video on Data Analysis (go to comments to go to part you're interested in): https://www.youtube.com/watch?v=r-uOLxNrNk8&list=RDCMUC8butISFwT-Wl7EV0hUK0BQ&index=3\n",
    "\n",
    "## Introduction to Time & Dates\n",
    "Some of the elementary data structures for working with date & time data are:\n",
    "\n",
    "- **Timestamps** : specific instants in time\n",
    "- **Timedeltas**: Intervals of time indicated by a start and end timestamp.\n",
    "\n",
    "### **Timestamp**\n",
    "\n",
    "***Timestamp*** is pandas equivalent of python’s datetime.datetime object and is interchangeable with it in most cases. It’s the type used for the entries that make up a DatetimeIndex, and other timeseries oriented data structures in pandas."
   ]
  },
  {
   "cell_type": "code",
   "execution_count": 1,
   "metadata": {},
   "outputs": [],
   "source": [
    "import pandas as pd"
   ]
  },
  {
   "cell_type": "markdown",
   "metadata": {},
   "source": [
    "### **Convert strings to Datetimes**\n",
    "Strings can be converted to dates using **pd.to_datetime**.\n",
    "\n",
    "Note: Information on format can be found here: https://docs.python.org/3/library/datetime.html#strftime-and-strptime-behavior)"
   ]
  },
  {
   "cell_type": "code",
   "execution_count": 3,
   "metadata": {},
   "outputs": [],
   "source": [
    "mytimestamp = '2021/10/23 4:34:2'"
   ]
  },
  {
   "cell_type": "code",
   "execution_count": 5,
   "metadata": {},
   "outputs": [
    {
     "data": {
      "text/plain": [
       "str"
      ]
     },
     "execution_count": 5,
     "metadata": {},
     "output_type": "execute_result"
    }
   ],
   "source": [
    "type(mytimestamp)"
   ]
  },
  {
   "cell_type": "code",
   "execution_count": 8,
   "metadata": {},
   "outputs": [],
   "source": [
    "mytimestamp = pd.to_datetime(mytimestamp)"
   ]
  },
  {
   "cell_type": "code",
   "execution_count": 10,
   "metadata": {},
   "outputs": [
    {
     "data": {
      "text/plain": [
       "pandas._libs.tslibs.timestamps.Timestamp"
      ]
     },
     "execution_count": 10,
     "metadata": {},
     "output_type": "execute_result"
    }
   ],
   "source": [
    "type(mytimestamp)"
   ]
  },
  {
   "cell_type": "code",
   "execution_count": 11,
   "metadata": {},
   "outputs": [
    {
     "data": {
      "text/plain": [
       "Timestamp('2021-02-19 22:45:56')"
      ]
     },
     "execution_count": 11,
     "metadata": {},
     "output_type": "execute_result"
    }
   ],
   "source": [
    "pd.to_datetime('2021-02-19 22:45:56', format = '%Y-%m-%d')"
   ]
  },
  {
   "cell_type": "markdown",
   "metadata": {},
   "source": [
    "### **Convert a list of dates from string to Timestamp**"
   ]
  },
  {
   "cell_type": "code",
   "execution_count": 12,
   "metadata": {},
   "outputs": [],
   "source": [
    "date_list_str = ['2021-03-14', '2020-12-25', '2025-02-19']"
   ]
  },
  {
   "cell_type": "code",
   "execution_count": 13,
   "metadata": {},
   "outputs": [
    {
     "data": {
      "text/plain": [
       "['2021-03-14', '2020-12-25', '2025-02-19']"
      ]
     },
     "execution_count": 13,
     "metadata": {},
     "output_type": "execute_result"
    }
   ],
   "source": [
    "date_list_str"
   ]
  },
  {
   "cell_type": "code",
   "execution_count": 14,
   "metadata": {},
   "outputs": [
    {
     "data": {
      "text/plain": [
       "DatetimeIndex(['2021-03-14', '2020-12-25', '2025-02-19'], dtype='datetime64[ns]', freq=None)"
      ]
     },
     "execution_count": 14,
     "metadata": {},
     "output_type": "execute_result"
    }
   ],
   "source": [
    "pd.to_datetime(date_list_str)"
   ]
  },
  {
   "cell_type": "markdown",
   "metadata": {},
   "source": [
    "### **Dealing with missing values**"
   ]
  },
  {
   "cell_type": "code",
   "execution_count": 15,
   "metadata": {},
   "outputs": [],
   "source": [
    "date_list_str2 = ['2021-03-14', '2020-12-25', '2025-02-19', '2021-04-14', None]"
   ]
  },
  {
   "cell_type": "code",
   "execution_count": 16,
   "metadata": {},
   "outputs": [
    {
     "data": {
      "text/plain": [
       "['2021-03-14', '2020-12-25', '2025-02-19', '2021-04-14', None]"
      ]
     },
     "execution_count": 16,
     "metadata": {},
     "output_type": "execute_result"
    }
   ],
   "source": [
    "date_list_str2"
   ]
  },
  {
   "cell_type": "code",
   "execution_count": 17,
   "metadata": {},
   "outputs": [
    {
     "data": {
      "text/plain": [
       "DatetimeIndex(['2021-03-14', '2020-12-25', '2025-02-19', '2021-04-14', 'NaT'], dtype='datetime64[ns]', freq=None)"
      ]
     },
     "execution_count": 17,
     "metadata": {},
     "output_type": "execute_result"
    }
   ],
   "source": [
    "pd.to_datetime(date_list_str2)"
   ]
  },
  {
   "cell_type": "markdown",
   "metadata": {},
   "source": [
    "**NaT** means Not a Time"
   ]
  },
  {
   "cell_type": "markdown",
   "metadata": {},
   "source": [
    "### **Reading data from a csv file using pandas**\n",
    "More information on data here: https://github.com/mbonnemaison/adelego"
   ]
  },
  {
   "cell_type": "code",
   "execution_count": 41,
   "metadata": {},
   "outputs": [],
   "source": [
    "data = pd.read_csv(\"24h_2021-03-14.csv\",  sep = '\\t')"
   ]
  },
  {
   "cell_type": "code",
   "execution_count": 24,
   "metadata": {},
   "outputs": [
    {
     "data": {
      "text/html": [
       "<div>\n",
       "<style scoped>\n",
       "    .dataframe tbody tr th:only-of-type {\n",
       "        vertical-align: middle;\n",
       "    }\n",
       "\n",
       "    .dataframe tbody tr th {\n",
       "        vertical-align: top;\n",
       "    }\n",
       "\n",
       "    .dataframe thead th {\n",
       "        text-align: right;\n",
       "    }\n",
       "</style>\n",
       "<table border=\"1\" class=\"dataframe\">\n",
       "  <thead>\n",
       "    <tr style=\"text-align: right;\">\n",
       "      <th></th>\n",
       "      <th>Date</th>\n",
       "      <th>Equipment</th>\n",
       "      <th>Parameter</th>\n",
       "      <th>Value</th>\n",
       "      <th>Unit</th>\n",
       "    </tr>\n",
       "  </thead>\n",
       "  <tbody>\n",
       "    <tr>\n",
       "      <th>0</th>\n",
       "      <td>2021-03-14 00:10:00</td>\n",
       "      <td>5MultiSensor 6 (ZW100)</td>\n",
       "      <td>HUMIDITY</td>\n",
       "      <td>21,000000000</td>\n",
       "      <td>%</td>\n",
       "    </tr>\n",
       "    <tr>\n",
       "      <th>1</th>\n",
       "      <td>2021-03-14 01:10:00</td>\n",
       "      <td>5MultiSensor 6 (ZW100)</td>\n",
       "      <td>HUMIDITY</td>\n",
       "      <td>20,750000000</td>\n",
       "      <td>%</td>\n",
       "    </tr>\n",
       "    <tr>\n",
       "      <th>2</th>\n",
       "      <td>2021-03-14 03:10:00</td>\n",
       "      <td>5MultiSensor 6 (ZW100)</td>\n",
       "      <td>HUMIDITY</td>\n",
       "      <td>20</td>\n",
       "      <td>%</td>\n",
       "    </tr>\n",
       "    <tr>\n",
       "      <th>3</th>\n",
       "      <td>2021-03-14 03:25:00</td>\n",
       "      <td>5MultiSensor 6 (ZW100)</td>\n",
       "      <td>HUMIDITY</td>\n",
       "      <td>21</td>\n",
       "      <td>%</td>\n",
       "    </tr>\n",
       "    <tr>\n",
       "      <th>4</th>\n",
       "      <td>2021-03-14 03:40:00</td>\n",
       "      <td>5MultiSensor 6 (ZW100)</td>\n",
       "      <td>HUMIDITY</td>\n",
       "      <td>21</td>\n",
       "      <td>%</td>\n",
       "    </tr>\n",
       "    <tr>\n",
       "      <th>...</th>\n",
       "      <td>...</td>\n",
       "      <td>...</td>\n",
       "      <td>...</td>\n",
       "      <td>...</td>\n",
       "      <td>...</td>\n",
       "    </tr>\n",
       "    <tr>\n",
       "      <th>431</th>\n",
       "      <td>2021-03-14 22:55:00</td>\n",
       "      <td>5MultiSensor 6 (ZW100)</td>\n",
       "      <td>UV</td>\n",
       "      <td>0</td>\n",
       "      <td>NaN</td>\n",
       "    </tr>\n",
       "    <tr>\n",
       "      <th>432</th>\n",
       "      <td>2021-03-14 23:10:00</td>\n",
       "      <td>5MultiSensor 6 (ZW100)</td>\n",
       "      <td>UV</td>\n",
       "      <td>0</td>\n",
       "      <td>NaN</td>\n",
       "    </tr>\n",
       "    <tr>\n",
       "      <th>433</th>\n",
       "      <td>2021-03-14 23:25:00</td>\n",
       "      <td>5MultiSensor 6 (ZW100)</td>\n",
       "      <td>UV</td>\n",
       "      <td>0</td>\n",
       "      <td>NaN</td>\n",
       "    </tr>\n",
       "    <tr>\n",
       "      <th>434</th>\n",
       "      <td>2021-03-14 23:40:00</td>\n",
       "      <td>5MultiSensor 6 (ZW100)</td>\n",
       "      <td>UV</td>\n",
       "      <td>0</td>\n",
       "      <td>NaN</td>\n",
       "    </tr>\n",
       "    <tr>\n",
       "      <th>435</th>\n",
       "      <td>2021-03-14 23:55:00</td>\n",
       "      <td>5MultiSensor 6 (ZW100)</td>\n",
       "      <td>UV</td>\n",
       "      <td>0</td>\n",
       "      <td>NaN</td>\n",
       "    </tr>\n",
       "  </tbody>\n",
       "</table>\n",
       "<p>436 rows × 5 columns</p>\n",
       "</div>"
      ],
      "text/plain": [
       "                    Date               Equipment Parameter         Value Unit\n",
       "0    2021-03-14 00:10:00  5MultiSensor 6 (ZW100)  HUMIDITY  21,000000000    %\n",
       "1    2021-03-14 01:10:00  5MultiSensor 6 (ZW100)  HUMIDITY  20,750000000    %\n",
       "2    2021-03-14 03:10:00  5MultiSensor 6 (ZW100)  HUMIDITY            20    %\n",
       "3    2021-03-14 03:25:00  5MultiSensor 6 (ZW100)  HUMIDITY            21    %\n",
       "4    2021-03-14 03:40:00  5MultiSensor 6 (ZW100)  HUMIDITY            21    %\n",
       "..                   ...                     ...       ...           ...  ...\n",
       "431  2021-03-14 22:55:00  5MultiSensor 6 (ZW100)        UV             0  NaN\n",
       "432  2021-03-14 23:10:00  5MultiSensor 6 (ZW100)        UV             0  NaN\n",
       "433  2021-03-14 23:25:00  5MultiSensor 6 (ZW100)        UV             0  NaN\n",
       "434  2021-03-14 23:40:00  5MultiSensor 6 (ZW100)        UV             0  NaN\n",
       "435  2021-03-14 23:55:00  5MultiSensor 6 (ZW100)        UV             0  NaN\n",
       "\n",
       "[436 rows x 5 columns]"
      ]
     },
     "execution_count": 24,
     "metadata": {},
     "output_type": "execute_result"
    }
   ],
   "source": [
    "data"
   ]
  },
  {
   "cell_type": "code",
   "execution_count": 25,
   "metadata": {},
   "outputs": [
    {
     "name": "stdout",
     "output_type": "stream",
     "text": [
      "<class 'pandas.core.frame.DataFrame'>\n",
      "RangeIndex: 436 entries, 0 to 435\n",
      "Data columns (total 5 columns):\n",
      " #   Column     Non-Null Count  Dtype \n",
      "---  ------     --------------  ----- \n",
      " 0   Date       436 non-null    object\n",
      " 1   Equipment  436 non-null    object\n",
      " 2   Parameter  436 non-null    object\n",
      " 3   Value      436 non-null    object\n",
      " 4   Unit       258 non-null    object\n",
      "dtypes: object(5)\n",
      "memory usage: 17.2+ KB\n"
     ]
    }
   ],
   "source": [
    "data.info()"
   ]
  },
  {
   "cell_type": "code",
   "execution_count": 26,
   "metadata": {},
   "outputs": [
    {
     "data": {
      "text/plain": [
       "0      2021-03-14 00:10:00\n",
       "1      2021-03-14 01:10:00\n",
       "2      2021-03-14 03:10:00\n",
       "3      2021-03-14 03:25:00\n",
       "4      2021-03-14 03:40:00\n",
       "              ...         \n",
       "431    2021-03-14 22:55:00\n",
       "432    2021-03-14 23:10:00\n",
       "433    2021-03-14 23:25:00\n",
       "434    2021-03-14 23:40:00\n",
       "435    2021-03-14 23:55:00\n",
       "Name: Date, Length: 436, dtype: object"
      ]
     },
     "execution_count": 26,
     "metadata": {},
     "output_type": "execute_result"
    }
   ],
   "source": [
    "#Select a column\n",
    "data['Date']"
   ]
  },
  {
   "cell_type": "code",
   "execution_count": 27,
   "metadata": {},
   "outputs": [
    {
     "data": {
      "text/plain": [
       "'2021-03-14 00:10:00'"
      ]
     },
     "execution_count": 27,
     "metadata": {},
     "output_type": "execute_result"
    }
   ],
   "source": [
    "#Select a cell\n",
    "data['Date'][0]"
   ]
  },
  {
   "cell_type": "code",
   "execution_count": 28,
   "metadata": {},
   "outputs": [
    {
     "data": {
      "text/plain": [
       "UV             86\n",
       "HUMIDITY       86\n",
       "TEMPERATURE    86\n",
       "BRIGHTNESS     86\n",
       "SABOTAGE       46\n",
       "PRESENCE       46\n",
       "Name: Parameter, dtype: int64"
      ]
     },
     "execution_count": 28,
     "metadata": {},
     "output_type": "execute_result"
    }
   ],
   "source": [
    "data['Parameter'].value_counts()"
   ]
  },
  {
   "cell_type": "markdown",
   "metadata": {},
   "source": [
    "### **Convert values in the \"Date\" column from string to Timestamp**"
   ]
  },
  {
   "cell_type": "code",
   "execution_count": 29,
   "metadata": {},
   "outputs": [],
   "source": [
    "data[\"Date\"] = pd.to_datetime(data[\"Date\"])"
   ]
  },
  {
   "cell_type": "code",
   "execution_count": 30,
   "metadata": {},
   "outputs": [
    {
     "data": {
      "text/plain": [
       "Timestamp('2021-03-14 00:10:00')"
      ]
     },
     "execution_count": 30,
     "metadata": {},
     "output_type": "execute_result"
    }
   ],
   "source": [
    "data[\"Date\"][0]"
   ]
  },
  {
   "cell_type": "code",
   "execution_count": 31,
   "metadata": {},
   "outputs": [
    {
     "name": "stdout",
     "output_type": "stream",
     "text": [
      "<class 'pandas.core.frame.DataFrame'>\n",
      "RangeIndex: 436 entries, 0 to 435\n",
      "Data columns (total 5 columns):\n",
      " #   Column     Non-Null Count  Dtype         \n",
      "---  ------     --------------  -----         \n",
      " 0   Date       436 non-null    datetime64[ns]\n",
      " 1   Equipment  436 non-null    object        \n",
      " 2   Parameter  436 non-null    object        \n",
      " 3   Value      436 non-null    object        \n",
      " 4   Unit       258 non-null    object        \n",
      "dtypes: datetime64[ns](1), object(4)\n",
      "memory usage: 17.2+ KB\n"
     ]
    }
   ],
   "source": [
    "data.info()"
   ]
  },
  {
   "cell_type": "markdown",
   "metadata": {},
   "source": [
    "***Missing values in DataFrame...***"
   ]
  },
  {
   "cell_type": "code",
   "execution_count": 32,
   "metadata": {},
   "outputs": [],
   "source": [
    "dataNaT = pd.read_csv(\"24h_2021-03-14_NaT.csv\", sep = '\\t')"
   ]
  },
  {
   "cell_type": "code",
   "execution_count": 33,
   "metadata": {},
   "outputs": [
    {
     "data": {
      "text/html": [
       "<div>\n",
       "<style scoped>\n",
       "    .dataframe tbody tr th:only-of-type {\n",
       "        vertical-align: middle;\n",
       "    }\n",
       "\n",
       "    .dataframe tbody tr th {\n",
       "        vertical-align: top;\n",
       "    }\n",
       "\n",
       "    .dataframe thead th {\n",
       "        text-align: right;\n",
       "    }\n",
       "</style>\n",
       "<table border=\"1\" class=\"dataframe\">\n",
       "  <thead>\n",
       "    <tr style=\"text-align: right;\">\n",
       "      <th></th>\n",
       "      <th>Date</th>\n",
       "      <th>Equipment</th>\n",
       "      <th>Parameter</th>\n",
       "      <th>Value</th>\n",
       "      <th>Unit</th>\n",
       "    </tr>\n",
       "  </thead>\n",
       "  <tbody>\n",
       "    <tr>\n",
       "      <th>0</th>\n",
       "      <td>NaN</td>\n",
       "      <td>5MultiSensor 6 (ZW100)</td>\n",
       "      <td>HUMIDITY</td>\n",
       "      <td>21,000000000</td>\n",
       "      <td>%</td>\n",
       "    </tr>\n",
       "    <tr>\n",
       "      <th>1</th>\n",
       "      <td>NaN</td>\n",
       "      <td>5MultiSensor 6 (ZW100)</td>\n",
       "      <td>HUMIDITY</td>\n",
       "      <td>20,750000000</td>\n",
       "      <td>%</td>\n",
       "    </tr>\n",
       "    <tr>\n",
       "      <th>2</th>\n",
       "      <td>NaN</td>\n",
       "      <td>5MultiSensor 6 (ZW100)</td>\n",
       "      <td>HUMIDITY</td>\n",
       "      <td>20</td>\n",
       "      <td>%</td>\n",
       "    </tr>\n",
       "    <tr>\n",
       "      <th>3</th>\n",
       "      <td>NaN</td>\n",
       "      <td>5MultiSensor 6 (ZW100)</td>\n",
       "      <td>HUMIDITY</td>\n",
       "      <td>21</td>\n",
       "      <td>%</td>\n",
       "    </tr>\n",
       "    <tr>\n",
       "      <th>4</th>\n",
       "      <td>NaN</td>\n",
       "      <td>5MultiSensor 6 (ZW100)</td>\n",
       "      <td>HUMIDITY</td>\n",
       "      <td>21</td>\n",
       "      <td>%</td>\n",
       "    </tr>\n",
       "    <tr>\n",
       "      <th>5</th>\n",
       "      <td>2021-03-14 03:55:00</td>\n",
       "      <td>5MultiSensor 6 (ZW100)</td>\n",
       "      <td>HUMIDITY</td>\n",
       "      <td>21</td>\n",
       "      <td>%</td>\n",
       "    </tr>\n",
       "    <tr>\n",
       "      <th>6</th>\n",
       "      <td>2021-03-14 04:10:00</td>\n",
       "      <td>5MultiSensor 6 (ZW100)</td>\n",
       "      <td>HUMIDITY</td>\n",
       "      <td>21</td>\n",
       "      <td>%</td>\n",
       "    </tr>\n",
       "    <tr>\n",
       "      <th>7</th>\n",
       "      <td>2021-03-14 04:25:00</td>\n",
       "      <td>5MultiSensor 6 (ZW100)</td>\n",
       "      <td>HUMIDITY</td>\n",
       "      <td>20</td>\n",
       "      <td>%</td>\n",
       "    </tr>\n",
       "    <tr>\n",
       "      <th>8</th>\n",
       "      <td>2021-03-14 04:40:00</td>\n",
       "      <td>5MultiSensor 6 (ZW100)</td>\n",
       "      <td>HUMIDITY</td>\n",
       "      <td>21</td>\n",
       "      <td>%</td>\n",
       "    </tr>\n",
       "    <tr>\n",
       "      <th>9</th>\n",
       "      <td>2021-03-14 04:55:00</td>\n",
       "      <td>5MultiSensor 6 (ZW100)</td>\n",
       "      <td>HUMIDITY</td>\n",
       "      <td>21</td>\n",
       "      <td>%</td>\n",
       "    </tr>\n",
       "  </tbody>\n",
       "</table>\n",
       "</div>"
      ],
      "text/plain": [
       "                  Date               Equipment Parameter         Value Unit\n",
       "0                  NaN  5MultiSensor 6 (ZW100)  HUMIDITY  21,000000000    %\n",
       "1                  NaN  5MultiSensor 6 (ZW100)  HUMIDITY  20,750000000    %\n",
       "2                  NaN  5MultiSensor 6 (ZW100)  HUMIDITY            20    %\n",
       "3                  NaN  5MultiSensor 6 (ZW100)  HUMIDITY            21    %\n",
       "4                  NaN  5MultiSensor 6 (ZW100)  HUMIDITY            21    %\n",
       "5  2021-03-14 03:55:00  5MultiSensor 6 (ZW100)  HUMIDITY            21    %\n",
       "6  2021-03-14 04:10:00  5MultiSensor 6 (ZW100)  HUMIDITY            21    %\n",
       "7  2021-03-14 04:25:00  5MultiSensor 6 (ZW100)  HUMIDITY            20    %\n",
       "8  2021-03-14 04:40:00  5MultiSensor 6 (ZW100)  HUMIDITY            21    %\n",
       "9  2021-03-14 04:55:00  5MultiSensor 6 (ZW100)  HUMIDITY            21    %"
      ]
     },
     "execution_count": 33,
     "metadata": {},
     "output_type": "execute_result"
    }
   ],
   "source": [
    "dataNaT.head(10)"
   ]
  },
  {
   "cell_type": "code",
   "execution_count": 34,
   "metadata": {},
   "outputs": [
    {
     "name": "stdout",
     "output_type": "stream",
     "text": [
      "<class 'pandas.core.frame.DataFrame'>\n",
      "RangeIndex: 436 entries, 0 to 435\n",
      "Data columns (total 5 columns):\n",
      " #   Column     Non-Null Count  Dtype \n",
      "---  ------     --------------  ----- \n",
      " 0   Date       431 non-null    object\n",
      " 1   Equipment  436 non-null    object\n",
      " 2   Parameter  436 non-null    object\n",
      " 3   Value      436 non-null    object\n",
      " 4   Unit       258 non-null    object\n",
      "dtypes: object(5)\n",
      "memory usage: 17.2+ KB\n"
     ]
    }
   ],
   "source": [
    "dataNaT.info()"
   ]
  },
  {
   "cell_type": "code",
   "execution_count": 35,
   "metadata": {},
   "outputs": [],
   "source": [
    "dataNaT[\"Date\"] = pd.to_datetime(dataNaT[\"Date\"])"
   ]
  },
  {
   "cell_type": "code",
   "execution_count": 36,
   "metadata": {},
   "outputs": [
    {
     "name": "stdout",
     "output_type": "stream",
     "text": [
      "<class 'pandas.core.frame.DataFrame'>\n",
      "RangeIndex: 436 entries, 0 to 435\n",
      "Data columns (total 5 columns):\n",
      " #   Column     Non-Null Count  Dtype         \n",
      "---  ------     --------------  -----         \n",
      " 0   Date       431 non-null    datetime64[ns]\n",
      " 1   Equipment  436 non-null    object        \n",
      " 2   Parameter  436 non-null    object        \n",
      " 3   Value      436 non-null    object        \n",
      " 4   Unit       258 non-null    object        \n",
      "dtypes: datetime64[ns](1), object(4)\n",
      "memory usage: 17.2+ KB\n"
     ]
    }
   ],
   "source": [
    "dataNaT.info()"
   ]
  },
  {
   "cell_type": "code",
   "execution_count": 38,
   "metadata": {},
   "outputs": [
    {
     "data": {
      "text/html": [
       "<div>\n",
       "<style scoped>\n",
       "    .dataframe tbody tr th:only-of-type {\n",
       "        vertical-align: middle;\n",
       "    }\n",
       "\n",
       "    .dataframe tbody tr th {\n",
       "        vertical-align: top;\n",
       "    }\n",
       "\n",
       "    .dataframe thead th {\n",
       "        text-align: right;\n",
       "    }\n",
       "</style>\n",
       "<table border=\"1\" class=\"dataframe\">\n",
       "  <thead>\n",
       "    <tr style=\"text-align: right;\">\n",
       "      <th></th>\n",
       "      <th>Date</th>\n",
       "      <th>Equipment</th>\n",
       "      <th>Parameter</th>\n",
       "      <th>Value</th>\n",
       "      <th>Unit</th>\n",
       "    </tr>\n",
       "  </thead>\n",
       "  <tbody>\n",
       "    <tr>\n",
       "      <th>0</th>\n",
       "      <td>NaT</td>\n",
       "      <td>5MultiSensor 6 (ZW100)</td>\n",
       "      <td>HUMIDITY</td>\n",
       "      <td>21,000000000</td>\n",
       "      <td>%</td>\n",
       "    </tr>\n",
       "    <tr>\n",
       "      <th>1</th>\n",
       "      <td>NaT</td>\n",
       "      <td>5MultiSensor 6 (ZW100)</td>\n",
       "      <td>HUMIDITY</td>\n",
       "      <td>20,750000000</td>\n",
       "      <td>%</td>\n",
       "    </tr>\n",
       "    <tr>\n",
       "      <th>2</th>\n",
       "      <td>NaT</td>\n",
       "      <td>5MultiSensor 6 (ZW100)</td>\n",
       "      <td>HUMIDITY</td>\n",
       "      <td>20</td>\n",
       "      <td>%</td>\n",
       "    </tr>\n",
       "    <tr>\n",
       "      <th>3</th>\n",
       "      <td>NaT</td>\n",
       "      <td>5MultiSensor 6 (ZW100)</td>\n",
       "      <td>HUMIDITY</td>\n",
       "      <td>21</td>\n",
       "      <td>%</td>\n",
       "    </tr>\n",
       "    <tr>\n",
       "      <th>4</th>\n",
       "      <td>NaT</td>\n",
       "      <td>5MultiSensor 6 (ZW100)</td>\n",
       "      <td>HUMIDITY</td>\n",
       "      <td>21</td>\n",
       "      <td>%</td>\n",
       "    </tr>\n",
       "    <tr>\n",
       "      <th>5</th>\n",
       "      <td>2021-03-14 03:55:00</td>\n",
       "      <td>5MultiSensor 6 (ZW100)</td>\n",
       "      <td>HUMIDITY</td>\n",
       "      <td>21</td>\n",
       "      <td>%</td>\n",
       "    </tr>\n",
       "    <tr>\n",
       "      <th>6</th>\n",
       "      <td>2021-03-14 04:10:00</td>\n",
       "      <td>5MultiSensor 6 (ZW100)</td>\n",
       "      <td>HUMIDITY</td>\n",
       "      <td>21</td>\n",
       "      <td>%</td>\n",
       "    </tr>\n",
       "    <tr>\n",
       "      <th>7</th>\n",
       "      <td>2021-03-14 04:25:00</td>\n",
       "      <td>5MultiSensor 6 (ZW100)</td>\n",
       "      <td>HUMIDITY</td>\n",
       "      <td>20</td>\n",
       "      <td>%</td>\n",
       "    </tr>\n",
       "    <tr>\n",
       "      <th>8</th>\n",
       "      <td>2021-03-14 04:40:00</td>\n",
       "      <td>5MultiSensor 6 (ZW100)</td>\n",
       "      <td>HUMIDITY</td>\n",
       "      <td>21</td>\n",
       "      <td>%</td>\n",
       "    </tr>\n",
       "    <tr>\n",
       "      <th>9</th>\n",
       "      <td>2021-03-14 04:55:00</td>\n",
       "      <td>5MultiSensor 6 (ZW100)</td>\n",
       "      <td>HUMIDITY</td>\n",
       "      <td>21</td>\n",
       "      <td>%</td>\n",
       "    </tr>\n",
       "  </tbody>\n",
       "</table>\n",
       "</div>"
      ],
      "text/plain": [
       "                 Date               Equipment Parameter         Value Unit\n",
       "0                 NaT  5MultiSensor 6 (ZW100)  HUMIDITY  21,000000000    %\n",
       "1                 NaT  5MultiSensor 6 (ZW100)  HUMIDITY  20,750000000    %\n",
       "2                 NaT  5MultiSensor 6 (ZW100)  HUMIDITY            20    %\n",
       "3                 NaT  5MultiSensor 6 (ZW100)  HUMIDITY            21    %\n",
       "4                 NaT  5MultiSensor 6 (ZW100)  HUMIDITY            21    %\n",
       "5 2021-03-14 03:55:00  5MultiSensor 6 (ZW100)  HUMIDITY            21    %\n",
       "6 2021-03-14 04:10:00  5MultiSensor 6 (ZW100)  HUMIDITY            21    %\n",
       "7 2021-03-14 04:25:00  5MultiSensor 6 (ZW100)  HUMIDITY            20    %\n",
       "8 2021-03-14 04:40:00  5MultiSensor 6 (ZW100)  HUMIDITY            21    %\n",
       "9 2021-03-14 04:55:00  5MultiSensor 6 (ZW100)  HUMIDITY            21    %"
      ]
     },
     "execution_count": 38,
     "metadata": {},
     "output_type": "execute_result"
    }
   ],
   "source": [
    "dataNaT.head(10)"
   ]
  },
  {
   "cell_type": "code",
   "execution_count": 37,
   "metadata": {},
   "outputs": [
    {
     "data": {
      "text/plain": [
       "Timestamp('2021-03-14 10:55:00')"
      ]
     },
     "execution_count": 37,
     "metadata": {},
     "output_type": "execute_result"
    }
   ],
   "source": [
    "dataNaT[\"Date\"][33]"
   ]
  },
  {
   "cell_type": "markdown",
   "metadata": {},
   "source": [
    "### **Data manipulations with Timestamps in pandas**\n",
    "**Select rows**"
   ]
  },
  {
   "cell_type": "code",
   "execution_count": 39,
   "metadata": {},
   "outputs": [
    {
     "data": {
      "text/html": [
       "<div>\n",
       "<style scoped>\n",
       "    .dataframe tbody tr th:only-of-type {\n",
       "        vertical-align: middle;\n",
       "    }\n",
       "\n",
       "    .dataframe tbody tr th {\n",
       "        vertical-align: top;\n",
       "    }\n",
       "\n",
       "    .dataframe thead th {\n",
       "        text-align: right;\n",
       "    }\n",
       "</style>\n",
       "<table border=\"1\" class=\"dataframe\">\n",
       "  <thead>\n",
       "    <tr style=\"text-align: right;\">\n",
       "      <th></th>\n",
       "      <th>Date</th>\n",
       "      <th>Equipment</th>\n",
       "      <th>Parameter</th>\n",
       "      <th>Value</th>\n",
       "      <th>Unit</th>\n",
       "    </tr>\n",
       "  </thead>\n",
       "  <tbody>\n",
       "    <tr>\n",
       "      <th>1</th>\n",
       "      <td>2021-03-14 01:10:00</td>\n",
       "      <td>5MultiSensor 6 (ZW100)</td>\n",
       "      <td>HUMIDITY</td>\n",
       "      <td>20,750000000</td>\n",
       "      <td>%</td>\n",
       "    </tr>\n",
       "    <tr>\n",
       "      <th>2</th>\n",
       "      <td>2021-03-14 03:10:00</td>\n",
       "      <td>5MultiSensor 6 (ZW100)</td>\n",
       "      <td>HUMIDITY</td>\n",
       "      <td>20</td>\n",
       "      <td>%</td>\n",
       "    </tr>\n",
       "  </tbody>\n",
       "</table>\n",
       "</div>"
      ],
      "text/plain": [
       "                 Date               Equipment Parameter         Value Unit\n",
       "1 2021-03-14 01:10:00  5MultiSensor 6 (ZW100)  HUMIDITY  20,750000000    %\n",
       "2 2021-03-14 03:10:00  5MultiSensor 6 (ZW100)  HUMIDITY            20    %"
      ]
     },
     "execution_count": 39,
     "metadata": {},
     "output_type": "execute_result"
    }
   ],
   "source": [
    "data.iloc[1:3]"
   ]
  },
  {
   "cell_type": "code",
   "execution_count": null,
   "metadata": {},
   "outputs": [],
   "source": [
    "data.loc[(data['Date'] > '2021-03-14 03:14:15') & (data['Date'] < '2021-03-14 15:00:00') & (data['Parameter'] == 'HUMIDITY')]"
   ]
  },
  {
   "cell_type": "markdown",
   "metadata": {},
   "source": [
    "**Sort values**"
   ]
  },
  {
   "cell_type": "code",
   "execution_count": 43,
   "metadata": {},
   "outputs": [
    {
     "data": {
      "text/html": [
       "<div>\n",
       "<style scoped>\n",
       "    .dataframe tbody tr th:only-of-type {\n",
       "        vertical-align: middle;\n",
       "    }\n",
       "\n",
       "    .dataframe tbody tr th {\n",
       "        vertical-align: top;\n",
       "    }\n",
       "\n",
       "    .dataframe thead th {\n",
       "        text-align: right;\n",
       "    }\n",
       "</style>\n",
       "<table border=\"1\" class=\"dataframe\">\n",
       "  <thead>\n",
       "    <tr style=\"text-align: right;\">\n",
       "      <th></th>\n",
       "      <th>Date</th>\n",
       "      <th>Equipment</th>\n",
       "      <th>Parameter</th>\n",
       "      <th>Value</th>\n",
       "      <th>Unit</th>\n",
       "    </tr>\n",
       "  </thead>\n",
       "  <tbody>\n",
       "    <tr>\n",
       "      <th>0</th>\n",
       "      <td>2021-03-14 00:10:00</td>\n",
       "      <td>5MultiSensor 6 (ZW100)</td>\n",
       "      <td>HUMIDITY</td>\n",
       "      <td>21,000000000</td>\n",
       "      <td>%</td>\n",
       "    </tr>\n",
       "    <tr>\n",
       "      <th>350</th>\n",
       "      <td>2021-03-14 00:10:00</td>\n",
       "      <td>5MultiSensor 6 (ZW100)</td>\n",
       "      <td>UV</td>\n",
       "      <td>0</td>\n",
       "      <td>NaN</td>\n",
       "    </tr>\n",
       "    <tr>\n",
       "      <th>264</th>\n",
       "      <td>2021-03-14 00:10:00</td>\n",
       "      <td>5MultiSensor 6 (ZW100)</td>\n",
       "      <td>TEMPERATURE</td>\n",
       "      <td>20,525000000</td>\n",
       "      <td>°C</td>\n",
       "    </tr>\n",
       "    <tr>\n",
       "      <th>86</th>\n",
       "      <td>2021-03-14 00:10:00</td>\n",
       "      <td>5MultiSensor 6 (ZW100)</td>\n",
       "      <td>BRIGHTNESS</td>\n",
       "      <td>0</td>\n",
       "      <td>Lux</td>\n",
       "    </tr>\n",
       "    <tr>\n",
       "      <th>351</th>\n",
       "      <td>2021-03-14 01:10:00</td>\n",
       "      <td>5MultiSensor 6 (ZW100)</td>\n",
       "      <td>UV</td>\n",
       "      <td>0</td>\n",
       "      <td>NaN</td>\n",
       "    </tr>\n",
       "    <tr>\n",
       "      <th>...</th>\n",
       "      <td>...</td>\n",
       "      <td>...</td>\n",
       "      <td>...</td>\n",
       "      <td>...</td>\n",
       "      <td>...</td>\n",
       "    </tr>\n",
       "    <tr>\n",
       "      <th>84</th>\n",
       "      <td>2021-03-14 23:40:00</td>\n",
       "      <td>5MultiSensor 6 (ZW100)</td>\n",
       "      <td>HUMIDITY</td>\n",
       "      <td>20</td>\n",
       "      <td>%</td>\n",
       "    </tr>\n",
       "    <tr>\n",
       "      <th>85</th>\n",
       "      <td>2021-03-14 23:55:00</td>\n",
       "      <td>5MultiSensor 6 (ZW100)</td>\n",
       "      <td>HUMIDITY</td>\n",
       "      <td>21</td>\n",
       "      <td>%</td>\n",
       "    </tr>\n",
       "    <tr>\n",
       "      <th>349</th>\n",
       "      <td>2021-03-14 23:55:00</td>\n",
       "      <td>5MultiSensor 6 (ZW100)</td>\n",
       "      <td>TEMPERATURE</td>\n",
       "      <td>17,5</td>\n",
       "      <td>°C</td>\n",
       "    </tr>\n",
       "    <tr>\n",
       "      <th>171</th>\n",
       "      <td>2021-03-14 23:55:00</td>\n",
       "      <td>5MultiSensor 6 (ZW100)</td>\n",
       "      <td>BRIGHTNESS</td>\n",
       "      <td>0</td>\n",
       "      <td>Lux</td>\n",
       "    </tr>\n",
       "    <tr>\n",
       "      <th>435</th>\n",
       "      <td>2021-03-14 23:55:00</td>\n",
       "      <td>5MultiSensor 6 (ZW100)</td>\n",
       "      <td>UV</td>\n",
       "      <td>0</td>\n",
       "      <td>NaN</td>\n",
       "    </tr>\n",
       "  </tbody>\n",
       "</table>\n",
       "<p>436 rows × 5 columns</p>\n",
       "</div>"
      ],
      "text/plain": [
       "                    Date               Equipment    Parameter         Value  \\\n",
       "0    2021-03-14 00:10:00  5MultiSensor 6 (ZW100)     HUMIDITY  21,000000000   \n",
       "350  2021-03-14 00:10:00  5MultiSensor 6 (ZW100)           UV             0   \n",
       "264  2021-03-14 00:10:00  5MultiSensor 6 (ZW100)  TEMPERATURE  20,525000000   \n",
       "86   2021-03-14 00:10:00  5MultiSensor 6 (ZW100)   BRIGHTNESS             0   \n",
       "351  2021-03-14 01:10:00  5MultiSensor 6 (ZW100)           UV             0   \n",
       "..                   ...                     ...          ...           ...   \n",
       "84   2021-03-14 23:40:00  5MultiSensor 6 (ZW100)     HUMIDITY            20   \n",
       "85   2021-03-14 23:55:00  5MultiSensor 6 (ZW100)     HUMIDITY            21   \n",
       "349  2021-03-14 23:55:00  5MultiSensor 6 (ZW100)  TEMPERATURE          17,5   \n",
       "171  2021-03-14 23:55:00  5MultiSensor 6 (ZW100)   BRIGHTNESS             0   \n",
       "435  2021-03-14 23:55:00  5MultiSensor 6 (ZW100)           UV             0   \n",
       "\n",
       "    Unit  \n",
       "0      %  \n",
       "350  NaN  \n",
       "264   °C  \n",
       "86   Lux  \n",
       "351  NaN  \n",
       "..   ...  \n",
       "84     %  \n",
       "85     %  \n",
       "349   °C  \n",
       "171  Lux  \n",
       "435  NaN  \n",
       "\n",
       "[436 rows x 5 columns]"
      ]
     },
     "execution_count": 43,
     "metadata": {},
     "output_type": "execute_result"
    }
   ],
   "source": [
    "data.sort_values(by = [\"Date\"], ascending=True)"
   ]
  },
  {
   "cell_type": "code",
   "execution_count": 44,
   "metadata": {},
   "outputs": [
    {
     "name": "stdout",
     "output_type": "stream",
     "text": [
      "<class 'pandas.core.frame.DataFrame'>\n",
      "RangeIndex: 436 entries, 0 to 435\n",
      "Data columns (total 5 columns):\n",
      " #   Column     Non-Null Count  Dtype \n",
      "---  ------     --------------  ----- \n",
      " 0   Date       436 non-null    object\n",
      " 1   Equipment  436 non-null    object\n",
      " 2   Parameter  436 non-null    object\n",
      " 3   Value      436 non-null    object\n",
      " 4   Unit       258 non-null    object\n",
      "dtypes: object(5)\n",
      "memory usage: 17.2+ KB\n"
     ]
    }
   ],
   "source": [
    "data.info()"
   ]
  },
  {
   "cell_type": "markdown",
   "metadata": {},
   "source": [
    "### **Generate Timestamps at fixed frequency**\n",
    "*Fixed frequency* consists of data points that occur at regular intervals, like every 5 minutes."
   ]
  },
  {
   "cell_type": "code",
   "execution_count": 45,
   "metadata": {},
   "outputs": [],
   "source": [
    "tsff = pd.date_range(start = '1/1/2021', periods = 50, freq = '4h')"
   ]
  },
  {
   "cell_type": "code",
   "execution_count": 46,
   "metadata": {},
   "outputs": [
    {
     "data": {
      "text/plain": [
       "DatetimeIndex(['2021-01-01 00:00:00', '2021-01-01 04:00:00',\n",
       "               '2021-01-01 08:00:00', '2021-01-01 12:00:00',\n",
       "               '2021-01-01 16:00:00', '2021-01-01 20:00:00',\n",
       "               '2021-01-02 00:00:00', '2021-01-02 04:00:00',\n",
       "               '2021-01-02 08:00:00', '2021-01-02 12:00:00',\n",
       "               '2021-01-02 16:00:00', '2021-01-02 20:00:00',\n",
       "               '2021-01-03 00:00:00', '2021-01-03 04:00:00',\n",
       "               '2021-01-03 08:00:00', '2021-01-03 12:00:00',\n",
       "               '2021-01-03 16:00:00', '2021-01-03 20:00:00',\n",
       "               '2021-01-04 00:00:00', '2021-01-04 04:00:00',\n",
       "               '2021-01-04 08:00:00', '2021-01-04 12:00:00',\n",
       "               '2021-01-04 16:00:00', '2021-01-04 20:00:00',\n",
       "               '2021-01-05 00:00:00', '2021-01-05 04:00:00',\n",
       "               '2021-01-05 08:00:00', '2021-01-05 12:00:00',\n",
       "               '2021-01-05 16:00:00', '2021-01-05 20:00:00',\n",
       "               '2021-01-06 00:00:00', '2021-01-06 04:00:00',\n",
       "               '2021-01-06 08:00:00', '2021-01-06 12:00:00',\n",
       "               '2021-01-06 16:00:00', '2021-01-06 20:00:00',\n",
       "               '2021-01-07 00:00:00', '2021-01-07 04:00:00',\n",
       "               '2021-01-07 08:00:00', '2021-01-07 12:00:00',\n",
       "               '2021-01-07 16:00:00', '2021-01-07 20:00:00',\n",
       "               '2021-01-08 00:00:00', '2021-01-08 04:00:00',\n",
       "               '2021-01-08 08:00:00', '2021-01-08 12:00:00',\n",
       "               '2021-01-08 16:00:00', '2021-01-08 20:00:00',\n",
       "               '2021-01-09 00:00:00', '2021-01-09 04:00:00'],\n",
       "              dtype='datetime64[ns]', freq='4H')"
      ]
     },
     "execution_count": 46,
     "metadata": {},
     "output_type": "execute_result"
    }
   ],
   "source": [
    "tsff"
   ]
  },
  {
   "cell_type": "markdown",
   "metadata": {},
   "source": [
    "## **Timedeltas**\n",
    "Timedelta represents the temporal difference between two datetime objects."
   ]
  },
  {
   "cell_type": "code",
   "execution_count": 47,
   "metadata": {},
   "outputs": [
    {
     "data": {
      "text/plain": [
       "Timedelta('11 days 05:00:00')"
      ]
     },
     "execution_count": 47,
     "metadata": {},
     "output_type": "execute_result"
    }
   ],
   "source": [
    "pd.Timedelta(weeks = 1, days = 4, hours = 5)"
   ]
  },
  {
   "cell_type": "markdown",
   "metadata": {},
   "source": [
    "### **Timedelta operations**\n",
    "**Add time to Timestamps**"
   ]
  },
  {
   "cell_type": "code",
   "execution_count": 48,
   "metadata": {},
   "outputs": [],
   "source": [
    "ts = pd.to_datetime('2021/3/23 23:20:00') + pd.Timedelta(days=-3)"
   ]
  },
  {
   "cell_type": "code",
   "execution_count": 49,
   "metadata": {},
   "outputs": [
    {
     "data": {
      "text/plain": [
       "Timestamp('2021-03-20 23:20:00')"
      ]
     },
     "execution_count": 49,
     "metadata": {},
     "output_type": "execute_result"
    }
   ],
   "source": [
    "ts"
   ]
  },
  {
   "cell_type": "markdown",
   "metadata": {},
   "source": [
    "**Difference between Timestamps generates a Timedelta**"
   ]
  },
  {
   "cell_type": "code",
   "execution_count": 50,
   "metadata": {},
   "outputs": [],
   "source": [
    "delta = pd.to_datetime('2021/3/23 23:20:00') - pd.to_datetime('2021/3/20 2:34:14')"
   ]
  },
  {
   "cell_type": "code",
   "execution_count": 51,
   "metadata": {},
   "outputs": [
    {
     "data": {
      "text/plain": [
       "Timedelta('3 days 20:45:46')"
      ]
     },
     "execution_count": 51,
     "metadata": {},
     "output_type": "execute_result"
    }
   ],
   "source": [
    "delta"
   ]
  },
  {
   "cell_type": "markdown",
   "metadata": {},
   "source": [
    "**Adding Timedeltas**"
   ]
  },
  {
   "cell_type": "code",
   "execution_count": 52,
   "metadata": {},
   "outputs": [],
   "source": [
    "td1 = pd.Timedelta(weeks = 3, days = 3, hours = 3)\n",
    "td2 = pd.Timedelta(weeks = 1, days = 1, hours = 1)"
   ]
  },
  {
   "cell_type": "code",
   "execution_count": 53,
   "metadata": {},
   "outputs": [
    {
     "data": {
      "text/plain": [
       "Timedelta('32 days 04:00:00')"
      ]
     },
     "execution_count": 53,
     "metadata": {},
     "output_type": "execute_result"
    }
   ],
   "source": [
    "td1+td2"
   ]
  },
  {
   "cell_type": "markdown",
   "metadata": {},
   "source": [
    "### **Convert strings to Timedelta**"
   ]
  },
  {
   "cell_type": "code",
   "execution_count": 54,
   "metadata": {},
   "outputs": [
    {
     "data": {
      "text/plain": [
       "Timedelta('0 days 23:23:23')"
      ]
     },
     "execution_count": 54,
     "metadata": {},
     "output_type": "execute_result"
    }
   ],
   "source": [
    "pd.to_timedelta('23:23:23')"
   ]
  },
  {
   "cell_type": "markdown",
   "metadata": {},
   "source": [
    "## **Practice**"
   ]
  },
  {
   "cell_type": "code",
   "execution_count": null,
   "metadata": {},
   "outputs": [],
   "source": [
    "cities = pd.read_csv('top12.csv')"
   ]
  },
  {
   "cell_type": "code",
   "execution_count": null,
   "metadata": {},
   "outputs": [],
   "source": [
    "cities"
   ]
  },
  {
   "cell_type": "code",
   "execution_count": null,
   "metadata": {},
   "outputs": [],
   "source": [
    "cities.info()"
   ]
  },
  {
   "cell_type": "markdown",
   "metadata": {},
   "source": [
    "**Question 1**: How would you convert the Incorporated date from string to Timestamp?"
   ]
  },
  {
   "cell_type": "code",
   "execution_count": null,
   "metadata": {},
   "outputs": [],
   "source": [
    "cities['Incorporated'] = pd.to_datetime(cities['Incorporated'], format= '%m/%d/%Y')\n",
    "cities.info()"
   ]
  },
  {
   "cell_type": "code",
   "execution_count": null,
   "metadata": {},
   "outputs": [],
   "source": [
    "cities"
   ]
  },
  {
   "cell_type": "markdown",
   "metadata": {},
   "source": [
    "**Question 2**: How many days between Philadelphia and Dallas incorporated dates?"
   ]
  },
  {
   "cell_type": "code",
   "execution_count": null,
   "metadata": {},
   "outputs": [],
   "source": [
    "cities['Incorporated'][7] - cities['Incorporated'][4]"
   ]
  },
  {
   "cell_type": "markdown",
   "metadata": {},
   "source": [
    "## **Problems**\n",
    "### **Problem 1: Timestamp limitation**\n",
    "New York City was incorporated on September 2nd 1664. Convert this date into a Timestamp."
   ]
  },
  {
   "cell_type": "code",
   "execution_count": null,
   "metadata": {},
   "outputs": [],
   "source": [
    "NYC = pd.to_datetime('9-2-1664')"
   ]
  },
  {
   "cell_type": "markdown",
   "metadata": {},
   "source": [
    "Timestamp limitations: https://pandas-docs.github.io/pandas-docs-travis/user_guide/timeseries.html#timeseries-timestamp-limits\n",
    "\n",
    "#### Python ***datetime*** module\n",
    "Python provides the date and time functionality in the **datetime** module that contains three popular classes:\n",
    "\n",
    "- **Date class**: to work with dates (day, month, year)\n",
    "- **Time class**: to work with times (hours, minutes, seconds, microseconds)\n",
    "- **Datetime class**: to work with components of both date and time"
   ]
  },
  {
   "cell_type": "code",
   "execution_count": 56,
   "metadata": {},
   "outputs": [],
   "source": [
    "from datetime import datetime\n",
    "NYC2 = datetime(1664,9,2)"
   ]
  },
  {
   "cell_type": "code",
   "execution_count": null,
   "metadata": {},
   "outputs": [],
   "source": [
    "NYC2"
   ]
  },
  {
   "cell_type": "markdown",
   "metadata": {},
   "source": [
    "***Convert strings to datetime.datetime objects***"
   ]
  },
  {
   "cell_type": "code",
   "execution_count": 60,
   "metadata": {},
   "outputs": [
    {
     "data": {
      "text/plain": [
       "datetime.datetime(1664, 9, 2, 0, 0)"
      ]
     },
     "execution_count": 60,
     "metadata": {},
     "output_type": "execute_result"
    }
   ],
   "source": [
    "NYC3 = datetime.strptime('2/9/1664', '%d/%m/%Y')"
   ]
  },
  {
   "cell_type": "code",
   "execution_count": null,
   "metadata": {},
   "outputs": [],
   "source": [
    "NYC3"
   ]
  },
  {
   "cell_type": "markdown",
   "metadata": {},
   "source": [
    "***Working with a list of dates***"
   ]
  },
  {
   "cell_type": "code",
   "execution_count": null,
   "metadata": {},
   "outputs": [],
   "source": [
    "date_list_str = ['2021-03-14', '2020-12-25', '2025-02-19']"
   ]
  },
  {
   "cell_type": "code",
   "execution_count": null,
   "metadata": {},
   "outputs": [],
   "source": [
    "[datetime.strptime(x, '%Y-%m-%d') for x in date_list_str]"
   ]
  },
  {
   "cell_type": "markdown",
   "metadata": {},
   "source": [
    "### **Problem 2: Time zone**\n",
    "What time is it now?"
   ]
  },
  {
   "cell_type": "code",
   "execution_count": null,
   "metadata": {},
   "outputs": [],
   "source": [
    "now = pd.to_datetime('now')"
   ]
  },
  {
   "cell_type": "code",
   "execution_count": null,
   "metadata": {},
   "outputs": [],
   "source": [
    "now"
   ]
  },
  {
   "cell_type": "code",
   "execution_count": null,
   "metadata": {},
   "outputs": [],
   "source": [
    "now_utc = now.tz_localize('US/Eastern')"
   ]
  },
  {
   "cell_type": "code",
   "execution_count": null,
   "metadata": {},
   "outputs": [],
   "source": [
    "now_utc"
   ]
  },
  {
   "cell_type": "code",
   "execution_count": null,
   "metadata": {},
   "outputs": [],
   "source": [
    "now_est = now_utc.tz_convert('US/Pacific')"
   ]
  },
  {
   "cell_type": "code",
   "execution_count": null,
   "metadata": {},
   "outputs": [],
   "source": [
    "now_est"
   ]
  },
  {
   "cell_type": "markdown",
   "metadata": {},
   "source": [
    "There is conversion of TIMESTAMP values from the current time zone to UTC for storage, and back from UTC to the current time zone for retrieval.  By default, the current time zone for each connection is the server's time. This does not occur for other types such as DATETIME.\n",
    "#### Python **datetime** module"
   ]
  },
  {
   "cell_type": "code",
   "execution_count": 3,
   "metadata": {},
   "outputs": [],
   "source": [
    "now = datetime.now()"
   ]
  },
  {
   "cell_type": "code",
   "execution_count": 4,
   "metadata": {},
   "outputs": [
    {
     "data": {
      "text/plain": [
       "datetime.datetime(2021, 4, 4, 14, 5, 9, 636458)"
      ]
     },
     "execution_count": 4,
     "metadata": {},
     "output_type": "execute_result"
    }
   ],
   "source": [
    "now"
   ]
  },
  {
   "cell_type": "code",
   "execution_count": 7,
   "metadata": {},
   "outputs": [
    {
     "data": {
      "text/plain": [
       "datetime.date(2021, 4, 4)"
      ]
     },
     "execution_count": 7,
     "metadata": {},
     "output_type": "execute_result"
    }
   ],
   "source": [
    "now.date()"
   ]
  },
  {
   "cell_type": "code",
   "execution_count": 8,
   "metadata": {},
   "outputs": [
    {
     "data": {
      "text/plain": [
       "datetime.time(14, 5, 9, 636458)"
      ]
     },
     "execution_count": 8,
     "metadata": {},
     "output_type": "execute_result"
    }
   ],
   "source": [
    "now.time()"
   ]
  },
  {
   "cell_type": "code",
   "execution_count": null,
   "metadata": {
    "jupyter": {
     "source_hidden": true
    }
   },
   "outputs": [],
   "source": []
  },
  {
   "cell_type": "code",
   "execution_count": null,
   "metadata": {},
   "outputs": [],
   "source": []
  },
  {
   "cell_type": "code",
   "execution_count": null,
   "metadata": {},
   "outputs": [],
   "source": []
  },
  {
   "cell_type": "code",
   "execution_count": null,
   "metadata": {},
   "outputs": [],
   "source": []
  }
 ],
 "metadata": {
  "kernelspec": {
   "display_name": "Python 3",
   "language": "python",
   "name": "python3"
  },
  "language_info": {
   "codemirror_mode": {
    "name": "ipython",
    "version": 3
   },
   "file_extension": ".py",
   "mimetype": "text/x-python",
   "name": "python",
   "nbconvert_exporter": "python",
   "pygments_lexer": "ipython3",
   "version": "3.8.5"
  }
 },
 "nbformat": 4,
 "nbformat_minor": 4
}
