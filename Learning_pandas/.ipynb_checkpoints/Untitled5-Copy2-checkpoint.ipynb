{
 "cells": [
  {
   "cell_type": "markdown",
   "metadata": {},
   "source": [
    "# **Introduction to Dates & Time with pandas**\n",
    "\n",
    "This jupyter notebook can be found on my GitHub account: https://github.com/mbonnemaison/Learning-Python\n",
    "### **pandas** is a python library that facilitates data analysis organized in a table.\n",
    "\n",
    "### Sources:\n",
    "- Information to install pandas, introduce pandas and the user guide: https://pandas.pydata.org/pandas-docs/stable/getting_started/index.html\n",
    "- Python for Data Analysis by Wes McKinney (2nd edition used here) - Chapter 5 (Introduction), Chapter 11 (Time Series)"
   ]
  },
  {
   "cell_type": "markdown",
   "metadata": {},
   "source": [
    "## **Project presentation**\n",
    "Detector placed at entrance of kitchen since December 1st recording 6 parameters:\n",
    "- Humidity\n",
    "- Brightness\n",
    "- Temperature\n",
    "- Movement (called Presence)\n",
    "- UV\n",
    "- Vibration (called Sabotage)\n",
    "\n",
    "More information on this project here: https://github.com/mbonnemaison/adelego\n",
    "### **Reading data from a csv file using pandas**"
   ]
  },
  {
   "cell_type": "code",
   "execution_count": 1,
   "metadata": {},
   "outputs": [],
   "source": [
    "import pandas as pd"
   ]
  },
  {
   "cell_type": "code",
   "execution_count": 2,
   "metadata": {},
   "outputs": [],
   "source": [
    "data = pd.read_csv(\"24h_2021-03-14.csv\",  sep = '\\t')"
   ]
  },
  {
   "cell_type": "markdown",
   "metadata": {},
   "source": [
    "Link to user guide for **pd.read_csv()**: https://pandas.pydata.org/pandas-docs/stable/reference/api/pandas.read_csv.html?highlight=read_csv#pandas.read_csv"
   ]
  },
  {
   "cell_type": "code",
   "execution_count": 3,
   "metadata": {},
   "outputs": [
    {
     "data": {
      "text/html": [
       "<div>\n",
       "<style scoped>\n",
       "    .dataframe tbody tr th:only-of-type {\n",
       "        vertical-align: middle;\n",
       "    }\n",
       "\n",
       "    .dataframe tbody tr th {\n",
       "        vertical-align: top;\n",
       "    }\n",
       "\n",
       "    .dataframe thead th {\n",
       "        text-align: right;\n",
       "    }\n",
       "</style>\n",
       "<table border=\"1\" class=\"dataframe\">\n",
       "  <thead>\n",
       "    <tr style=\"text-align: right;\">\n",
       "      <th></th>\n",
       "      <th>Date</th>\n",
       "      <th>Equipment</th>\n",
       "      <th>Parameter</th>\n",
       "      <th>Value</th>\n",
       "      <th>Unit</th>\n",
       "    </tr>\n",
       "  </thead>\n",
       "  <tbody>\n",
       "    <tr>\n",
       "      <th>0</th>\n",
       "      <td>2021-03-14 00:10:00</td>\n",
       "      <td>5MultiSensor 6 (ZW100)</td>\n",
       "      <td>HUMIDITY</td>\n",
       "      <td>21,000000000</td>\n",
       "      <td>%</td>\n",
       "    </tr>\n",
       "    <tr>\n",
       "      <th>1</th>\n",
       "      <td>2021-03-14 01:10:00</td>\n",
       "      <td>5MultiSensor 6 (ZW100)</td>\n",
       "      <td>HUMIDITY</td>\n",
       "      <td>20,750000000</td>\n",
       "      <td>%</td>\n",
       "    </tr>\n",
       "    <tr>\n",
       "      <th>2</th>\n",
       "      <td>2021-03-14 03:10:00</td>\n",
       "      <td>5MultiSensor 6 (ZW100)</td>\n",
       "      <td>HUMIDITY</td>\n",
       "      <td>20</td>\n",
       "      <td>%</td>\n",
       "    </tr>\n",
       "    <tr>\n",
       "      <th>3</th>\n",
       "      <td>2021-03-14 03:25:00</td>\n",
       "      <td>5MultiSensor 6 (ZW100)</td>\n",
       "      <td>HUMIDITY</td>\n",
       "      <td>21</td>\n",
       "      <td>%</td>\n",
       "    </tr>\n",
       "    <tr>\n",
       "      <th>4</th>\n",
       "      <td>2021-03-14 03:40:00</td>\n",
       "      <td>5MultiSensor 6 (ZW100)</td>\n",
       "      <td>HUMIDITY</td>\n",
       "      <td>21</td>\n",
       "      <td>%</td>\n",
       "    </tr>\n",
       "    <tr>\n",
       "      <th>5</th>\n",
       "      <td>2021-03-14 03:55:00</td>\n",
       "      <td>5MultiSensor 6 (ZW100)</td>\n",
       "      <td>HUMIDITY</td>\n",
       "      <td>21</td>\n",
       "      <td>%</td>\n",
       "    </tr>\n",
       "    <tr>\n",
       "      <th>6</th>\n",
       "      <td>2021-03-14 04:10:00</td>\n",
       "      <td>5MultiSensor 6 (ZW100)</td>\n",
       "      <td>HUMIDITY</td>\n",
       "      <td>21</td>\n",
       "      <td>%</td>\n",
       "    </tr>\n",
       "    <tr>\n",
       "      <th>7</th>\n",
       "      <td>2021-03-14 04:25:00</td>\n",
       "      <td>5MultiSensor 6 (ZW100)</td>\n",
       "      <td>HUMIDITY</td>\n",
       "      <td>20</td>\n",
       "      <td>%</td>\n",
       "    </tr>\n",
       "    <tr>\n",
       "      <th>8</th>\n",
       "      <td>2021-03-14 04:40:00</td>\n",
       "      <td>5MultiSensor 6 (ZW100)</td>\n",
       "      <td>HUMIDITY</td>\n",
       "      <td>21</td>\n",
       "      <td>%</td>\n",
       "    </tr>\n",
       "    <tr>\n",
       "      <th>9</th>\n",
       "      <td>2021-03-14 04:55:00</td>\n",
       "      <td>5MultiSensor 6 (ZW100)</td>\n",
       "      <td>HUMIDITY</td>\n",
       "      <td>21</td>\n",
       "      <td>%</td>\n",
       "    </tr>\n",
       "  </tbody>\n",
       "</table>\n",
       "</div>"
      ],
      "text/plain": [
       "                  Date               Equipment Parameter         Value Unit\n",
       "0  2021-03-14 00:10:00  5MultiSensor 6 (ZW100)  HUMIDITY  21,000000000    %\n",
       "1  2021-03-14 01:10:00  5MultiSensor 6 (ZW100)  HUMIDITY  20,750000000    %\n",
       "2  2021-03-14 03:10:00  5MultiSensor 6 (ZW100)  HUMIDITY            20    %\n",
       "3  2021-03-14 03:25:00  5MultiSensor 6 (ZW100)  HUMIDITY            21    %\n",
       "4  2021-03-14 03:40:00  5MultiSensor 6 (ZW100)  HUMIDITY            21    %\n",
       "5  2021-03-14 03:55:00  5MultiSensor 6 (ZW100)  HUMIDITY            21    %\n",
       "6  2021-03-14 04:10:00  5MultiSensor 6 (ZW100)  HUMIDITY            21    %\n",
       "7  2021-03-14 04:25:00  5MultiSensor 6 (ZW100)  HUMIDITY            20    %\n",
       "8  2021-03-14 04:40:00  5MultiSensor 6 (ZW100)  HUMIDITY            21    %\n",
       "9  2021-03-14 04:55:00  5MultiSensor 6 (ZW100)  HUMIDITY            21    %"
      ]
     },
     "execution_count": 3,
     "metadata": {},
     "output_type": "execute_result"
    }
   ],
   "source": [
    "data.head(10)"
   ]
  },
  {
   "cell_type": "code",
   "execution_count": 4,
   "metadata": {},
   "outputs": [
    {
     "name": "stdout",
     "output_type": "stream",
     "text": [
      "<class 'pandas.core.frame.DataFrame'>\n",
      "RangeIndex: 436 entries, 0 to 435\n",
      "Data columns (total 5 columns):\n",
      " #   Column     Non-Null Count  Dtype \n",
      "---  ------     --------------  ----- \n",
      " 0   Date       436 non-null    object\n",
      " 1   Equipment  436 non-null    object\n",
      " 2   Parameter  436 non-null    object\n",
      " 3   Value      436 non-null    object\n",
      " 4   Unit       258 non-null    object\n",
      "dtypes: object(5)\n",
      "memory usage: 17.2+ KB\n"
     ]
    }
   ],
   "source": [
    "data.info()"
   ]
  },
  {
   "cell_type": "markdown",
   "metadata": {},
   "source": [
    "### **Data manipulations in pandas**\n",
    "**Select columns**"
   ]
  },
  {
   "cell_type": "code",
   "execution_count": 5,
   "metadata": {},
   "outputs": [
    {
     "data": {
      "text/plain": [
       "0      2021-03-14 00:10:00\n",
       "1      2021-03-14 01:10:00\n",
       "2      2021-03-14 03:10:00\n",
       "3      2021-03-14 03:25:00\n",
       "4      2021-03-14 03:40:00\n",
       "              ...         \n",
       "431    2021-03-14 22:55:00\n",
       "432    2021-03-14 23:10:00\n",
       "433    2021-03-14 23:25:00\n",
       "434    2021-03-14 23:40:00\n",
       "435    2021-03-14 23:55:00\n",
       "Name: Date, Length: 436, dtype: object"
      ]
     },
     "execution_count": 5,
     "metadata": {},
     "output_type": "execute_result"
    }
   ],
   "source": [
    "data['Date']\n",
    "#The output is a Series, i.e. a 1-column table"
   ]
  },
  {
   "cell_type": "code",
   "execution_count": 6,
   "metadata": {},
   "outputs": [
    {
     "data": {
      "text/html": [
       "<div>\n",
       "<style scoped>\n",
       "    .dataframe tbody tr th:only-of-type {\n",
       "        vertical-align: middle;\n",
       "    }\n",
       "\n",
       "    .dataframe tbody tr th {\n",
       "        vertical-align: top;\n",
       "    }\n",
       "\n",
       "    .dataframe thead th {\n",
       "        text-align: right;\n",
       "    }\n",
       "</style>\n",
       "<table border=\"1\" class=\"dataframe\">\n",
       "  <thead>\n",
       "    <tr style=\"text-align: right;\">\n",
       "      <th></th>\n",
       "      <th>Date</th>\n",
       "      <th>Value</th>\n",
       "    </tr>\n",
       "  </thead>\n",
       "  <tbody>\n",
       "    <tr>\n",
       "      <th>0</th>\n",
       "      <td>2021-03-14 00:10:00</td>\n",
       "      <td>21,000000000</td>\n",
       "    </tr>\n",
       "    <tr>\n",
       "      <th>1</th>\n",
       "      <td>2021-03-14 01:10:00</td>\n",
       "      <td>20,750000000</td>\n",
       "    </tr>\n",
       "    <tr>\n",
       "      <th>2</th>\n",
       "      <td>2021-03-14 03:10:00</td>\n",
       "      <td>20</td>\n",
       "    </tr>\n",
       "    <tr>\n",
       "      <th>3</th>\n",
       "      <td>2021-03-14 03:25:00</td>\n",
       "      <td>21</td>\n",
       "    </tr>\n",
       "    <tr>\n",
       "      <th>4</th>\n",
       "      <td>2021-03-14 03:40:00</td>\n",
       "      <td>21</td>\n",
       "    </tr>\n",
       "    <tr>\n",
       "      <th>...</th>\n",
       "      <td>...</td>\n",
       "      <td>...</td>\n",
       "    </tr>\n",
       "    <tr>\n",
       "      <th>431</th>\n",
       "      <td>2021-03-14 22:55:00</td>\n",
       "      <td>0</td>\n",
       "    </tr>\n",
       "    <tr>\n",
       "      <th>432</th>\n",
       "      <td>2021-03-14 23:10:00</td>\n",
       "      <td>0</td>\n",
       "    </tr>\n",
       "    <tr>\n",
       "      <th>433</th>\n",
       "      <td>2021-03-14 23:25:00</td>\n",
       "      <td>0</td>\n",
       "    </tr>\n",
       "    <tr>\n",
       "      <th>434</th>\n",
       "      <td>2021-03-14 23:40:00</td>\n",
       "      <td>0</td>\n",
       "    </tr>\n",
       "    <tr>\n",
       "      <th>435</th>\n",
       "      <td>2021-03-14 23:55:00</td>\n",
       "      <td>0</td>\n",
       "    </tr>\n",
       "  </tbody>\n",
       "</table>\n",
       "<p>436 rows × 2 columns</p>\n",
       "</div>"
      ],
      "text/plain": [
       "                    Date         Value\n",
       "0    2021-03-14 00:10:00  21,000000000\n",
       "1    2021-03-14 01:10:00  20,750000000\n",
       "2    2021-03-14 03:10:00            20\n",
       "3    2021-03-14 03:25:00            21\n",
       "4    2021-03-14 03:40:00            21\n",
       "..                   ...           ...\n",
       "431  2021-03-14 22:55:00             0\n",
       "432  2021-03-14 23:10:00             0\n",
       "433  2021-03-14 23:25:00             0\n",
       "434  2021-03-14 23:40:00             0\n",
       "435  2021-03-14 23:55:00             0\n",
       "\n",
       "[436 rows x 2 columns]"
      ]
     },
     "execution_count": 6,
     "metadata": {},
     "output_type": "execute_result"
    }
   ],
   "source": [
    "data[['Date', 'Value']]"
   ]
  },
  {
   "cell_type": "markdown",
   "metadata": {},
   "source": [
    "**Select rows**"
   ]
  },
  {
   "cell_type": "code",
   "execution_count": 7,
   "metadata": {},
   "outputs": [
    {
     "data": {
      "text/html": [
       "<div>\n",
       "<style scoped>\n",
       "    .dataframe tbody tr th:only-of-type {\n",
       "        vertical-align: middle;\n",
       "    }\n",
       "\n",
       "    .dataframe tbody tr th {\n",
       "        vertical-align: top;\n",
       "    }\n",
       "\n",
       "    .dataframe thead th {\n",
       "        text-align: right;\n",
       "    }\n",
       "</style>\n",
       "<table border=\"1\" class=\"dataframe\">\n",
       "  <thead>\n",
       "    <tr style=\"text-align: right;\">\n",
       "      <th></th>\n",
       "      <th>Date</th>\n",
       "      <th>Equipment</th>\n",
       "      <th>Parameter</th>\n",
       "      <th>Value</th>\n",
       "      <th>Unit</th>\n",
       "    </tr>\n",
       "  </thead>\n",
       "  <tbody>\n",
       "    <tr>\n",
       "      <th>1</th>\n",
       "      <td>2021-03-14 01:10:00</td>\n",
       "      <td>5MultiSensor 6 (ZW100)</td>\n",
       "      <td>HUMIDITY</td>\n",
       "      <td>20,750000000</td>\n",
       "      <td>%</td>\n",
       "    </tr>\n",
       "    <tr>\n",
       "      <th>2</th>\n",
       "      <td>2021-03-14 03:10:00</td>\n",
       "      <td>5MultiSensor 6 (ZW100)</td>\n",
       "      <td>HUMIDITY</td>\n",
       "      <td>20</td>\n",
       "      <td>%</td>\n",
       "    </tr>\n",
       "    <tr>\n",
       "      <th>3</th>\n",
       "      <td>2021-03-14 03:25:00</td>\n",
       "      <td>5MultiSensor 6 (ZW100)</td>\n",
       "      <td>HUMIDITY</td>\n",
       "      <td>21</td>\n",
       "      <td>%</td>\n",
       "    </tr>\n",
       "    <tr>\n",
       "      <th>4</th>\n",
       "      <td>2021-03-14 03:40:00</td>\n",
       "      <td>5MultiSensor 6 (ZW100)</td>\n",
       "      <td>HUMIDITY</td>\n",
       "      <td>21</td>\n",
       "      <td>%</td>\n",
       "    </tr>\n",
       "    <tr>\n",
       "      <th>5</th>\n",
       "      <td>2021-03-14 03:55:00</td>\n",
       "      <td>5MultiSensor 6 (ZW100)</td>\n",
       "      <td>HUMIDITY</td>\n",
       "      <td>21</td>\n",
       "      <td>%</td>\n",
       "    </tr>\n",
       "    <tr>\n",
       "      <th>6</th>\n",
       "      <td>2021-03-14 04:10:00</td>\n",
       "      <td>5MultiSensor 6 (ZW100)</td>\n",
       "      <td>HUMIDITY</td>\n",
       "      <td>21</td>\n",
       "      <td>%</td>\n",
       "    </tr>\n",
       "    <tr>\n",
       "      <th>7</th>\n",
       "      <td>2021-03-14 04:25:00</td>\n",
       "      <td>5MultiSensor 6 (ZW100)</td>\n",
       "      <td>HUMIDITY</td>\n",
       "      <td>20</td>\n",
       "      <td>%</td>\n",
       "    </tr>\n",
       "    <tr>\n",
       "      <th>8</th>\n",
       "      <td>2021-03-14 04:40:00</td>\n",
       "      <td>5MultiSensor 6 (ZW100)</td>\n",
       "      <td>HUMIDITY</td>\n",
       "      <td>21</td>\n",
       "      <td>%</td>\n",
       "    </tr>\n",
       "    <tr>\n",
       "      <th>9</th>\n",
       "      <td>2021-03-14 04:55:00</td>\n",
       "      <td>5MultiSensor 6 (ZW100)</td>\n",
       "      <td>HUMIDITY</td>\n",
       "      <td>21</td>\n",
       "      <td>%</td>\n",
       "    </tr>\n",
       "  </tbody>\n",
       "</table>\n",
       "</div>"
      ],
      "text/plain": [
       "                  Date               Equipment Parameter         Value Unit\n",
       "1  2021-03-14 01:10:00  5MultiSensor 6 (ZW100)  HUMIDITY  20,750000000    %\n",
       "2  2021-03-14 03:10:00  5MultiSensor 6 (ZW100)  HUMIDITY            20    %\n",
       "3  2021-03-14 03:25:00  5MultiSensor 6 (ZW100)  HUMIDITY            21    %\n",
       "4  2021-03-14 03:40:00  5MultiSensor 6 (ZW100)  HUMIDITY            21    %\n",
       "5  2021-03-14 03:55:00  5MultiSensor 6 (ZW100)  HUMIDITY            21    %\n",
       "6  2021-03-14 04:10:00  5MultiSensor 6 (ZW100)  HUMIDITY            21    %\n",
       "7  2021-03-14 04:25:00  5MultiSensor 6 (ZW100)  HUMIDITY            20    %\n",
       "8  2021-03-14 04:40:00  5MultiSensor 6 (ZW100)  HUMIDITY            21    %\n",
       "9  2021-03-14 04:55:00  5MultiSensor 6 (ZW100)  HUMIDITY            21    %"
      ]
     },
     "execution_count": 7,
     "metadata": {},
     "output_type": "execute_result"
    }
   ],
   "source": [
    "data.iloc[1:10]"
   ]
  },
  {
   "cell_type": "code",
   "execution_count": 9,
   "metadata": {},
   "outputs": [
    {
     "data": {
      "text/html": [
       "<div>\n",
       "<style scoped>\n",
       "    .dataframe tbody tr th:only-of-type {\n",
       "        vertical-align: middle;\n",
       "    }\n",
       "\n",
       "    .dataframe tbody tr th {\n",
       "        vertical-align: top;\n",
       "    }\n",
       "\n",
       "    .dataframe thead th {\n",
       "        text-align: right;\n",
       "    }\n",
       "</style>\n",
       "<table border=\"1\" class=\"dataframe\">\n",
       "  <thead>\n",
       "    <tr style=\"text-align: right;\">\n",
       "      <th></th>\n",
       "      <th>Date</th>\n",
       "      <th>Equipment</th>\n",
       "      <th>Parameter</th>\n",
       "      <th>Value</th>\n",
       "      <th>Unit</th>\n",
       "    </tr>\n",
       "  </thead>\n",
       "  <tbody>\n",
       "    <tr>\n",
       "      <th>70</th>\n",
       "      <td>2021-03-14 20:10:00</td>\n",
       "      <td>5MultiSensor 6 (ZW100)</td>\n",
       "      <td>HUMIDITY</td>\n",
       "      <td>23</td>\n",
       "      <td>%</td>\n",
       "    </tr>\n",
       "    <tr>\n",
       "      <th>71</th>\n",
       "      <td>2021-03-14 20:25:00</td>\n",
       "      <td>5MultiSensor 6 (ZW100)</td>\n",
       "      <td>HUMIDITY</td>\n",
       "      <td>22</td>\n",
       "      <td>%</td>\n",
       "    </tr>\n",
       "    <tr>\n",
       "      <th>72</th>\n",
       "      <td>2021-03-14 20:40:00</td>\n",
       "      <td>5MultiSensor 6 (ZW100)</td>\n",
       "      <td>HUMIDITY</td>\n",
       "      <td>22</td>\n",
       "      <td>%</td>\n",
       "    </tr>\n",
       "    <tr>\n",
       "      <th>73</th>\n",
       "      <td>2021-03-14 20:55:00</td>\n",
       "      <td>5MultiSensor 6 (ZW100)</td>\n",
       "      <td>HUMIDITY</td>\n",
       "      <td>21</td>\n",
       "      <td>%</td>\n",
       "    </tr>\n",
       "    <tr>\n",
       "      <th>74</th>\n",
       "      <td>2021-03-14 21:10:00</td>\n",
       "      <td>5MultiSensor 6 (ZW100)</td>\n",
       "      <td>HUMIDITY</td>\n",
       "      <td>21</td>\n",
       "      <td>%</td>\n",
       "    </tr>\n",
       "    <tr>\n",
       "      <th>75</th>\n",
       "      <td>2021-03-14 21:25:00</td>\n",
       "      <td>5MultiSensor 6 (ZW100)</td>\n",
       "      <td>HUMIDITY</td>\n",
       "      <td>21</td>\n",
       "      <td>%</td>\n",
       "    </tr>\n",
       "    <tr>\n",
       "      <th>76</th>\n",
       "      <td>2021-03-14 21:40:00</td>\n",
       "      <td>5MultiSensor 6 (ZW100)</td>\n",
       "      <td>HUMIDITY</td>\n",
       "      <td>21</td>\n",
       "      <td>%</td>\n",
       "    </tr>\n",
       "    <tr>\n",
       "      <th>77</th>\n",
       "      <td>2021-03-14 21:55:00</td>\n",
       "      <td>5MultiSensor 6 (ZW100)</td>\n",
       "      <td>HUMIDITY</td>\n",
       "      <td>20</td>\n",
       "      <td>%</td>\n",
       "    </tr>\n",
       "    <tr>\n",
       "      <th>78</th>\n",
       "      <td>2021-03-14 22:10:00</td>\n",
       "      <td>5MultiSensor 6 (ZW100)</td>\n",
       "      <td>HUMIDITY</td>\n",
       "      <td>20</td>\n",
       "      <td>%</td>\n",
       "    </tr>\n",
       "    <tr>\n",
       "      <th>79</th>\n",
       "      <td>2021-03-14 22:25:00</td>\n",
       "      <td>5MultiSensor 6 (ZW100)</td>\n",
       "      <td>HUMIDITY</td>\n",
       "      <td>21</td>\n",
       "      <td>%</td>\n",
       "    </tr>\n",
       "    <tr>\n",
       "      <th>80</th>\n",
       "      <td>2021-03-14 22:40:00</td>\n",
       "      <td>5MultiSensor 6 (ZW100)</td>\n",
       "      <td>HUMIDITY</td>\n",
       "      <td>20</td>\n",
       "      <td>%</td>\n",
       "    </tr>\n",
       "    <tr>\n",
       "      <th>81</th>\n",
       "      <td>2021-03-14 22:55:00</td>\n",
       "      <td>5MultiSensor 6 (ZW100)</td>\n",
       "      <td>HUMIDITY</td>\n",
       "      <td>20</td>\n",
       "      <td>%</td>\n",
       "    </tr>\n",
       "    <tr>\n",
       "      <th>82</th>\n",
       "      <td>2021-03-14 23:10:00</td>\n",
       "      <td>5MultiSensor 6 (ZW100)</td>\n",
       "      <td>HUMIDITY</td>\n",
       "      <td>20</td>\n",
       "      <td>%</td>\n",
       "    </tr>\n",
       "    <tr>\n",
       "      <th>83</th>\n",
       "      <td>2021-03-14 23:25:00</td>\n",
       "      <td>5MultiSensor 6 (ZW100)</td>\n",
       "      <td>HUMIDITY</td>\n",
       "      <td>20</td>\n",
       "      <td>%</td>\n",
       "    </tr>\n",
       "    <tr>\n",
       "      <th>84</th>\n",
       "      <td>2021-03-14 23:40:00</td>\n",
       "      <td>5MultiSensor 6 (ZW100)</td>\n",
       "      <td>HUMIDITY</td>\n",
       "      <td>20</td>\n",
       "      <td>%</td>\n",
       "    </tr>\n",
       "    <tr>\n",
       "      <th>85</th>\n",
       "      <td>2021-03-14 23:55:00</td>\n",
       "      <td>5MultiSensor 6 (ZW100)</td>\n",
       "      <td>HUMIDITY</td>\n",
       "      <td>21</td>\n",
       "      <td>%</td>\n",
       "    </tr>\n",
       "  </tbody>\n",
       "</table>\n",
       "</div>"
      ],
      "text/plain": [
       "                   Date               Equipment Parameter Value Unit\n",
       "70  2021-03-14 20:10:00  5MultiSensor 6 (ZW100)  HUMIDITY    23    %\n",
       "71  2021-03-14 20:25:00  5MultiSensor 6 (ZW100)  HUMIDITY    22    %\n",
       "72  2021-03-14 20:40:00  5MultiSensor 6 (ZW100)  HUMIDITY    22    %\n",
       "73  2021-03-14 20:55:00  5MultiSensor 6 (ZW100)  HUMIDITY    21    %\n",
       "74  2021-03-14 21:10:00  5MultiSensor 6 (ZW100)  HUMIDITY    21    %\n",
       "75  2021-03-14 21:25:00  5MultiSensor 6 (ZW100)  HUMIDITY    21    %\n",
       "76  2021-03-14 21:40:00  5MultiSensor 6 (ZW100)  HUMIDITY    21    %\n",
       "77  2021-03-14 21:55:00  5MultiSensor 6 (ZW100)  HUMIDITY    20    %\n",
       "78  2021-03-14 22:10:00  5MultiSensor 6 (ZW100)  HUMIDITY    20    %\n",
       "79  2021-03-14 22:25:00  5MultiSensor 6 (ZW100)  HUMIDITY    21    %\n",
       "80  2021-03-14 22:40:00  5MultiSensor 6 (ZW100)  HUMIDITY    20    %\n",
       "81  2021-03-14 22:55:00  5MultiSensor 6 (ZW100)  HUMIDITY    20    %\n",
       "82  2021-03-14 23:10:00  5MultiSensor 6 (ZW100)  HUMIDITY    20    %\n",
       "83  2021-03-14 23:25:00  5MultiSensor 6 (ZW100)  HUMIDITY    20    %\n",
       "84  2021-03-14 23:40:00  5MultiSensor 6 (ZW100)  HUMIDITY    20    %\n",
       "85  2021-03-14 23:55:00  5MultiSensor 6 (ZW100)  HUMIDITY    21    %"
      ]
     },
     "execution_count": 9,
     "metadata": {},
     "output_type": "execute_result"
    }
   ],
   "source": [
    "data.loc[(data['Date'] > '2021-03-14 20:00:00') & (data['Parameter'] == 'HUMIDITY')]"
   ]
  },
  {
   "cell_type": "markdown",
   "metadata": {},
   "source": [
    "**Select cells**"
   ]
  },
  {
   "cell_type": "code",
   "execution_count": 11,
   "metadata": {},
   "outputs": [
    {
     "data": {
      "text/plain": [
       "'2021-03-14 03:55:00'"
      ]
     },
     "execution_count": 11,
     "metadata": {},
     "output_type": "execute_result"
    }
   ],
   "source": [
    "data['Date'][5]"
   ]
  },
  {
   "cell_type": "markdown",
   "metadata": {},
   "source": [
    "**Sort values**"
   ]
  },
  {
   "cell_type": "code",
   "execution_count": 12,
   "metadata": {},
   "outputs": [
    {
     "data": {
      "text/html": [
       "<div>\n",
       "<style scoped>\n",
       "    .dataframe tbody tr th:only-of-type {\n",
       "        vertical-align: middle;\n",
       "    }\n",
       "\n",
       "    .dataframe tbody tr th {\n",
       "        vertical-align: top;\n",
       "    }\n",
       "\n",
       "    .dataframe thead th {\n",
       "        text-align: right;\n",
       "    }\n",
       "</style>\n",
       "<table border=\"1\" class=\"dataframe\">\n",
       "  <thead>\n",
       "    <tr style=\"text-align: right;\">\n",
       "      <th></th>\n",
       "      <th>Date</th>\n",
       "      <th>Equipment</th>\n",
       "      <th>Parameter</th>\n",
       "      <th>Value</th>\n",
       "      <th>Unit</th>\n",
       "    </tr>\n",
       "  </thead>\n",
       "  <tbody>\n",
       "    <tr>\n",
       "      <th>96</th>\n",
       "      <td>2021-03-14 05:10:00</td>\n",
       "      <td>5MultiSensor 6 (ZW100)</td>\n",
       "      <td>BRIGHTNESS</td>\n",
       "      <td>0</td>\n",
       "      <td>Lux</td>\n",
       "    </tr>\n",
       "    <tr>\n",
       "      <th>111</th>\n",
       "      <td>2021-03-14 08:55:00</td>\n",
       "      <td>5MultiSensor 6 (ZW100)</td>\n",
       "      <td>BRIGHTNESS</td>\n",
       "      <td>19</td>\n",
       "      <td>Lux</td>\n",
       "    </tr>\n",
       "    <tr>\n",
       "      <th>112</th>\n",
       "      <td>2021-03-14 09:10:00</td>\n",
       "      <td>5MultiSensor 6 (ZW100)</td>\n",
       "      <td>BRIGHTNESS</td>\n",
       "      <td>20</td>\n",
       "      <td>Lux</td>\n",
       "    </tr>\n",
       "    <tr>\n",
       "      <th>113</th>\n",
       "      <td>2021-03-14 09:25:00</td>\n",
       "      <td>5MultiSensor 6 (ZW100)</td>\n",
       "      <td>BRIGHTNESS</td>\n",
       "      <td>20</td>\n",
       "      <td>Lux</td>\n",
       "    </tr>\n",
       "    <tr>\n",
       "      <th>114</th>\n",
       "      <td>2021-03-14 09:40:00</td>\n",
       "      <td>5MultiSensor 6 (ZW100)</td>\n",
       "      <td>BRIGHTNESS</td>\n",
       "      <td>20</td>\n",
       "      <td>Lux</td>\n",
       "    </tr>\n",
       "    <tr>\n",
       "      <th>...</th>\n",
       "      <td>...</td>\n",
       "      <td>...</td>\n",
       "      <td>...</td>\n",
       "      <td>...</td>\n",
       "      <td>...</td>\n",
       "    </tr>\n",
       "    <tr>\n",
       "      <th>374</th>\n",
       "      <td>2021-03-14 08:40:00</td>\n",
       "      <td>5MultiSensor 6 (ZW100)</td>\n",
       "      <td>UV</td>\n",
       "      <td>0</td>\n",
       "      <td>NaN</td>\n",
       "    </tr>\n",
       "    <tr>\n",
       "      <th>373</th>\n",
       "      <td>2021-03-14 08:25:00</td>\n",
       "      <td>5MultiSensor 6 (ZW100)</td>\n",
       "      <td>UV</td>\n",
       "      <td>0</td>\n",
       "      <td>NaN</td>\n",
       "    </tr>\n",
       "    <tr>\n",
       "      <th>372</th>\n",
       "      <td>2021-03-14 08:10:00</td>\n",
       "      <td>5MultiSensor 6 (ZW100)</td>\n",
       "      <td>UV</td>\n",
       "      <td>0</td>\n",
       "      <td>NaN</td>\n",
       "    </tr>\n",
       "    <tr>\n",
       "      <th>380</th>\n",
       "      <td>2021-03-14 10:10:00</td>\n",
       "      <td>5MultiSensor 6 (ZW100)</td>\n",
       "      <td>UV</td>\n",
       "      <td>0</td>\n",
       "      <td>NaN</td>\n",
       "    </tr>\n",
       "    <tr>\n",
       "      <th>435</th>\n",
       "      <td>2021-03-14 23:55:00</td>\n",
       "      <td>5MultiSensor 6 (ZW100)</td>\n",
       "      <td>UV</td>\n",
       "      <td>0</td>\n",
       "      <td>NaN</td>\n",
       "    </tr>\n",
       "  </tbody>\n",
       "</table>\n",
       "<p>436 rows × 5 columns</p>\n",
       "</div>"
      ],
      "text/plain": [
       "                    Date               Equipment   Parameter Value Unit\n",
       "96   2021-03-14 05:10:00  5MultiSensor 6 (ZW100)  BRIGHTNESS     0  Lux\n",
       "111  2021-03-14 08:55:00  5MultiSensor 6 (ZW100)  BRIGHTNESS    19  Lux\n",
       "112  2021-03-14 09:10:00  5MultiSensor 6 (ZW100)  BRIGHTNESS    20  Lux\n",
       "113  2021-03-14 09:25:00  5MultiSensor 6 (ZW100)  BRIGHTNESS    20  Lux\n",
       "114  2021-03-14 09:40:00  5MultiSensor 6 (ZW100)  BRIGHTNESS    20  Lux\n",
       "..                   ...                     ...         ...   ...  ...\n",
       "374  2021-03-14 08:40:00  5MultiSensor 6 (ZW100)          UV     0  NaN\n",
       "373  2021-03-14 08:25:00  5MultiSensor 6 (ZW100)          UV     0  NaN\n",
       "372  2021-03-14 08:10:00  5MultiSensor 6 (ZW100)          UV     0  NaN\n",
       "380  2021-03-14 10:10:00  5MultiSensor 6 (ZW100)          UV     0  NaN\n",
       "435  2021-03-14 23:55:00  5MultiSensor 6 (ZW100)          UV     0  NaN\n",
       "\n",
       "[436 rows x 5 columns]"
      ]
     },
     "execution_count": 12,
     "metadata": {},
     "output_type": "execute_result"
    }
   ],
   "source": [
    "data.sort_values(by = [\"Parameter\"], ascending=True)"
   ]
  },
  {
   "cell_type": "code",
   "execution_count": null,
   "metadata": {},
   "outputs": [],
   "source": [
    "data.info()"
   ]
  },
  {
   "cell_type": "markdown",
   "metadata": {},
   "source": [
    "**Count the different values in the column 'Parameter'**"
   ]
  },
  {
   "cell_type": "code",
   "execution_count": 13,
   "metadata": {},
   "outputs": [
    {
     "data": {
      "text/plain": [
       "UV             86\n",
       "TEMPERATURE    86\n",
       "HUMIDITY       86\n",
       "BRIGHTNESS     86\n",
       "SABOTAGE       46\n",
       "PRESENCE       46\n",
       "Name: Parameter, dtype: int64"
      ]
     },
     "execution_count": 13,
     "metadata": {},
     "output_type": "execute_result"
    }
   ],
   "source": [
    "data['Parameter'].value_counts()"
   ]
  },
  {
   "cell_type": "markdown",
   "metadata": {},
   "source": [
    "## **Introduction to Time & Dates**\n",
    "Some of the elementary data structures for working with date & time data are:\n",
    "\n",
    "- **Timestamp** : specific instant in time\n",
    "- **Timedelta**: Interval of time indicated by a start and end timestamp.\n",
    "\n",
    "### **Timestamp**\n",
    "\n",
    "***Timestamp*** is pandas equivalent of python’s datetime.datetime object and is interchangeable with it in most cases."
   ]
  },
  {
   "cell_type": "markdown",
   "metadata": {},
   "source": [
    "### **Convert strings to timestamps**\n",
    "Strings can be converted to dates using **pd.to_datetime**.\n",
    "\n",
    "Note: Information on format can be found here: https://docs.python.org/3/library/datetime.html#strftime-and-strptime-behavior)"
   ]
  },
  {
   "cell_type": "code",
   "execution_count": 14,
   "metadata": {},
   "outputs": [],
   "source": [
    "mytimestamp = '2021/10/23 4:34:2'"
   ]
  },
  {
   "cell_type": "code",
   "execution_count": 15,
   "metadata": {},
   "outputs": [
    {
     "data": {
      "text/plain": [
       "'2021/10/23 4:34:2'"
      ]
     },
     "execution_count": 15,
     "metadata": {},
     "output_type": "execute_result"
    }
   ],
   "source": [
    "mytimestamp"
   ]
  },
  {
   "cell_type": "code",
   "execution_count": 16,
   "metadata": {},
   "outputs": [
    {
     "data": {
      "text/plain": [
       "str"
      ]
     },
     "execution_count": 16,
     "metadata": {},
     "output_type": "execute_result"
    }
   ],
   "source": [
    "type(mytimestamp)"
   ]
  },
  {
   "cell_type": "code",
   "execution_count": 17,
   "metadata": {},
   "outputs": [],
   "source": [
    "mytimestamp = pd.to_datetime(mytimestamp)"
   ]
  },
  {
   "cell_type": "code",
   "execution_count": 18,
   "metadata": {},
   "outputs": [
    {
     "data": {
      "text/plain": [
       "Timestamp('2021-10-23 04:34:02')"
      ]
     },
     "execution_count": 18,
     "metadata": {},
     "output_type": "execute_result"
    }
   ],
   "source": [
    "mytimestamp"
   ]
  },
  {
   "cell_type": "code",
   "execution_count": 19,
   "metadata": {},
   "outputs": [
    {
     "data": {
      "text/plain": [
       "pandas._libs.tslibs.timestamps.Timestamp"
      ]
     },
     "execution_count": 19,
     "metadata": {},
     "output_type": "execute_result"
    }
   ],
   "source": [
    "type(mytimestamp)"
   ]
  },
  {
   "cell_type": "code",
   "execution_count": 20,
   "metadata": {},
   "outputs": [
    {
     "data": {
      "text/plain": [
       "Timestamp('2021-02-19 22:45:56')"
      ]
     },
     "execution_count": 20,
     "metadata": {},
     "output_type": "execute_result"
    }
   ],
   "source": [
    "pd.to_datetime('2021-02-19 22:45:56', format = '%Y-%m-%d')"
   ]
  },
  {
   "cell_type": "code",
   "execution_count": 21,
   "metadata": {},
   "outputs": [
    {
     "data": {
      "text/plain": [
       "Timestamp('2021-02-23 23:23:23')"
      ]
     },
     "execution_count": 21,
     "metadata": {},
     "output_type": "execute_result"
    }
   ],
   "source": [
    "pd.to_datetime('20210223232323')"
   ]
  },
  {
   "cell_type": "markdown",
   "metadata": {},
   "source": [
    "### **Convert a list of dates from string to Timestamp**"
   ]
  },
  {
   "cell_type": "code",
   "execution_count": 22,
   "metadata": {},
   "outputs": [],
   "source": [
    "date_list_str = ['2021-03-14', '2020-12-25', '2025-02-19']"
   ]
  },
  {
   "cell_type": "code",
   "execution_count": 23,
   "metadata": {},
   "outputs": [
    {
     "data": {
      "text/plain": [
       "['2021-03-14', '2020-12-25', '2025-02-19']"
      ]
     },
     "execution_count": 23,
     "metadata": {},
     "output_type": "execute_result"
    }
   ],
   "source": [
    "date_list_str"
   ]
  },
  {
   "cell_type": "code",
   "execution_count": 24,
   "metadata": {},
   "outputs": [
    {
     "data": {
      "text/plain": [
       "DatetimeIndex(['2021-03-14', '2020-12-25', '2025-02-19'], dtype='datetime64[ns]', freq=None)"
      ]
     },
     "execution_count": 24,
     "metadata": {},
     "output_type": "execute_result"
    }
   ],
   "source": [
    "pd.to_datetime(date_list_str)"
   ]
  },
  {
   "cell_type": "markdown",
   "metadata": {},
   "source": [
    "### **Dealing with missing values**"
   ]
  },
  {
   "cell_type": "code",
   "execution_count": 25,
   "metadata": {},
   "outputs": [],
   "source": [
    "date_list_str2 = ['2021-03-14', '2020-12-25', '2025-02-19', '2021-04-14', None]"
   ]
  },
  {
   "cell_type": "code",
   "execution_count": 26,
   "metadata": {},
   "outputs": [
    {
     "data": {
      "text/plain": [
       "['2021-03-14', '2020-12-25', '2025-02-19', '2021-04-14', None]"
      ]
     },
     "execution_count": 26,
     "metadata": {},
     "output_type": "execute_result"
    }
   ],
   "source": [
    "date_list_str2"
   ]
  },
  {
   "cell_type": "code",
   "execution_count": 27,
   "metadata": {},
   "outputs": [
    {
     "data": {
      "text/plain": [
       "DatetimeIndex(['2021-03-14', '2020-12-25', '2025-02-19', '2021-04-14', 'NaT'], dtype='datetime64[ns]', freq=None)"
      ]
     },
     "execution_count": 27,
     "metadata": {},
     "output_type": "execute_result"
    }
   ],
   "source": [
    "pd.to_datetime(date_list_str2)"
   ]
  },
  {
   "cell_type": "markdown",
   "metadata": {},
   "source": [
    "**NaT** means Not a Time"
   ]
  },
  {
   "cell_type": "markdown",
   "metadata": {},
   "source": [
    "### **Convert values in the \"Date\" column from string to Timestamp**"
   ]
  },
  {
   "cell_type": "code",
   "execution_count": 28,
   "metadata": {},
   "outputs": [
    {
     "data": {
      "text/html": [
       "<div>\n",
       "<style scoped>\n",
       "    .dataframe tbody tr th:only-of-type {\n",
       "        vertical-align: middle;\n",
       "    }\n",
       "\n",
       "    .dataframe tbody tr th {\n",
       "        vertical-align: top;\n",
       "    }\n",
       "\n",
       "    .dataframe thead th {\n",
       "        text-align: right;\n",
       "    }\n",
       "</style>\n",
       "<table border=\"1\" class=\"dataframe\">\n",
       "  <thead>\n",
       "    <tr style=\"text-align: right;\">\n",
       "      <th></th>\n",
       "      <th>Date</th>\n",
       "      <th>Equipment</th>\n",
       "      <th>Parameter</th>\n",
       "      <th>Value</th>\n",
       "      <th>Unit</th>\n",
       "    </tr>\n",
       "  </thead>\n",
       "  <tbody>\n",
       "    <tr>\n",
       "      <th>0</th>\n",
       "      <td>2021-03-14 00:10:00</td>\n",
       "      <td>5MultiSensor 6 (ZW100)</td>\n",
       "      <td>HUMIDITY</td>\n",
       "      <td>21,000000000</td>\n",
       "      <td>%</td>\n",
       "    </tr>\n",
       "    <tr>\n",
       "      <th>1</th>\n",
       "      <td>2021-03-14 01:10:00</td>\n",
       "      <td>5MultiSensor 6 (ZW100)</td>\n",
       "      <td>HUMIDITY</td>\n",
       "      <td>20,750000000</td>\n",
       "      <td>%</td>\n",
       "    </tr>\n",
       "    <tr>\n",
       "      <th>2</th>\n",
       "      <td>2021-03-14 03:10:00</td>\n",
       "      <td>5MultiSensor 6 (ZW100)</td>\n",
       "      <td>HUMIDITY</td>\n",
       "      <td>20</td>\n",
       "      <td>%</td>\n",
       "    </tr>\n",
       "    <tr>\n",
       "      <th>3</th>\n",
       "      <td>2021-03-14 03:25:00</td>\n",
       "      <td>5MultiSensor 6 (ZW100)</td>\n",
       "      <td>HUMIDITY</td>\n",
       "      <td>21</td>\n",
       "      <td>%</td>\n",
       "    </tr>\n",
       "    <tr>\n",
       "      <th>4</th>\n",
       "      <td>2021-03-14 03:40:00</td>\n",
       "      <td>5MultiSensor 6 (ZW100)</td>\n",
       "      <td>HUMIDITY</td>\n",
       "      <td>21</td>\n",
       "      <td>%</td>\n",
       "    </tr>\n",
       "    <tr>\n",
       "      <th>5</th>\n",
       "      <td>2021-03-14 03:55:00</td>\n",
       "      <td>5MultiSensor 6 (ZW100)</td>\n",
       "      <td>HUMIDITY</td>\n",
       "      <td>21</td>\n",
       "      <td>%</td>\n",
       "    </tr>\n",
       "    <tr>\n",
       "      <th>6</th>\n",
       "      <td>2021-03-14 04:10:00</td>\n",
       "      <td>5MultiSensor 6 (ZW100)</td>\n",
       "      <td>HUMIDITY</td>\n",
       "      <td>21</td>\n",
       "      <td>%</td>\n",
       "    </tr>\n",
       "    <tr>\n",
       "      <th>7</th>\n",
       "      <td>2021-03-14 04:25:00</td>\n",
       "      <td>5MultiSensor 6 (ZW100)</td>\n",
       "      <td>HUMIDITY</td>\n",
       "      <td>20</td>\n",
       "      <td>%</td>\n",
       "    </tr>\n",
       "    <tr>\n",
       "      <th>8</th>\n",
       "      <td>2021-03-14 04:40:00</td>\n",
       "      <td>5MultiSensor 6 (ZW100)</td>\n",
       "      <td>HUMIDITY</td>\n",
       "      <td>21</td>\n",
       "      <td>%</td>\n",
       "    </tr>\n",
       "    <tr>\n",
       "      <th>9</th>\n",
       "      <td>2021-03-14 04:55:00</td>\n",
       "      <td>5MultiSensor 6 (ZW100)</td>\n",
       "      <td>HUMIDITY</td>\n",
       "      <td>21</td>\n",
       "      <td>%</td>\n",
       "    </tr>\n",
       "  </tbody>\n",
       "</table>\n",
       "</div>"
      ],
      "text/plain": [
       "                  Date               Equipment Parameter         Value Unit\n",
       "0  2021-03-14 00:10:00  5MultiSensor 6 (ZW100)  HUMIDITY  21,000000000    %\n",
       "1  2021-03-14 01:10:00  5MultiSensor 6 (ZW100)  HUMIDITY  20,750000000    %\n",
       "2  2021-03-14 03:10:00  5MultiSensor 6 (ZW100)  HUMIDITY            20    %\n",
       "3  2021-03-14 03:25:00  5MultiSensor 6 (ZW100)  HUMIDITY            21    %\n",
       "4  2021-03-14 03:40:00  5MultiSensor 6 (ZW100)  HUMIDITY            21    %\n",
       "5  2021-03-14 03:55:00  5MultiSensor 6 (ZW100)  HUMIDITY            21    %\n",
       "6  2021-03-14 04:10:00  5MultiSensor 6 (ZW100)  HUMIDITY            21    %\n",
       "7  2021-03-14 04:25:00  5MultiSensor 6 (ZW100)  HUMIDITY            20    %\n",
       "8  2021-03-14 04:40:00  5MultiSensor 6 (ZW100)  HUMIDITY            21    %\n",
       "9  2021-03-14 04:55:00  5MultiSensor 6 (ZW100)  HUMIDITY            21    %"
      ]
     },
     "execution_count": 28,
     "metadata": {},
     "output_type": "execute_result"
    }
   ],
   "source": [
    "data.head(10)"
   ]
  },
  {
   "cell_type": "code",
   "execution_count": 30,
   "metadata": {},
   "outputs": [
    {
     "data": {
      "text/plain": [
       "0      2021-03-14 00:10:00\n",
       "1      2021-03-14 01:10:00\n",
       "2      2021-03-14 03:10:00\n",
       "3      2021-03-14 03:25:00\n",
       "4      2021-03-14 03:40:00\n",
       "              ...         \n",
       "431    2021-03-14 22:55:00\n",
       "432    2021-03-14 23:10:00\n",
       "433    2021-03-14 23:25:00\n",
       "434    2021-03-14 23:40:00\n",
       "435    2021-03-14 23:55:00\n",
       "Name: Date, Length: 436, dtype: object"
      ]
     },
     "execution_count": 30,
     "metadata": {},
     "output_type": "execute_result"
    }
   ],
   "source": [
    "data['Date']\n",
    "#Series = 1-column table"
   ]
  },
  {
   "cell_type": "code",
   "execution_count": 33,
   "metadata": {},
   "outputs": [],
   "source": [
    "myseries = pd.Series([1,2,3,4], name = 'Python')"
   ]
  },
  {
   "cell_type": "code",
   "execution_count": 34,
   "metadata": {},
   "outputs": [
    {
     "data": {
      "text/plain": [
       "0    1\n",
       "1    2\n",
       "2    3\n",
       "3    4\n",
       "Name: Python, dtype: int64"
      ]
     },
     "execution_count": 34,
     "metadata": {},
     "output_type": "execute_result"
    }
   ],
   "source": [
    "myseries"
   ]
  },
  {
   "cell_type": "code",
   "execution_count": null,
   "metadata": {},
   "outputs": [],
   "source": []
  },
  {
   "cell_type": "code",
   "execution_count": 35,
   "metadata": {},
   "outputs": [],
   "source": [
    "data['Date'] = pd.to_datetime(data[\"Date\"])"
   ]
  },
  {
   "cell_type": "code",
   "execution_count": 36,
   "metadata": {},
   "outputs": [
    {
     "data": {
      "text/plain": [
       "0     2021-03-14 00:10:00\n",
       "1     2021-03-14 01:10:00\n",
       "2     2021-03-14 03:10:00\n",
       "3     2021-03-14 03:25:00\n",
       "4     2021-03-14 03:40:00\n",
       "              ...        \n",
       "431   2021-03-14 22:55:00\n",
       "432   2021-03-14 23:10:00\n",
       "433   2021-03-14 23:25:00\n",
       "434   2021-03-14 23:40:00\n",
       "435   2021-03-14 23:55:00\n",
       "Name: Date, Length: 436, dtype: datetime64[ns]"
      ]
     },
     "execution_count": 36,
     "metadata": {},
     "output_type": "execute_result"
    }
   ],
   "source": [
    "data[\"Date\"]"
   ]
  },
  {
   "cell_type": "code",
   "execution_count": 37,
   "metadata": {},
   "outputs": [
    {
     "name": "stdout",
     "output_type": "stream",
     "text": [
      "<class 'pandas.core.frame.DataFrame'>\n",
      "RangeIndex: 436 entries, 0 to 435\n",
      "Data columns (total 5 columns):\n",
      " #   Column     Non-Null Count  Dtype         \n",
      "---  ------     --------------  -----         \n",
      " 0   Date       436 non-null    datetime64[ns]\n",
      " 1   Equipment  436 non-null    object        \n",
      " 2   Parameter  436 non-null    object        \n",
      " 3   Value      436 non-null    object        \n",
      " 4   Unit       258 non-null    object        \n",
      "dtypes: datetime64[ns](1), object(4)\n",
      "memory usage: 17.2+ KB\n"
     ]
    }
   ],
   "source": [
    "data.info()"
   ]
  },
  {
   "cell_type": "markdown",
   "metadata": {},
   "source": [
    "***Missing values in DataFrame...***"
   ]
  },
  {
   "cell_type": "code",
   "execution_count": 38,
   "metadata": {},
   "outputs": [],
   "source": [
    "dataNaT = pd.read_csv(\"24h_2021-03-14_NaT.csv\", sep = '\\t')"
   ]
  },
  {
   "cell_type": "code",
   "execution_count": 39,
   "metadata": {},
   "outputs": [
    {
     "data": {
      "text/html": [
       "<div>\n",
       "<style scoped>\n",
       "    .dataframe tbody tr th:only-of-type {\n",
       "        vertical-align: middle;\n",
       "    }\n",
       "\n",
       "    .dataframe tbody tr th {\n",
       "        vertical-align: top;\n",
       "    }\n",
       "\n",
       "    .dataframe thead th {\n",
       "        text-align: right;\n",
       "    }\n",
       "</style>\n",
       "<table border=\"1\" class=\"dataframe\">\n",
       "  <thead>\n",
       "    <tr style=\"text-align: right;\">\n",
       "      <th></th>\n",
       "      <th>Date</th>\n",
       "      <th>Equipment</th>\n",
       "      <th>Parameter</th>\n",
       "      <th>Value</th>\n",
       "      <th>Unit</th>\n",
       "    </tr>\n",
       "  </thead>\n",
       "  <tbody>\n",
       "    <tr>\n",
       "      <th>0</th>\n",
       "      <td>NaN</td>\n",
       "      <td>5MultiSensor 6 (ZW100)</td>\n",
       "      <td>HUMIDITY</td>\n",
       "      <td>21,000000000</td>\n",
       "      <td>%</td>\n",
       "    </tr>\n",
       "    <tr>\n",
       "      <th>1</th>\n",
       "      <td>NaN</td>\n",
       "      <td>5MultiSensor 6 (ZW100)</td>\n",
       "      <td>HUMIDITY</td>\n",
       "      <td>20,750000000</td>\n",
       "      <td>%</td>\n",
       "    </tr>\n",
       "    <tr>\n",
       "      <th>2</th>\n",
       "      <td>NaN</td>\n",
       "      <td>5MultiSensor 6 (ZW100)</td>\n",
       "      <td>HUMIDITY</td>\n",
       "      <td>20</td>\n",
       "      <td>%</td>\n",
       "    </tr>\n",
       "    <tr>\n",
       "      <th>3</th>\n",
       "      <td>NaN</td>\n",
       "      <td>5MultiSensor 6 (ZW100)</td>\n",
       "      <td>HUMIDITY</td>\n",
       "      <td>21</td>\n",
       "      <td>%</td>\n",
       "    </tr>\n",
       "    <tr>\n",
       "      <th>4</th>\n",
       "      <td>NaN</td>\n",
       "      <td>5MultiSensor 6 (ZW100)</td>\n",
       "      <td>HUMIDITY</td>\n",
       "      <td>21</td>\n",
       "      <td>%</td>\n",
       "    </tr>\n",
       "    <tr>\n",
       "      <th>5</th>\n",
       "      <td>2021-03-14 03:55:00</td>\n",
       "      <td>5MultiSensor 6 (ZW100)</td>\n",
       "      <td>HUMIDITY</td>\n",
       "      <td>21</td>\n",
       "      <td>%</td>\n",
       "    </tr>\n",
       "    <tr>\n",
       "      <th>6</th>\n",
       "      <td>2021-03-14 04:10:00</td>\n",
       "      <td>5MultiSensor 6 (ZW100)</td>\n",
       "      <td>HUMIDITY</td>\n",
       "      <td>21</td>\n",
       "      <td>%</td>\n",
       "    </tr>\n",
       "    <tr>\n",
       "      <th>7</th>\n",
       "      <td>2021-03-14 04:25:00</td>\n",
       "      <td>5MultiSensor 6 (ZW100)</td>\n",
       "      <td>HUMIDITY</td>\n",
       "      <td>20</td>\n",
       "      <td>%</td>\n",
       "    </tr>\n",
       "    <tr>\n",
       "      <th>8</th>\n",
       "      <td>2021-03-14 04:40:00</td>\n",
       "      <td>5MultiSensor 6 (ZW100)</td>\n",
       "      <td>HUMIDITY</td>\n",
       "      <td>21</td>\n",
       "      <td>%</td>\n",
       "    </tr>\n",
       "    <tr>\n",
       "      <th>9</th>\n",
       "      <td>2021-03-14 04:55:00</td>\n",
       "      <td>5MultiSensor 6 (ZW100)</td>\n",
       "      <td>HUMIDITY</td>\n",
       "      <td>21</td>\n",
       "      <td>%</td>\n",
       "    </tr>\n",
       "  </tbody>\n",
       "</table>\n",
       "</div>"
      ],
      "text/plain": [
       "                  Date               Equipment Parameter         Value Unit\n",
       "0                  NaN  5MultiSensor 6 (ZW100)  HUMIDITY  21,000000000    %\n",
       "1                  NaN  5MultiSensor 6 (ZW100)  HUMIDITY  20,750000000    %\n",
       "2                  NaN  5MultiSensor 6 (ZW100)  HUMIDITY            20    %\n",
       "3                  NaN  5MultiSensor 6 (ZW100)  HUMIDITY            21    %\n",
       "4                  NaN  5MultiSensor 6 (ZW100)  HUMIDITY            21    %\n",
       "5  2021-03-14 03:55:00  5MultiSensor 6 (ZW100)  HUMIDITY            21    %\n",
       "6  2021-03-14 04:10:00  5MultiSensor 6 (ZW100)  HUMIDITY            21    %\n",
       "7  2021-03-14 04:25:00  5MultiSensor 6 (ZW100)  HUMIDITY            20    %\n",
       "8  2021-03-14 04:40:00  5MultiSensor 6 (ZW100)  HUMIDITY            21    %\n",
       "9  2021-03-14 04:55:00  5MultiSensor 6 (ZW100)  HUMIDITY            21    %"
      ]
     },
     "execution_count": 39,
     "metadata": {},
     "output_type": "execute_result"
    }
   ],
   "source": [
    "dataNaT.head(10)"
   ]
  },
  {
   "cell_type": "code",
   "execution_count": 40,
   "metadata": {},
   "outputs": [
    {
     "name": "stdout",
     "output_type": "stream",
     "text": [
      "<class 'pandas.core.frame.DataFrame'>\n",
      "RangeIndex: 436 entries, 0 to 435\n",
      "Data columns (total 5 columns):\n",
      " #   Column     Non-Null Count  Dtype \n",
      "---  ------     --------------  ----- \n",
      " 0   Date       431 non-null    object\n",
      " 1   Equipment  436 non-null    object\n",
      " 2   Parameter  436 non-null    object\n",
      " 3   Value      436 non-null    object\n",
      " 4   Unit       258 non-null    object\n",
      "dtypes: object(5)\n",
      "memory usage: 17.2+ KB\n"
     ]
    }
   ],
   "source": [
    "dataNaT.info()"
   ]
  },
  {
   "cell_type": "code",
   "execution_count": 41,
   "metadata": {},
   "outputs": [],
   "source": [
    "dataNaT[\"Date\"] = pd.to_datetime(dataNaT[\"Date\"])"
   ]
  },
  {
   "cell_type": "code",
   "execution_count": 42,
   "metadata": {},
   "outputs": [
    {
     "name": "stdout",
     "output_type": "stream",
     "text": [
      "<class 'pandas.core.frame.DataFrame'>\n",
      "RangeIndex: 436 entries, 0 to 435\n",
      "Data columns (total 5 columns):\n",
      " #   Column     Non-Null Count  Dtype         \n",
      "---  ------     --------------  -----         \n",
      " 0   Date       431 non-null    datetime64[ns]\n",
      " 1   Equipment  436 non-null    object        \n",
      " 2   Parameter  436 non-null    object        \n",
      " 3   Value      436 non-null    object        \n",
      " 4   Unit       258 non-null    object        \n",
      "dtypes: datetime64[ns](1), object(4)\n",
      "memory usage: 17.2+ KB\n"
     ]
    }
   ],
   "source": [
    "dataNaT.info()"
   ]
  },
  {
   "cell_type": "code",
   "execution_count": 43,
   "metadata": {},
   "outputs": [
    {
     "data": {
      "text/html": [
       "<div>\n",
       "<style scoped>\n",
       "    .dataframe tbody tr th:only-of-type {\n",
       "        vertical-align: middle;\n",
       "    }\n",
       "\n",
       "    .dataframe tbody tr th {\n",
       "        vertical-align: top;\n",
       "    }\n",
       "\n",
       "    .dataframe thead th {\n",
       "        text-align: right;\n",
       "    }\n",
       "</style>\n",
       "<table border=\"1\" class=\"dataframe\">\n",
       "  <thead>\n",
       "    <tr style=\"text-align: right;\">\n",
       "      <th></th>\n",
       "      <th>Date</th>\n",
       "      <th>Equipment</th>\n",
       "      <th>Parameter</th>\n",
       "      <th>Value</th>\n",
       "      <th>Unit</th>\n",
       "    </tr>\n",
       "  </thead>\n",
       "  <tbody>\n",
       "    <tr>\n",
       "      <th>0</th>\n",
       "      <td>NaT</td>\n",
       "      <td>5MultiSensor 6 (ZW100)</td>\n",
       "      <td>HUMIDITY</td>\n",
       "      <td>21,000000000</td>\n",
       "      <td>%</td>\n",
       "    </tr>\n",
       "    <tr>\n",
       "      <th>1</th>\n",
       "      <td>NaT</td>\n",
       "      <td>5MultiSensor 6 (ZW100)</td>\n",
       "      <td>HUMIDITY</td>\n",
       "      <td>20,750000000</td>\n",
       "      <td>%</td>\n",
       "    </tr>\n",
       "    <tr>\n",
       "      <th>2</th>\n",
       "      <td>NaT</td>\n",
       "      <td>5MultiSensor 6 (ZW100)</td>\n",
       "      <td>HUMIDITY</td>\n",
       "      <td>20</td>\n",
       "      <td>%</td>\n",
       "    </tr>\n",
       "    <tr>\n",
       "      <th>3</th>\n",
       "      <td>NaT</td>\n",
       "      <td>5MultiSensor 6 (ZW100)</td>\n",
       "      <td>HUMIDITY</td>\n",
       "      <td>21</td>\n",
       "      <td>%</td>\n",
       "    </tr>\n",
       "    <tr>\n",
       "      <th>4</th>\n",
       "      <td>NaT</td>\n",
       "      <td>5MultiSensor 6 (ZW100)</td>\n",
       "      <td>HUMIDITY</td>\n",
       "      <td>21</td>\n",
       "      <td>%</td>\n",
       "    </tr>\n",
       "    <tr>\n",
       "      <th>5</th>\n",
       "      <td>2021-03-14 03:55:00</td>\n",
       "      <td>5MultiSensor 6 (ZW100)</td>\n",
       "      <td>HUMIDITY</td>\n",
       "      <td>21</td>\n",
       "      <td>%</td>\n",
       "    </tr>\n",
       "    <tr>\n",
       "      <th>6</th>\n",
       "      <td>2021-03-14 04:10:00</td>\n",
       "      <td>5MultiSensor 6 (ZW100)</td>\n",
       "      <td>HUMIDITY</td>\n",
       "      <td>21</td>\n",
       "      <td>%</td>\n",
       "    </tr>\n",
       "    <tr>\n",
       "      <th>7</th>\n",
       "      <td>2021-03-14 04:25:00</td>\n",
       "      <td>5MultiSensor 6 (ZW100)</td>\n",
       "      <td>HUMIDITY</td>\n",
       "      <td>20</td>\n",
       "      <td>%</td>\n",
       "    </tr>\n",
       "    <tr>\n",
       "      <th>8</th>\n",
       "      <td>2021-03-14 04:40:00</td>\n",
       "      <td>5MultiSensor 6 (ZW100)</td>\n",
       "      <td>HUMIDITY</td>\n",
       "      <td>21</td>\n",
       "      <td>%</td>\n",
       "    </tr>\n",
       "    <tr>\n",
       "      <th>9</th>\n",
       "      <td>2021-03-14 04:55:00</td>\n",
       "      <td>5MultiSensor 6 (ZW100)</td>\n",
       "      <td>HUMIDITY</td>\n",
       "      <td>21</td>\n",
       "      <td>%</td>\n",
       "    </tr>\n",
       "  </tbody>\n",
       "</table>\n",
       "</div>"
      ],
      "text/plain": [
       "                 Date               Equipment Parameter         Value Unit\n",
       "0                 NaT  5MultiSensor 6 (ZW100)  HUMIDITY  21,000000000    %\n",
       "1                 NaT  5MultiSensor 6 (ZW100)  HUMIDITY  20,750000000    %\n",
       "2                 NaT  5MultiSensor 6 (ZW100)  HUMIDITY            20    %\n",
       "3                 NaT  5MultiSensor 6 (ZW100)  HUMIDITY            21    %\n",
       "4                 NaT  5MultiSensor 6 (ZW100)  HUMIDITY            21    %\n",
       "5 2021-03-14 03:55:00  5MultiSensor 6 (ZW100)  HUMIDITY            21    %\n",
       "6 2021-03-14 04:10:00  5MultiSensor 6 (ZW100)  HUMIDITY            21    %\n",
       "7 2021-03-14 04:25:00  5MultiSensor 6 (ZW100)  HUMIDITY            20    %\n",
       "8 2021-03-14 04:40:00  5MultiSensor 6 (ZW100)  HUMIDITY            21    %\n",
       "9 2021-03-14 04:55:00  5MultiSensor 6 (ZW100)  HUMIDITY            21    %"
      ]
     },
     "execution_count": 43,
     "metadata": {},
     "output_type": "execute_result"
    }
   ],
   "source": [
    "dataNaT.head(10)"
   ]
  },
  {
   "cell_type": "code",
   "execution_count": null,
   "metadata": {},
   "outputs": [],
   "source": [
    "dataNaT[\"Date\"][33]"
   ]
  },
  {
   "cell_type": "markdown",
   "metadata": {},
   "source": [
    "## **Timedeltas**\n",
    "Timedelta represents the temporal difference between two datetime objects."
   ]
  },
  {
   "cell_type": "code",
   "execution_count": 46,
   "metadata": {},
   "outputs": [
    {
     "data": {
      "text/plain": [
       "Timedelta('11 days 05:00:00')"
      ]
     },
     "execution_count": 46,
     "metadata": {},
     "output_type": "execute_result"
    }
   ],
   "source": [
    "pd.Timedelta(weeks = 1, days = 4, hours = 5)"
   ]
  },
  {
   "cell_type": "markdown",
   "metadata": {},
   "source": [
    "### **Timedelta operations**\n",
    "**Add time to Timestamps**"
   ]
  },
  {
   "cell_type": "code",
   "execution_count": 47,
   "metadata": {},
   "outputs": [],
   "source": [
    "ts = pd.to_datetime('2021/3/23 23:20:00') + pd.Timedelta(days=13)"
   ]
  },
  {
   "cell_type": "code",
   "execution_count": 48,
   "metadata": {},
   "outputs": [
    {
     "data": {
      "text/plain": [
       "Timestamp('2021-04-05 23:20:00')"
      ]
     },
     "execution_count": 48,
     "metadata": {},
     "output_type": "execute_result"
    }
   ],
   "source": [
    "ts"
   ]
  },
  {
   "cell_type": "markdown",
   "metadata": {},
   "source": [
    "**Difference between Timestamps generates a Timedelta**"
   ]
  },
  {
   "cell_type": "code",
   "execution_count": 49,
   "metadata": {},
   "outputs": [],
   "source": [
    "delta = pd.to_datetime('2021/3/23 23:20:00') - pd.to_datetime('2021/3/20 2:34:14')"
   ]
  },
  {
   "cell_type": "code",
   "execution_count": 50,
   "metadata": {},
   "outputs": [
    {
     "data": {
      "text/plain": [
       "Timedelta('3 days 20:45:46')"
      ]
     },
     "execution_count": 50,
     "metadata": {},
     "output_type": "execute_result"
    }
   ],
   "source": [
    "delta"
   ]
  },
  {
   "cell_type": "markdown",
   "metadata": {},
   "source": [
    "**Adding Timedeltas**"
   ]
  },
  {
   "cell_type": "code",
   "execution_count": 51,
   "metadata": {},
   "outputs": [],
   "source": [
    "td1 = pd.Timedelta(weeks = 3, days = 3, hours = 3)\n",
    "td2 = pd.Timedelta(weeks = 1, days = 1, hours = 1)"
   ]
  },
  {
   "cell_type": "code",
   "execution_count": 52,
   "metadata": {},
   "outputs": [
    {
     "data": {
      "text/plain": [
       "Timedelta('32 days 04:00:00')"
      ]
     },
     "execution_count": 52,
     "metadata": {},
     "output_type": "execute_result"
    }
   ],
   "source": [
    "td1+td2"
   ]
  },
  {
   "cell_type": "markdown",
   "metadata": {},
   "source": [
    "### **Convert strings to Timedelta**"
   ]
  },
  {
   "cell_type": "code",
   "execution_count": 53,
   "metadata": {},
   "outputs": [
    {
     "data": {
      "text/plain": [
       "Timedelta('1 days 21:53:23')"
      ]
     },
     "execution_count": 53,
     "metadata": {},
     "output_type": "execute_result"
    }
   ],
   "source": [
    "pd.to_timedelta('45:53:23')"
   ]
  },
  {
   "cell_type": "markdown",
   "metadata": {},
   "source": [
    "## **Practice**"
   ]
  },
  {
   "cell_type": "code",
   "execution_count": 54,
   "metadata": {},
   "outputs": [],
   "source": [
    "cities = pd.read_csv('top12.csv')"
   ]
  },
  {
   "cell_type": "code",
   "execution_count": 55,
   "metadata": {},
   "outputs": [
    {
     "data": {
      "text/html": [
       "<div>\n",
       "<style scoped>\n",
       "    .dataframe tbody tr th:only-of-type {\n",
       "        vertical-align: middle;\n",
       "    }\n",
       "\n",
       "    .dataframe tbody tr th {\n",
       "        vertical-align: top;\n",
       "    }\n",
       "\n",
       "    .dataframe thead th {\n",
       "        text-align: right;\n",
       "    }\n",
       "</style>\n",
       "<table border=\"1\" class=\"dataframe\">\n",
       "  <thead>\n",
       "    <tr style=\"text-align: right;\">\n",
       "      <th></th>\n",
       "      <th>Cities</th>\n",
       "      <th>State</th>\n",
       "      <th>Population</th>\n",
       "      <th>Density(/sq mi)</th>\n",
       "      <th>Incorporated</th>\n",
       "    </tr>\n",
       "  </thead>\n",
       "  <tbody>\n",
       "    <tr>\n",
       "      <th>0</th>\n",
       "      <td>Los Angeles</td>\n",
       "      <td>California</td>\n",
       "      <td>3979576</td>\n",
       "      <td>8484</td>\n",
       "      <td>4/4/1850</td>\n",
       "    </tr>\n",
       "    <tr>\n",
       "      <th>1</th>\n",
       "      <td>Chicago</td>\n",
       "      <td>Illinois</td>\n",
       "      <td>2693976</td>\n",
       "      <td>11900</td>\n",
       "      <td>3/4/1837</td>\n",
       "    </tr>\n",
       "    <tr>\n",
       "      <th>2</th>\n",
       "      <td>Houston</td>\n",
       "      <td>Texas</td>\n",
       "      <td>2320268</td>\n",
       "      <td>3613</td>\n",
       "      <td>6/5/1837</td>\n",
       "    </tr>\n",
       "    <tr>\n",
       "      <th>3</th>\n",
       "      <td>Phoenix</td>\n",
       "      <td>Arizona</td>\n",
       "      <td>1680992</td>\n",
       "      <td>3120</td>\n",
       "      <td>2/25/1881</td>\n",
       "    </tr>\n",
       "    <tr>\n",
       "      <th>4</th>\n",
       "      <td>Philadelphia</td>\n",
       "      <td>Pennsylvania</td>\n",
       "      <td>1584064</td>\n",
       "      <td>11683</td>\n",
       "      <td>10/25/1701</td>\n",
       "    </tr>\n",
       "    <tr>\n",
       "      <th>5</th>\n",
       "      <td>San Antonio</td>\n",
       "      <td>Texas</td>\n",
       "      <td>1547253</td>\n",
       "      <td>3238</td>\n",
       "      <td>6/5/1837</td>\n",
       "    </tr>\n",
       "    <tr>\n",
       "      <th>6</th>\n",
       "      <td>San Diego</td>\n",
       "      <td>California</td>\n",
       "      <td>1423851</td>\n",
       "      <td>4325</td>\n",
       "      <td>3/27/1850</td>\n",
       "    </tr>\n",
       "    <tr>\n",
       "      <th>7</th>\n",
       "      <td>Dallas</td>\n",
       "      <td>Texas</td>\n",
       "      <td>1343573</td>\n",
       "      <td>3866</td>\n",
       "      <td>2/2/1856</td>\n",
       "    </tr>\n",
       "    <tr>\n",
       "      <th>8</th>\n",
       "      <td>San Jose</td>\n",
       "      <td>California</td>\n",
       "      <td>1021795</td>\n",
       "      <td>5777</td>\n",
       "      <td>3/27/1850</td>\n",
       "    </tr>\n",
       "    <tr>\n",
       "      <th>9</th>\n",
       "      <td>Austin</td>\n",
       "      <td>Texas</td>\n",
       "      <td>978908</td>\n",
       "      <td>3031</td>\n",
       "      <td>12/27/1839</td>\n",
       "    </tr>\n",
       "    <tr>\n",
       "      <th>10</th>\n",
       "      <td>Jacksonville</td>\n",
       "      <td>Florida</td>\n",
       "      <td>911507</td>\n",
       "      <td>1178</td>\n",
       "      <td>2/9/1832</td>\n",
       "    </tr>\n",
       "  </tbody>\n",
       "</table>\n",
       "</div>"
      ],
      "text/plain": [
       "          Cities         State  Population  Density(/sq mi) Incorporated\n",
       "0    Los Angeles    California     3979576             8484     4/4/1850\n",
       "1        Chicago      Illinois     2693976            11900     3/4/1837\n",
       "2        Houston         Texas     2320268             3613     6/5/1837\n",
       "3        Phoenix       Arizona     1680992             3120    2/25/1881\n",
       "4   Philadelphia  Pennsylvania     1584064            11683   10/25/1701\n",
       "5    San Antonio         Texas     1547253             3238     6/5/1837\n",
       "6      San Diego    California     1423851             4325    3/27/1850\n",
       "7         Dallas         Texas     1343573             3866     2/2/1856\n",
       "8       San Jose    California     1021795             5777    3/27/1850\n",
       "9         Austin         Texas      978908             3031   12/27/1839\n",
       "10  Jacksonville       Florida      911507             1178     2/9/1832"
      ]
     },
     "execution_count": 55,
     "metadata": {},
     "output_type": "execute_result"
    }
   ],
   "source": [
    "cities"
   ]
  },
  {
   "cell_type": "code",
   "execution_count": null,
   "metadata": {},
   "outputs": [],
   "source": [
    "cities.info()"
   ]
  },
  {
   "cell_type": "markdown",
   "metadata": {},
   "source": [
    "**Question 1**: How would you convert the Incorporated date from string to Timestamp?"
   ]
  },
  {
   "cell_type": "code",
   "execution_count": 56,
   "metadata": {},
   "outputs": [
    {
     "name": "stdout",
     "output_type": "stream",
     "text": [
      "<class 'pandas.core.frame.DataFrame'>\n",
      "RangeIndex: 11 entries, 0 to 10\n",
      "Data columns (total 5 columns):\n",
      " #   Column           Non-Null Count  Dtype         \n",
      "---  ------           --------------  -----         \n",
      " 0   Cities           11 non-null     object        \n",
      " 1   State            11 non-null     object        \n",
      " 2   Population       11 non-null     int64         \n",
      " 3   Density(/sq mi)  11 non-null     int64         \n",
      " 4   Incorporated     11 non-null     datetime64[ns]\n",
      "dtypes: datetime64[ns](1), int64(2), object(2)\n",
      "memory usage: 568.0+ bytes\n"
     ]
    }
   ],
   "source": [
    "cities['Incorporated'] = pd.to_datetime(cities['Incorporated'], format= '%m/%d/%Y')\n",
    "cities.info()"
   ]
  },
  {
   "cell_type": "code",
   "execution_count": 57,
   "metadata": {},
   "outputs": [
    {
     "data": {
      "text/html": [
       "<div>\n",
       "<style scoped>\n",
       "    .dataframe tbody tr th:only-of-type {\n",
       "        vertical-align: middle;\n",
       "    }\n",
       "\n",
       "    .dataframe tbody tr th {\n",
       "        vertical-align: top;\n",
       "    }\n",
       "\n",
       "    .dataframe thead th {\n",
       "        text-align: right;\n",
       "    }\n",
       "</style>\n",
       "<table border=\"1\" class=\"dataframe\">\n",
       "  <thead>\n",
       "    <tr style=\"text-align: right;\">\n",
       "      <th></th>\n",
       "      <th>Cities</th>\n",
       "      <th>State</th>\n",
       "      <th>Population</th>\n",
       "      <th>Density(/sq mi)</th>\n",
       "      <th>Incorporated</th>\n",
       "    </tr>\n",
       "  </thead>\n",
       "  <tbody>\n",
       "    <tr>\n",
       "      <th>0</th>\n",
       "      <td>Los Angeles</td>\n",
       "      <td>California</td>\n",
       "      <td>3979576</td>\n",
       "      <td>8484</td>\n",
       "      <td>1850-04-04</td>\n",
       "    </tr>\n",
       "    <tr>\n",
       "      <th>1</th>\n",
       "      <td>Chicago</td>\n",
       "      <td>Illinois</td>\n",
       "      <td>2693976</td>\n",
       "      <td>11900</td>\n",
       "      <td>1837-03-04</td>\n",
       "    </tr>\n",
       "    <tr>\n",
       "      <th>2</th>\n",
       "      <td>Houston</td>\n",
       "      <td>Texas</td>\n",
       "      <td>2320268</td>\n",
       "      <td>3613</td>\n",
       "      <td>1837-06-05</td>\n",
       "    </tr>\n",
       "    <tr>\n",
       "      <th>3</th>\n",
       "      <td>Phoenix</td>\n",
       "      <td>Arizona</td>\n",
       "      <td>1680992</td>\n",
       "      <td>3120</td>\n",
       "      <td>1881-02-25</td>\n",
       "    </tr>\n",
       "    <tr>\n",
       "      <th>4</th>\n",
       "      <td>Philadelphia</td>\n",
       "      <td>Pennsylvania</td>\n",
       "      <td>1584064</td>\n",
       "      <td>11683</td>\n",
       "      <td>1701-10-25</td>\n",
       "    </tr>\n",
       "    <tr>\n",
       "      <th>5</th>\n",
       "      <td>San Antonio</td>\n",
       "      <td>Texas</td>\n",
       "      <td>1547253</td>\n",
       "      <td>3238</td>\n",
       "      <td>1837-06-05</td>\n",
       "    </tr>\n",
       "    <tr>\n",
       "      <th>6</th>\n",
       "      <td>San Diego</td>\n",
       "      <td>California</td>\n",
       "      <td>1423851</td>\n",
       "      <td>4325</td>\n",
       "      <td>1850-03-27</td>\n",
       "    </tr>\n",
       "    <tr>\n",
       "      <th>7</th>\n",
       "      <td>Dallas</td>\n",
       "      <td>Texas</td>\n",
       "      <td>1343573</td>\n",
       "      <td>3866</td>\n",
       "      <td>1856-02-02</td>\n",
       "    </tr>\n",
       "    <tr>\n",
       "      <th>8</th>\n",
       "      <td>San Jose</td>\n",
       "      <td>California</td>\n",
       "      <td>1021795</td>\n",
       "      <td>5777</td>\n",
       "      <td>1850-03-27</td>\n",
       "    </tr>\n",
       "    <tr>\n",
       "      <th>9</th>\n",
       "      <td>Austin</td>\n",
       "      <td>Texas</td>\n",
       "      <td>978908</td>\n",
       "      <td>3031</td>\n",
       "      <td>1839-12-27</td>\n",
       "    </tr>\n",
       "    <tr>\n",
       "      <th>10</th>\n",
       "      <td>Jacksonville</td>\n",
       "      <td>Florida</td>\n",
       "      <td>911507</td>\n",
       "      <td>1178</td>\n",
       "      <td>1832-02-09</td>\n",
       "    </tr>\n",
       "  </tbody>\n",
       "</table>\n",
       "</div>"
      ],
      "text/plain": [
       "          Cities         State  Population  Density(/sq mi) Incorporated\n",
       "0    Los Angeles    California     3979576             8484   1850-04-04\n",
       "1        Chicago      Illinois     2693976            11900   1837-03-04\n",
       "2        Houston         Texas     2320268             3613   1837-06-05\n",
       "3        Phoenix       Arizona     1680992             3120   1881-02-25\n",
       "4   Philadelphia  Pennsylvania     1584064            11683   1701-10-25\n",
       "5    San Antonio         Texas     1547253             3238   1837-06-05\n",
       "6      San Diego    California     1423851             4325   1850-03-27\n",
       "7         Dallas         Texas     1343573             3866   1856-02-02\n",
       "8       San Jose    California     1021795             5777   1850-03-27\n",
       "9         Austin         Texas      978908             3031   1839-12-27\n",
       "10  Jacksonville       Florida      911507             1178   1832-02-09"
      ]
     },
     "execution_count": 57,
     "metadata": {},
     "output_type": "execute_result"
    }
   ],
   "source": [
    "cities"
   ]
  },
  {
   "cell_type": "markdown",
   "metadata": {},
   "source": [
    "**Question 2**: How many days between Philadelphia and Dallas incorporated dates?"
   ]
  },
  {
   "cell_type": "code",
   "execution_count": null,
   "metadata": {},
   "outputs": [],
   "source": []
  },
  {
   "cell_type": "code",
   "execution_count": 68,
   "metadata": {},
   "outputs": [
    {
     "data": {
      "text/plain": [
       "Timedelta('56347 days 00:00:00')"
      ]
     },
     "execution_count": 68,
     "metadata": {},
     "output_type": "execute_result"
    }
   ],
   "source": [
    "cities['Incorporated'][7] - cities['Incorporated'][4]"
   ]
  },
  {
   "cell_type": "markdown",
   "metadata": {},
   "source": [
    "## **Problems**\n",
    "### **Problem 1: Timestamp limitation**\n",
    "New York City was incorporated on September 2nd 1664. Convert this date into a Timestamp."
   ]
  },
  {
   "cell_type": "code",
   "execution_count": 70,
   "metadata": {},
   "outputs": [
    {
     "ename": "OutOfBoundsDatetime",
     "evalue": "Out of bounds nanosecond timestamp: 1664-09-02 00:00:00",
     "output_type": "error",
     "traceback": [
      "\u001b[0;31m---------------------------------------------------------------------------\u001b[0m",
      "\u001b[0;31mTypeError\u001b[0m                                 Traceback (most recent call last)",
      "\u001b[0;32m~/anaconda3/lib/python3.8/site-packages/pandas/core/arrays/datetimes.py\u001b[0m in \u001b[0;36mobjects_to_datetime64ns\u001b[0;34m(data, dayfirst, yearfirst, utc, errors, require_iso8601, allow_object)\u001b[0m\n\u001b[1;32m   2053\u001b[0m         \u001b[0;32mtry\u001b[0m\u001b[0;34m:\u001b[0m\u001b[0;34m\u001b[0m\u001b[0;34m\u001b[0m\u001b[0m\n\u001b[0;32m-> 2054\u001b[0;31m             \u001b[0mvalues\u001b[0m\u001b[0;34m,\u001b[0m \u001b[0mtz_parsed\u001b[0m \u001b[0;34m=\u001b[0m \u001b[0mconversion\u001b[0m\u001b[0;34m.\u001b[0m\u001b[0mdatetime_to_datetime64\u001b[0m\u001b[0;34m(\u001b[0m\u001b[0mdata\u001b[0m\u001b[0;34m)\u001b[0m\u001b[0;34m\u001b[0m\u001b[0;34m\u001b[0m\u001b[0m\n\u001b[0m\u001b[1;32m   2055\u001b[0m             \u001b[0;31m# If tzaware, these values represent unix timestamps, so we\u001b[0m\u001b[0;34m\u001b[0m\u001b[0;34m\u001b[0m\u001b[0;34m\u001b[0m\u001b[0m\n",
      "\u001b[0;32mpandas/_libs/tslibs/conversion.pyx\u001b[0m in \u001b[0;36mpandas._libs.tslibs.conversion.datetime_to_datetime64\u001b[0;34m()\u001b[0m\n",
      "\u001b[0;31mTypeError\u001b[0m: Unrecognized value type: <class 'str'>",
      "\nDuring handling of the above exception, another exception occurred:\n",
      "\u001b[0;31mOutOfBoundsDatetime\u001b[0m                       Traceback (most recent call last)",
      "\u001b[0;32m<ipython-input-70-efda75004144>\u001b[0m in \u001b[0;36m<module>\u001b[0;34m\u001b[0m\n\u001b[0;32m----> 1\u001b[0;31m \u001b[0mNYC\u001b[0m \u001b[0;34m=\u001b[0m \u001b[0mpd\u001b[0m\u001b[0;34m.\u001b[0m\u001b[0mto_datetime\u001b[0m\u001b[0;34m(\u001b[0m\u001b[0;34m'9-2-1664'\u001b[0m\u001b[0;34m)\u001b[0m\u001b[0;34m\u001b[0m\u001b[0;34m\u001b[0m\u001b[0m\n\u001b[0m",
      "\u001b[0;32m~/anaconda3/lib/python3.8/site-packages/pandas/core/tools/datetimes.py\u001b[0m in \u001b[0;36mto_datetime\u001b[0;34m(arg, errors, dayfirst, yearfirst, utc, format, exact, unit, infer_datetime_format, origin, cache)\u001b[0m\n\u001b[1;32m    828\u001b[0m             \u001b[0mresult\u001b[0m \u001b[0;34m=\u001b[0m \u001b[0mconvert_listlike\u001b[0m\u001b[0;34m(\u001b[0m\u001b[0marg\u001b[0m\u001b[0;34m,\u001b[0m \u001b[0mformat\u001b[0m\u001b[0;34m)\u001b[0m\u001b[0;34m\u001b[0m\u001b[0;34m\u001b[0m\u001b[0m\n\u001b[1;32m    829\u001b[0m     \u001b[0;32melse\u001b[0m\u001b[0;34m:\u001b[0m\u001b[0;34m\u001b[0m\u001b[0;34m\u001b[0m\u001b[0m\n\u001b[0;32m--> 830\u001b[0;31m         \u001b[0mresult\u001b[0m \u001b[0;34m=\u001b[0m \u001b[0mconvert_listlike\u001b[0m\u001b[0;34m(\u001b[0m\u001b[0mnp\u001b[0m\u001b[0;34m.\u001b[0m\u001b[0marray\u001b[0m\u001b[0;34m(\u001b[0m\u001b[0;34m[\u001b[0m\u001b[0marg\u001b[0m\u001b[0;34m]\u001b[0m\u001b[0;34m)\u001b[0m\u001b[0;34m,\u001b[0m \u001b[0mformat\u001b[0m\u001b[0;34m)\u001b[0m\u001b[0;34m[\u001b[0m\u001b[0;36m0\u001b[0m\u001b[0;34m]\u001b[0m\u001b[0;34m\u001b[0m\u001b[0;34m\u001b[0m\u001b[0m\n\u001b[0m\u001b[1;32m    831\u001b[0m \u001b[0;34m\u001b[0m\u001b[0m\n\u001b[1;32m    832\u001b[0m     \u001b[0;32mreturn\u001b[0m \u001b[0mresult\u001b[0m\u001b[0;34m\u001b[0m\u001b[0;34m\u001b[0m\u001b[0m\n",
      "\u001b[0;32m~/anaconda3/lib/python3.8/site-packages/pandas/core/tools/datetimes.py\u001b[0m in \u001b[0;36m_convert_listlike_datetimes\u001b[0;34m(arg, format, name, tz, unit, errors, infer_datetime_format, dayfirst, yearfirst, exact)\u001b[0m\n\u001b[1;32m    457\u001b[0m         \u001b[0;32massert\u001b[0m \u001b[0mformat\u001b[0m \u001b[0;32mis\u001b[0m \u001b[0;32mNone\u001b[0m \u001b[0;32mor\u001b[0m \u001b[0minfer_datetime_format\u001b[0m\u001b[0;34m\u001b[0m\u001b[0;34m\u001b[0m\u001b[0m\n\u001b[1;32m    458\u001b[0m         \u001b[0mutc\u001b[0m \u001b[0;34m=\u001b[0m \u001b[0mtz\u001b[0m \u001b[0;34m==\u001b[0m \u001b[0;34m\"utc\"\u001b[0m\u001b[0;34m\u001b[0m\u001b[0;34m\u001b[0m\u001b[0m\n\u001b[0;32m--> 459\u001b[0;31m         result, tz_parsed = objects_to_datetime64ns(\n\u001b[0m\u001b[1;32m    460\u001b[0m             \u001b[0marg\u001b[0m\u001b[0;34m,\u001b[0m\u001b[0;34m\u001b[0m\u001b[0;34m\u001b[0m\u001b[0m\n\u001b[1;32m    461\u001b[0m             \u001b[0mdayfirst\u001b[0m\u001b[0;34m=\u001b[0m\u001b[0mdayfirst\u001b[0m\u001b[0;34m,\u001b[0m\u001b[0;34m\u001b[0m\u001b[0;34m\u001b[0m\u001b[0m\n",
      "\u001b[0;32m~/anaconda3/lib/python3.8/site-packages/pandas/core/arrays/datetimes.py\u001b[0m in \u001b[0;36mobjects_to_datetime64ns\u001b[0;34m(data, dayfirst, yearfirst, utc, errors, require_iso8601, allow_object)\u001b[0m\n\u001b[1;32m   2057\u001b[0m             \u001b[0;32mreturn\u001b[0m \u001b[0mvalues\u001b[0m\u001b[0;34m.\u001b[0m\u001b[0mview\u001b[0m\u001b[0;34m(\u001b[0m\u001b[0;34m\"i8\"\u001b[0m\u001b[0;34m)\u001b[0m\u001b[0;34m,\u001b[0m \u001b[0mtz_parsed\u001b[0m\u001b[0;34m\u001b[0m\u001b[0;34m\u001b[0m\u001b[0m\n\u001b[1;32m   2058\u001b[0m         \u001b[0;32mexcept\u001b[0m \u001b[0;34m(\u001b[0m\u001b[0mValueError\u001b[0m\u001b[0;34m,\u001b[0m \u001b[0mTypeError\u001b[0m\u001b[0;34m)\u001b[0m\u001b[0;34m:\u001b[0m\u001b[0;34m\u001b[0m\u001b[0;34m\u001b[0m\u001b[0m\n\u001b[0;32m-> 2059\u001b[0;31m             \u001b[0;32mraise\u001b[0m \u001b[0me\u001b[0m\u001b[0;34m\u001b[0m\u001b[0;34m\u001b[0m\u001b[0m\n\u001b[0m\u001b[1;32m   2060\u001b[0m \u001b[0;34m\u001b[0m\u001b[0m\n\u001b[1;32m   2061\u001b[0m     \u001b[0;32mif\u001b[0m \u001b[0mtz_parsed\u001b[0m \u001b[0;32mis\u001b[0m \u001b[0;32mnot\u001b[0m \u001b[0;32mNone\u001b[0m\u001b[0;34m:\u001b[0m\u001b[0;34m\u001b[0m\u001b[0;34m\u001b[0m\u001b[0m\n",
      "\u001b[0;32m~/anaconda3/lib/python3.8/site-packages/pandas/core/arrays/datetimes.py\u001b[0m in \u001b[0;36mobjects_to_datetime64ns\u001b[0;34m(data, dayfirst, yearfirst, utc, errors, require_iso8601, allow_object)\u001b[0m\n\u001b[1;32m   2042\u001b[0m \u001b[0;34m\u001b[0m\u001b[0m\n\u001b[1;32m   2043\u001b[0m     \u001b[0;32mtry\u001b[0m\u001b[0;34m:\u001b[0m\u001b[0;34m\u001b[0m\u001b[0;34m\u001b[0m\u001b[0m\n\u001b[0;32m-> 2044\u001b[0;31m         result, tz_parsed = tslib.array_to_datetime(\n\u001b[0m\u001b[1;32m   2045\u001b[0m             \u001b[0mdata\u001b[0m\u001b[0;34m,\u001b[0m\u001b[0;34m\u001b[0m\u001b[0;34m\u001b[0m\u001b[0m\n\u001b[1;32m   2046\u001b[0m             \u001b[0merrors\u001b[0m\u001b[0;34m=\u001b[0m\u001b[0merrors\u001b[0m\u001b[0;34m,\u001b[0m\u001b[0;34m\u001b[0m\u001b[0;34m\u001b[0m\u001b[0m\n",
      "\u001b[0;32mpandas/_libs/tslib.pyx\u001b[0m in \u001b[0;36mpandas._libs.tslib.array_to_datetime\u001b[0;34m()\u001b[0m\n",
      "\u001b[0;32mpandas/_libs/tslib.pyx\u001b[0m in \u001b[0;36mpandas._libs.tslib.array_to_datetime\u001b[0;34m()\u001b[0m\n",
      "\u001b[0;32mpandas/_libs/tslib.pyx\u001b[0m in \u001b[0;36mpandas._libs.tslib.array_to_datetime\u001b[0;34m()\u001b[0m\n",
      "\u001b[0;32mpandas/_libs/tslib.pyx\u001b[0m in \u001b[0;36mpandas._libs.tslib.array_to_datetime\u001b[0;34m()\u001b[0m\n",
      "\u001b[0;32mpandas/_libs/tslibs/conversion.pyx\u001b[0m in \u001b[0;36mpandas._libs.tslibs.conversion.convert_datetime_to_tsobject\u001b[0;34m()\u001b[0m\n",
      "\u001b[0;32mpandas/_libs/tslibs/np_datetime.pyx\u001b[0m in \u001b[0;36mpandas._libs.tslibs.np_datetime.check_dts_bounds\u001b[0;34m()\u001b[0m\n",
      "\u001b[0;31mOutOfBoundsDatetime\u001b[0m: Out of bounds nanosecond timestamp: 1664-09-02 00:00:00"
     ]
    }
   ],
   "source": [
    "NYC = pd.to_datetime('9-2-1664')"
   ]
  },
  {
   "cell_type": "markdown",
   "metadata": {},
   "source": [
    "Timestamp limitations: https://pandas-docs.github.io/pandas-docs-travis/user_guide/timeseries.html#timeseries-timestamp-limits\n",
    "\n",
    "#### Python ***datetime*** module\n",
    "Python provides the date and time functionality in the **datetime** module that contains three popular classes:\n",
    "\n",
    "- **Date class**: to work with dates (day, month, year)\n",
    "- **Time class**: to work with times (hours, minutes, seconds, microseconds)\n",
    "- **Datetime class**: to work with components of both date and time"
   ]
  },
  {
   "cell_type": "code",
   "execution_count": 71,
   "metadata": {},
   "outputs": [],
   "source": [
    "from datetime import datetime\n",
    "NYC2 = datetime(1664,9,2)"
   ]
  },
  {
   "cell_type": "code",
   "execution_count": 72,
   "metadata": {},
   "outputs": [
    {
     "data": {
      "text/plain": [
       "datetime.datetime(1664, 9, 2, 0, 0)"
      ]
     },
     "execution_count": 72,
     "metadata": {},
     "output_type": "execute_result"
    }
   ],
   "source": [
    "NYC2"
   ]
  },
  {
   "cell_type": "markdown",
   "metadata": {},
   "source": [
    "***Convert strings to datetime.datetime objects***"
   ]
  },
  {
   "cell_type": "code",
   "execution_count": 73,
   "metadata": {},
   "outputs": [],
   "source": [
    "NYC3 = datetime.strptime('2/9/1664', '%d/%m/%Y')"
   ]
  },
  {
   "cell_type": "code",
   "execution_count": 74,
   "metadata": {},
   "outputs": [
    {
     "data": {
      "text/plain": [
       "datetime.datetime(1664, 9, 2, 0, 0)"
      ]
     },
     "execution_count": 74,
     "metadata": {},
     "output_type": "execute_result"
    }
   ],
   "source": [
    "NYC3"
   ]
  },
  {
   "cell_type": "markdown",
   "metadata": {},
   "source": [
    "***Working with a list of dates***"
   ]
  },
  {
   "cell_type": "code",
   "execution_count": 75,
   "metadata": {},
   "outputs": [],
   "source": [
    "date_list_str = ['2021-03-14', '2020-12-25', '2025-02-19']"
   ]
  },
  {
   "cell_type": "code",
   "execution_count": 76,
   "metadata": {},
   "outputs": [
    {
     "data": {
      "text/plain": [
       "[datetime.datetime(2021, 3, 14, 0, 0),\n",
       " datetime.datetime(2020, 12, 25, 0, 0),\n",
       " datetime.datetime(2025, 2, 19, 0, 0)]"
      ]
     },
     "execution_count": 76,
     "metadata": {},
     "output_type": "execute_result"
    }
   ],
   "source": [
    "[datetime.strptime(x, '%Y-%m-%d') for x in date_list_str]"
   ]
  },
  {
   "cell_type": "code",
   "execution_count": 78,
   "metadata": {},
   "outputs": [],
   "source": [
    "cities2 = pd.read_csv('top12.csv')"
   ]
  },
  {
   "cell_type": "code",
   "execution_count": 79,
   "metadata": {},
   "outputs": [
    {
     "data": {
      "text/plain": [
       "[datetime.datetime(1850, 4, 4, 0, 0),\n",
       " datetime.datetime(1837, 3, 4, 0, 0),\n",
       " datetime.datetime(1837, 6, 5, 0, 0),\n",
       " datetime.datetime(1881, 2, 25, 0, 0),\n",
       " datetime.datetime(1701, 10, 25, 0, 0),\n",
       " datetime.datetime(1837, 6, 5, 0, 0),\n",
       " datetime.datetime(1850, 3, 27, 0, 0),\n",
       " datetime.datetime(1856, 2, 2, 0, 0),\n",
       " datetime.datetime(1850, 3, 27, 0, 0),\n",
       " datetime.datetime(1839, 12, 27, 0, 0),\n",
       " datetime.datetime(1832, 2, 9, 0, 0)]"
      ]
     },
     "execution_count": 79,
     "metadata": {},
     "output_type": "execute_result"
    }
   ],
   "source": [
    "[datetime.strptime(x, '%m/%d/%Y') for x in cities2['Incorporated']]"
   ]
  },
  {
   "cell_type": "markdown",
   "metadata": {},
   "source": [
    "### **Problem 2: Time zone**\n",
    "What time is it now?"
   ]
  },
  {
   "cell_type": "code",
   "execution_count": null,
   "metadata": {},
   "outputs": [],
   "source": [
    "now = pd.to_datetime('now')"
   ]
  },
  {
   "cell_type": "code",
   "execution_count": null,
   "metadata": {},
   "outputs": [],
   "source": [
    "now"
   ]
  },
  {
   "cell_type": "code",
   "execution_count": null,
   "metadata": {},
   "outputs": [],
   "source": [
    "now_utc = now.tz_localize('UTC')"
   ]
  },
  {
   "cell_type": "code",
   "execution_count": null,
   "metadata": {},
   "outputs": [],
   "source": [
    "now_utc"
   ]
  },
  {
   "cell_type": "code",
   "execution_count": null,
   "metadata": {},
   "outputs": [],
   "source": [
    "now_est = now_utc.tz_convert('US/Eastern')"
   ]
  },
  {
   "cell_type": "code",
   "execution_count": null,
   "metadata": {},
   "outputs": [],
   "source": [
    "now_est"
   ]
  },
  {
   "cell_type": "markdown",
   "metadata": {},
   "source": [
    "There is conversion of TIMESTAMP values from the current time zone to UTC for storage, and back from UTC to the current time zone for retrieval.  By default, the current time zone for each connection is the server's time. This does not occur for other types such as DATETIME.\n",
    "#### Python **datetime** module"
   ]
  },
  {
   "cell_type": "code",
   "execution_count": null,
   "metadata": {},
   "outputs": [],
   "source": [
    "now = datetime.now()"
   ]
  },
  {
   "cell_type": "code",
   "execution_count": null,
   "metadata": {},
   "outputs": [],
   "source": [
    "now"
   ]
  },
  {
   "cell_type": "code",
   "execution_count": null,
   "metadata": {},
   "outputs": [],
   "source": [
    "now.date()"
   ]
  },
  {
   "cell_type": "code",
   "execution_count": null,
   "metadata": {},
   "outputs": [],
   "source": [
    "now.time()"
   ]
  },
  {
   "cell_type": "code",
   "execution_count": null,
   "metadata": {},
   "outputs": [],
   "source": []
  },
  {
   "cell_type": "code",
   "execution_count": null,
   "metadata": {},
   "outputs": [],
   "source": []
  },
  {
   "cell_type": "code",
   "execution_count": null,
   "metadata": {},
   "outputs": [],
   "source": []
  },
  {
   "cell_type": "code",
   "execution_count": null,
   "metadata": {},
   "outputs": [],
   "source": []
  }
 ],
 "metadata": {
  "kernelspec": {
   "display_name": "Python 3",
   "language": "python",
   "name": "python3"
  },
  "language_info": {
   "codemirror_mode": {
    "name": "ipython",
    "version": 3
   },
   "file_extension": ".py",
   "mimetype": "text/x-python",
   "name": "python",
   "nbconvert_exporter": "python",
   "pygments_lexer": "ipython3",
   "version": "3.8.5"
  }
 },
 "nbformat": 4,
 "nbformat_minor": 4
}
