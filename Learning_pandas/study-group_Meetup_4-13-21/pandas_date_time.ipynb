{
 "cells": [
  {
   "cell_type": "markdown",
   "metadata": {},
   "source": [
    "# Time series\n",
    "\n",
    "This jupyter notebook can be found on my GitHub account: https://github.com/mbonnemaison/Learning-Python\n",
    "\n",
    "Sources:\n",
    "- Python for Data Analysis by Wes McKinney (2nd edition used here) - Chapter 11\n",
    "- Good overview: https://pandas.pydata.org/docs/user_guide/timeseries.html\n",
    "\n",
    "\n",
    "## Introduction\n",
    "Time series is an important form of structured data in neuroscience, physics, ecology, economics, finances. Anything that is observed or measured at many points in time forms a time series.\n",
    "Different types of time series :\n",
    "- **Timestamps** : specific instants in time\n",
    "- Fixed **periods** such as the month of March 2021 or the year 2020\n",
    "- **Intervals** of time indicated by a start and end timestamp. \n",
    "    - *Periods* can be thought of as special cases of intervals\n",
    "    - *Fixed frequency* consist of data points that occur at regular intervals, like every 5 minutes.\n",
    "\n",
    "## Dates and time data types and tools\n",
    "Good places to start when dealing with dates and times: **datetime**, **time** and **calendar** modules.\n",
    "\n",
    "### **datetime** stores both the date and time down to the microsecond.\n",
    "Source: https://docs.python.org/3/library/datetime.html#datetime.datetime"
   ]
  },
  {
   "cell_type": "code",
   "execution_count": 22,
   "metadata": {
    "collapsed": true,
    "jupyter": {
     "outputs_hidden": true
    }
   },
   "outputs": [
    {
     "data": {
      "text/plain": [
       "['__add__',\n",
       " '__class__',\n",
       " '__delattr__',\n",
       " '__dir__',\n",
       " '__doc__',\n",
       " '__eq__',\n",
       " '__format__',\n",
       " '__ge__',\n",
       " '__getattribute__',\n",
       " '__gt__',\n",
       " '__hash__',\n",
       " '__init__',\n",
       " '__init_subclass__',\n",
       " '__le__',\n",
       " '__lt__',\n",
       " '__ne__',\n",
       " '__new__',\n",
       " '__radd__',\n",
       " '__reduce__',\n",
       " '__reduce_ex__',\n",
       " '__repr__',\n",
       " '__rsub__',\n",
       " '__setattr__',\n",
       " '__sizeof__',\n",
       " '__str__',\n",
       " '__sub__',\n",
       " '__subclasshook__',\n",
       " 'astimezone',\n",
       " 'combine',\n",
       " 'ctime',\n",
       " 'date',\n",
       " 'day',\n",
       " 'dst',\n",
       " 'fold',\n",
       " 'fromisocalendar',\n",
       " 'fromisoformat',\n",
       " 'fromordinal',\n",
       " 'fromtimestamp',\n",
       " 'hour',\n",
       " 'isocalendar',\n",
       " 'isoformat',\n",
       " 'isoweekday',\n",
       " 'max',\n",
       " 'microsecond',\n",
       " 'min',\n",
       " 'minute',\n",
       " 'month',\n",
       " 'now',\n",
       " 'replace',\n",
       " 'resolution',\n",
       " 'second',\n",
       " 'strftime',\n",
       " 'strptime',\n",
       " 'time',\n",
       " 'timestamp',\n",
       " 'timetuple',\n",
       " 'timetz',\n",
       " 'today',\n",
       " 'toordinal',\n",
       " 'tzinfo',\n",
       " 'tzname',\n",
       " 'utcfromtimestamp',\n",
       " 'utcnow',\n",
       " 'utcoffset',\n",
       " 'utctimetuple',\n",
       " 'weekday',\n",
       " 'year']"
      ]
     },
     "execution_count": 22,
     "metadata": {},
     "output_type": "execute_result"
    }
   ],
   "source": [
    "from datetime import datetime\n",
    "dir(datetime)\n",
    "#from \"a file\" import \"a class contained within the file\"\n",
    "#A class contains functions & information that allows the creation of a new data type."
   ]
  },
  {
   "cell_type": "code",
   "execution_count": 4,
   "metadata": {},
   "outputs": [
    {
     "data": {
      "text/plain": [
       "datetime.datetime(2021, 3, 5, 23, 45, 12)"
      ]
     },
     "execution_count": 4,
     "metadata": {},
     "output_type": "execute_result"
    }
   ],
   "source": [
    "datetime(2021, 3, 5, 23, 45, 12)"
   ]
  },
  {
   "cell_type": "code",
   "execution_count": 7,
   "metadata": {},
   "outputs": [
    {
     "data": {
      "text/plain": [
       "datetime.datetime(2021, 3, 29, 16, 15, 9, 125622)"
      ]
     },
     "execution_count": 7,
     "metadata": {},
     "output_type": "execute_result"
    }
   ],
   "source": [
    "now = datetime.now()\n",
    "now"
   ]
  },
  {
   "cell_type": "code",
   "execution_count": 8,
   "metadata": {},
   "outputs": [
    {
     "data": {
      "text/plain": [
       "datetime.datetime"
      ]
     },
     "execution_count": 8,
     "metadata": {},
     "output_type": "execute_result"
    }
   ],
   "source": [
    "type(now)"
   ]
  },
  {
   "cell_type": "code",
   "execution_count": 9,
   "metadata": {},
   "outputs": [
    {
     "data": {
      "text/plain": [
       "2021"
      ]
     },
     "execution_count": 9,
     "metadata": {},
     "output_type": "execute_result"
    }
   ],
   "source": [
    "now.year"
   ]
  },
  {
   "cell_type": "code",
   "execution_count": 10,
   "metadata": {},
   "outputs": [
    {
     "data": {
      "text/plain": [
       "16"
      ]
     },
     "execution_count": 10,
     "metadata": {},
     "output_type": "execute_result"
    }
   ],
   "source": [
    "now.hour"
   ]
  },
  {
   "cell_type": "code",
   "execution_count": 11,
   "metadata": {},
   "outputs": [
    {
     "data": {
      "text/plain": [
       "datetime.time(16, 15, 9, 125622)"
      ]
     },
     "execution_count": 11,
     "metadata": {},
     "output_type": "execute_result"
    }
   ],
   "source": [
    "now.time()"
   ]
  },
  {
   "cell_type": "code",
   "execution_count": 12,
   "metadata": {},
   "outputs": [
    {
     "data": {
      "text/plain": [
       "datetime.date(2021, 3, 29)"
      ]
     },
     "execution_count": 12,
     "metadata": {},
     "output_type": "execute_result"
    }
   ],
   "source": [
    "now.date()"
   ]
  },
  {
   "cell_type": "markdown",
   "metadata": {},
   "source": [
    "### **timedelta** represents the temporal difference between two **datetime** objects"
   ]
  },
  {
   "cell_type": "code",
   "execution_count": 17,
   "metadata": {},
   "outputs": [
    {
     "data": {
      "text/plain": [
       "datetime.timedelta(days=22, seconds=1)"
      ]
     },
     "execution_count": 17,
     "metadata": {},
     "output_type": "execute_result"
    }
   ],
   "source": [
    "delta = datetime(2021, 3, 23, 20, 0, 12) - datetime(2021, 3, 1, 20, 0, 11)\n",
    "delta"
   ]
  },
  {
   "cell_type": "markdown",
   "metadata": {},
   "source": [
    "You can add a **timedelta** to a datetime object to yield a new shifted object."
   ]
  },
  {
   "cell_type": "code",
   "execution_count": 18,
   "metadata": {},
   "outputs": [],
   "source": [
    "from datetime import timedelta"
   ]
  },
  {
   "cell_type": "code",
   "execution_count": 20,
   "metadata": {},
   "outputs": [],
   "source": [
    "start = datetime(2021, 4, 13, 12, 0, 0)"
   ]
  },
  {
   "cell_type": "code",
   "execution_count": 21,
   "metadata": {},
   "outputs": [
    {
     "data": {
      "text/plain": [
       "datetime.datetime(2021, 4, 23, 12, 0)"
      ]
     },
     "execution_count": 21,
     "metadata": {},
     "output_type": "execute_result"
    }
   ],
   "source": [
    "start + timedelta(10)"
   ]
  },
  {
   "cell_type": "markdown",
   "metadata": {},
   "source": [
    "### Convert dates to strings\n",
    "**datetime** objects and pandas **Timestamp** objects can be converted into strings using **str** or the **strftime** method passing a format specification."
   ]
  },
  {
   "cell_type": "code",
   "execution_count": 31,
   "metadata": {},
   "outputs": [
    {
     "data": {
      "text/plain": [
       "datetime.datetime(2021, 4, 13, 4, 0)"
      ]
     },
     "execution_count": 31,
     "metadata": {},
     "output_type": "execute_result"
    }
   ],
   "source": [
    "stamp = datetime(2021, 4, 13, 4)\n",
    "stamp"
   ]
  },
  {
   "cell_type": "code",
   "execution_count": 25,
   "metadata": {},
   "outputs": [
    {
     "data": {
      "text/plain": [
       "datetime.datetime"
      ]
     },
     "execution_count": 25,
     "metadata": {},
     "output_type": "execute_result"
    }
   ],
   "source": [
    "type(stamp)"
   ]
  },
  {
   "cell_type": "code",
   "execution_count": 26,
   "metadata": {},
   "outputs": [
    {
     "data": {
      "text/plain": [
       "'2021-04-13 00:00:00'"
      ]
     },
     "execution_count": 26,
     "metadata": {},
     "output_type": "execute_result"
    }
   ],
   "source": [
    "str(stamp)"
   ]
  },
  {
   "cell_type": "code",
   "execution_count": 35,
   "metadata": {},
   "outputs": [
    {
     "data": {
      "text/plain": [
       "'2021-04-13, 04'"
      ]
     },
     "execution_count": 35,
     "metadata": {},
     "output_type": "execute_result"
    }
   ],
   "source": [
    "stamp.strftime('%Y-%m-%d, %H')"
   ]
  },
  {
   "cell_type": "markdown",
   "metadata": {},
   "source": [
    "### Convert from strings to dates\n",
    "**Methode #1**: Strings can be converted to dates using **datetime.strptime**.\n",
    "\n",
    "Note: Information on format can be found here: https://docs.python.org/3/library/datetime.html#strftime-and-strptime-behavior)"
   ]
  },
  {
   "cell_type": "code",
   "execution_count": 36,
   "metadata": {},
   "outputs": [],
   "source": [
    "today = '2021-04-13'"
   ]
  },
  {
   "cell_type": "code",
   "execution_count": 38,
   "metadata": {},
   "outputs": [
    {
     "data": {
      "text/plain": [
       "str"
      ]
     },
     "execution_count": 38,
     "metadata": {},
     "output_type": "execute_result"
    }
   ],
   "source": [
    "type(today)"
   ]
  },
  {
   "cell_type": "code",
   "execution_count": 40,
   "metadata": {},
   "outputs": [
    {
     "data": {
      "text/plain": [
       "datetime.datetime(2021, 4, 13, 0, 0)"
      ]
     },
     "execution_count": 40,
     "metadata": {},
     "output_type": "execute_result"
    }
   ],
   "source": [
    "datetime.strptime(today, '%Y-%m-%d')"
   ]
  },
  {
   "cell_type": "code",
   "execution_count": 2,
   "metadata": {},
   "outputs": [],
   "source": [
    "date_list_str = ['2021-03-14', '2020-12-25', '2025-02-19']"
   ]
  },
  {
   "cell_type": "code",
   "execution_count": 42,
   "metadata": {},
   "outputs": [
    {
     "data": {
      "text/plain": [
       "[datetime.datetime(2021, 3, 14, 0, 0),\n",
       " datetime.datetime(2020, 12, 25, 0, 0),\n",
       " datetime.datetime(2025, 2, 19, 0, 0)]"
      ]
     },
     "execution_count": 42,
     "metadata": {},
     "output_type": "execute_result"
    }
   ],
   "source": [
    "[datetime.strptime(x, '%Y-%m-%d') for x in date_list_str]"
   ]
  },
  {
   "cell_type": "markdown",
   "metadata": {},
   "source": [
    "**Methode #2**: Strings can be converted to dates using **pd.to_datetime**.\n",
    "\n",
    "**pandas** is generally oriented toward working with arrays of dates, whether used as an axis index or a column in a DataFrame. The **to_datetime** method parses many different kinds of date representations.\n",
    "\n",
    "Note: Information on format can be found here: https://docs.python.org/3/library/datetime.html#strftime-and-strptime-behavior)"
   ]
  },
  {
   "cell_type": "code",
   "execution_count": 1,
   "metadata": {},
   "outputs": [],
   "source": [
    "import pandas as pd"
   ]
  },
  {
   "cell_type": "code",
   "execution_count": 3,
   "metadata": {},
   "outputs": [
    {
     "data": {
      "text/plain": [
       "DatetimeIndex(['2021-03-14', '2020-12-25', '2025-02-19'], dtype='datetime64[ns]', freq=None)"
      ]
     },
     "execution_count": 3,
     "metadata": {},
     "output_type": "execute_result"
    }
   ],
   "source": [
    "pd.to_datetime(date_list_str)"
   ]
  },
  {
   "cell_type": "markdown",
   "metadata": {},
   "source": [
    "**pandas** also handles values that should be missing (None, empty string, etc.)"
   ]
  },
  {
   "cell_type": "code",
   "execution_count": 48,
   "metadata": {},
   "outputs": [],
   "source": [
    "date_list_str = ['2021-03-14', '2020-12-25', '2025-02-19', None]"
   ]
  },
  {
   "cell_type": "code",
   "execution_count": 49,
   "metadata": {},
   "outputs": [
    {
     "data": {
      "text/plain": [
       "DatetimeIndex(['2021-03-14', '2020-12-25', '2025-02-19', 'NaT'], dtype='datetime64[ns]', freq=None)"
      ]
     },
     "execution_count": 49,
     "metadata": {},
     "output_type": "execute_result"
    }
   ],
   "source": [
    "pd.to_datetime(date_list_str)"
   ]
  },
  {
   "cell_type": "markdown",
   "metadata": {},
   "source": [
    "**NaT** means Not a Time"
   ]
  },
  {
   "cell_type": "code",
   "execution_count": 50,
   "metadata": {},
   "outputs": [
    {
     "data": {
      "text/plain": [
       "'2021-03-14'"
      ]
     },
     "execution_count": 50,
     "metadata": {},
     "output_type": "execute_result"
    }
   ],
   "source": [
    "#Find out what the items are within the list\n",
    "date_list_str[0]"
   ]
  },
  {
   "cell_type": "code",
   "execution_count": 51,
   "metadata": {},
   "outputs": [
    {
     "data": {
      "text/plain": [
       "array([False, False, False,  True])"
      ]
     },
     "execution_count": 51,
     "metadata": {},
     "output_type": "execute_result"
    }
   ],
   "source": [
    "#Find out if there is a null value within the list\n",
    "pd.isnull(date_list_str)"
   ]
  },
  {
   "cell_type": "markdown",
   "metadata": {},
   "source": [
    "## Time Series Basics\n",
    "A kind of time series object in pandas is a **Series indexed by timestamps**, which is often represented external to pandas as Python strings or datetime objects.\n",
    "\n",
    "2 methods to build a time Series:\n",
    "\n",
    "**Method #1: using datetime**"
   ]
  },
  {
   "cell_type": "code",
   "execution_count": 3,
   "metadata": {},
   "outputs": [],
   "source": [
    "from datetime import datetime"
   ]
  },
  {
   "cell_type": "code",
   "execution_count": 4,
   "metadata": {},
   "outputs": [],
   "source": [
    "dates = [\n",
    "    datetime(2021, 3, 14),\n",
    "    datetime(1986, 10, 23),\n",
    "    datetime(1987, 2, 19),\n",
    "    datetime(2020, 6, 2)\n",
    "]"
   ]
  },
  {
   "cell_type": "code",
   "execution_count": 22,
   "metadata": {},
   "outputs": [],
   "source": [
    "ts = pd.Series([2,3,4,5], index = dates)\n",
    "ts"
   ]
  },
  {
   "cell_type": "code",
   "execution_count": 24,
   "metadata": {},
   "outputs": [
    {
     "data": {
      "text/plain": [
       "DatetimeIndex(['2021-03-14', '1986-10-23', '1987-02-19', '2020-06-02'], dtype='datetime64[ns]', freq=None)"
      ]
     },
     "execution_count": 24,
     "metadata": {},
     "output_type": "execute_result"
    }
   ],
   "source": [
    "# These datetime objects have been put in a DatetimeIndex\n",
    "ts.index"
   ]
  },
  {
   "cell_type": "markdown",
   "metadata": {},
   "source": [
    "**Method #2: using to_datetime**"
   ]
  },
  {
   "cell_type": "code",
   "execution_count": 32,
   "metadata": {},
   "outputs": [],
   "source": [
    "dates2 = [pd.to_datetime('2021-3-14'), pd.to_datetime('2021-3-15'), pd.to_datetime('2021-3-16'), pd.to_datetime('2021-3-17'), pd.to_datetime('2021-3-18'), pd.to_datetime('2021-3-19'), pd.to_datetime('2021-3-20'), pd.to_datetime('2021-3-21'), pd.to_datetime('2021-3-22')]"
   ]
  },
  {
   "cell_type": "code",
   "execution_count": 34,
   "metadata": {},
   "outputs": [
    {
     "data": {
      "text/plain": [
       "2021-03-14    a\n",
       "2021-03-15    b\n",
       "2021-03-16    c\n",
       "2021-03-17    d\n",
       "2021-03-18    e\n",
       "2021-03-19    f\n",
       "2021-03-20    g\n",
       "2021-03-21    h\n",
       "2021-03-22    i\n",
       "dtype: object"
      ]
     },
     "execution_count": 34,
     "metadata": {},
     "output_type": "execute_result"
    }
   ],
   "source": [
    "ts2 = pd.Series(['a', 'b', 'c', 'd', 'e', 'f', 'g', 'h', 'i'], index = dates2)\n",
    "ts2"
   ]
  },
  {
   "cell_type": "code",
   "execution_count": 35,
   "metadata": {},
   "outputs": [
    {
     "data": {
      "text/plain": [
       "DatetimeIndex(['2021-03-14', '2021-03-15', '2021-03-16', '2021-03-17',\n",
       "               '2021-03-18', '2021-03-19', '2021-03-20', '2021-03-21',\n",
       "               '2021-03-22'],\n",
       "              dtype='datetime64[ns]', freq=None)"
      ]
     },
     "execution_count": 35,
     "metadata": {},
     "output_type": "execute_result"
    }
   ],
   "source": [
    "ts2.index"
   ]
  },
  {
   "cell_type": "markdown",
   "metadata": {},
   "source": [
    "### Select rows with a DateTime Index\n",
    "\n",
    "To select the wanted rows, it is possible to enter a string that has an interpretable as a date.\n",
    "\n",
    "Methods to select the wanted rows:\n",
    "\n",
    "**Method #1**: using the indexing method"
   ]
  },
  {
   "cell_type": "code",
   "execution_count": 36,
   "metadata": {
    "collapsed": true,
    "jupyter": {
     "outputs_hidden": true
    }
   },
   "outputs": [
    {
     "data": {
      "text/plain": [
       "'b'"
      ]
     },
     "execution_count": 36,
     "metadata": {},
     "output_type": "execute_result"
    }
   ],
   "source": [
    "ts2['2021/03/15']"
   ]
  },
  {
   "cell_type": "code",
   "execution_count": 45,
   "metadata": {
    "collapsed": true,
    "jupyter": {
     "outputs_hidden": true
    }
   },
   "outputs": [
    {
     "data": {
      "text/plain": [
       "2021-03-14    a\n",
       "2021-03-15    b\n",
       "2021-03-16    c\n",
       "2021-03-17    d\n",
       "2021-03-18    e\n",
       "2021-03-19    f\n",
       "2021-03-20    g\n",
       "2021-03-21    h\n",
       "2021-03-22    i\n",
       "dtype: object"
      ]
     },
     "execution_count": 45,
     "metadata": {},
     "output_type": "execute_result"
    }
   ],
   "source": [
    "ts2['2021/03']"
   ]
  },
  {
   "cell_type": "markdown",
   "metadata": {},
   "source": [
    "For the next examples, we will use:\n",
    "- **NumPy** (another Python library) to generate random numbers\n",
    "- the function **date_range** to generate an index containing list of dates with fixed frequency (more information can be found here: https://pandas.pydata.org/docs/reference/api/pandas.date_range.html?highlight=date_range#pandas.date_range)\n",
    "\n",
    "Notes on date_range: \n",
    "- by default, date_range generates daily timestamps. Examples of frequencies: freq = '2H'; freq = '1h30min'; freq = 'WOM-3FRI' (to get the 3rd Friday of each month); freq = 'M' (per month)\n",
    "- If you pass only a start or end date, you must pass a number of periods to generate."
   ]
  },
  {
   "cell_type": "code",
   "execution_count": 5,
   "metadata": {},
   "outputs": [],
   "source": [
    "#Use numpy to generate random numbers for example\n",
    "import numpy as np"
   ]
  },
  {
   "cell_type": "code",
   "execution_count": 76,
   "metadata": {},
   "outputs": [
    {
     "data": {
      "text/plain": [
       "DatetimeIndex(['2021-01-01', '2021-01-02', '2021-01-03', '2021-01-04',\n",
       "               '2021-01-05', '2021-01-06', '2021-01-07', '2021-01-08',\n",
       "               '2021-01-09', '2021-01-10',\n",
       "               ...\n",
       "               '2021-05-21', '2021-05-22', '2021-05-23', '2021-05-24',\n",
       "               '2021-05-25', '2021-05-26', '2021-05-27', '2021-05-28',\n",
       "               '2021-05-29', '2021-05-30'],\n",
       "              dtype='datetime64[ns]', length=150, freq='D')"
      ]
     },
     "execution_count": 76,
     "metadata": {},
     "output_type": "execute_result"
    }
   ],
   "source": [
    "long_ts = pd.Series(np.random.randn(150), index = pd.date_range('1/1/2021', periods = 150))\n",
    "long_ts.index"
   ]
  },
  {
   "cell_type": "code",
   "execution_count": 48,
   "metadata": {
    "collapsed": true,
    "jupyter": {
     "outputs_hidden": true
    }
   },
   "outputs": [
    {
     "data": {
      "text/plain": [
       "2021-03-01   -1.562429\n",
       "2021-03-02   -1.843084\n",
       "2021-03-03   -1.352276\n",
       "2021-03-04   -0.578383\n",
       "2021-03-05   -0.062335\n",
       "2021-03-06   -1.312603\n",
       "2021-03-07    0.512234\n",
       "2021-03-08   -1.948145\n",
       "2021-03-09    0.062856\n",
       "2021-03-10    0.273447\n",
       "2021-03-11   -0.577307\n",
       "2021-03-12   -0.428555\n",
       "2021-03-13   -0.450603\n",
       "2021-03-14   -2.813085\n",
       "2021-03-15   -1.003202\n",
       "2021-03-16    1.197935\n",
       "2021-03-17    0.899049\n",
       "2021-03-18    0.031791\n",
       "2021-03-19    1.572107\n",
       "2021-03-20   -1.527262\n",
       "2021-03-21    0.770378\n",
       "2021-03-22    0.403690\n",
       "2021-03-23    0.274995\n",
       "2021-03-24   -1.013808\n",
       "2021-03-25    0.135519\n",
       "2021-03-26   -0.637773\n",
       "2021-03-27   -0.496534\n",
       "2021-03-28    1.048444\n",
       "2021-03-29    0.392953\n",
       "2021-03-30    1.013880\n",
       "2021-03-31    0.974621\n",
       "Freq: D, dtype: float64"
      ]
     },
     "execution_count": 48,
     "metadata": {},
     "output_type": "execute_result"
    }
   ],
   "source": [
    "long_ts['2021/03']"
   ]
  },
  {
   "cell_type": "code",
   "execution_count": 49,
   "metadata": {
    "collapsed": true,
    "jupyter": {
     "outputs_hidden": true
    }
   },
   "outputs": [
    {
     "data": {
      "text/plain": [
       "2021-03-02   -1.843084\n",
       "2021-03-03   -1.352276\n",
       "2021-03-04   -0.578383\n",
       "2021-03-05   -0.062335\n",
       "2021-03-06   -1.312603\n",
       "2021-03-07    0.512234\n",
       "2021-03-08   -1.948145\n",
       "2021-03-09    0.062856\n",
       "2021-03-10    0.273447\n",
       "2021-03-11   -0.577307\n",
       "2021-03-12   -0.428555\n",
       "Freq: D, dtype: float64"
      ]
     },
     "execution_count": 49,
     "metadata": {},
     "output_type": "execute_result"
    }
   ],
   "source": [
    "long_ts['3/2/2021':'3/12/2021']"
   ]
  },
  {
   "cell_type": "code",
   "execution_count": 50,
   "metadata": {
    "collapsed": true,
    "jupyter": {
     "outputs_hidden": true
    }
   },
   "outputs": [
    {
     "data": {
      "text/plain": [
       "2021-04-30   -0.187855\n",
       "2021-05-01    1.492061\n",
       "2021-05-02    0.909420\n",
       "2021-05-03    1.668753\n",
       "2021-05-04   -0.565621\n",
       "2021-05-05   -0.817174\n",
       "2021-05-06   -0.899487\n",
       "2021-05-07   -0.129690\n",
       "2021-05-08    0.050090\n",
       "2021-05-09   -1.363592\n",
       "2021-05-10    0.724330\n",
       "2021-05-11   -0.872505\n",
       "2021-05-12   -0.885479\n",
       "2021-05-13    2.032714\n",
       "2021-05-14   -1.469228\n",
       "2021-05-15    0.450530\n",
       "2021-05-16   -1.423680\n",
       "2021-05-17   -0.598084\n",
       "2021-05-18   -0.191743\n",
       "2021-05-19    1.547031\n",
       "2021-05-20    0.701601\n",
       "2021-05-21    1.198371\n",
       "2021-05-22   -1.723492\n",
       "2021-05-23    0.772086\n",
       "2021-05-24   -0.725678\n",
       "2021-05-25    2.064422\n",
       "2021-05-26   -0.387128\n",
       "2021-05-27   -0.088619\n",
       "2021-05-28   -0.816795\n",
       "2021-05-29   -0.903469\n",
       "2021-05-30    0.160761\n",
       "Freq: D, dtype: float64"
      ]
     },
     "execution_count": 50,
     "metadata": {},
     "output_type": "execute_result"
    }
   ],
   "source": [
    "long_ts[datetime(2021, 4, 30):]"
   ]
  },
  {
   "cell_type": "markdown",
   "metadata": {},
   "source": [
    "**Method #2**: using the truncate method"
   ]
  },
  {
   "cell_type": "code",
   "execution_count": 54,
   "metadata": {},
   "outputs": [
    {
     "data": {
      "text/plain": [
       "2021-05-01    1.492061\n",
       "2021-05-02    0.909420\n",
       "2021-05-03    1.668753\n",
       "2021-05-04   -0.565621\n",
       "2021-05-05   -0.817174\n",
       "2021-05-06   -0.899487\n",
       "2021-05-07   -0.129690\n",
       "2021-05-08    0.050090\n",
       "2021-05-09   -1.363592\n",
       "2021-05-10    0.724330\n",
       "2021-05-11   -0.872505\n",
       "2021-05-12   -0.885479\n",
       "2021-05-13    2.032714\n",
       "2021-05-14   -1.469228\n",
       "2021-05-15    0.450530\n",
       "Freq: D, dtype: float64"
      ]
     },
     "execution_count": 54,
     "metadata": {},
     "output_type": "execute_result"
    }
   ],
   "source": [
    "long_ts.truncate(before='5/1/2021', after = '5/15/2021')"
   ]
  },
  {
   "cell_type": "markdown",
   "metadata": {},
   "source": [
    "**Method #3**: using the loc method"
   ]
  },
  {
   "cell_type": "code",
   "execution_count": 68,
   "metadata": {},
   "outputs": [
    {
     "data": {
      "text/plain": [
       "2021-05-01    1.492061\n",
       "2021-05-02    0.909420\n",
       "2021-05-03    1.668753\n",
       "2021-05-04   -0.565621\n",
       "2021-05-05   -0.817174\n",
       "Freq: D, dtype: float64"
      ]
     },
     "execution_count": 68,
     "metadata": {},
     "output_type": "execute_result"
    }
   ],
   "source": [
    "long_ts.loc['2021/5/1':'2021/5/5']"
   ]
  },
  {
   "cell_type": "markdown",
   "metadata": {},
   "source": [
    "### These truncation methods also work on DataFrames"
   ]
  },
  {
   "cell_type": "code",
   "execution_count": 6,
   "metadata": {},
   "outputs": [
    {
     "data": {
      "text/plain": [
       "DatetimeIndex(['2021-01-01', '2021-01-02', '2021-01-03', '2021-01-04',\n",
       "               '2021-01-05', '2021-01-06', '2021-01-07', '2021-01-08',\n",
       "               '2021-01-09', '2021-01-10', '2021-01-11', '2021-01-12',\n",
       "               '2021-01-13', '2021-01-14', '2021-01-15', '2021-01-16',\n",
       "               '2021-01-17', '2021-01-18', '2021-01-19', '2021-01-20',\n",
       "               '2021-01-21', '2021-01-22', '2021-01-23', '2021-01-24',\n",
       "               '2021-01-25', '2021-01-26', '2021-01-27', '2021-01-28',\n",
       "               '2021-01-29', '2021-01-30', '2021-01-31', '2021-02-01',\n",
       "               '2021-02-02', '2021-02-03', '2021-02-04', '2021-02-05',\n",
       "               '2021-02-06', '2021-02-07', '2021-02-08', '2021-02-09'],\n",
       "              dtype='datetime64[ns]', freq='D')"
      ]
     },
     "execution_count": 6,
     "metadata": {},
     "output_type": "execute_result"
    }
   ],
   "source": [
    "long_df = pd.DataFrame(\n",
    "np.random.randn(40, 4),\n",
    "index = pd.date_range('1/1/2021', periods = 40),\n",
    "columns = ['France', \"Germany\", 'Italy', 'Spain'])\n",
    "long_df.index"
   ]
  },
  {
   "cell_type": "markdown",
   "metadata": {},
   "source": [
    "**Method #1**: using the indexing method"
   ]
  },
  {
   "cell_type": "code",
   "execution_count": 78,
   "metadata": {},
   "outputs": [
    {
     "data": {
      "text/html": [
       "<div>\n",
       "<style scoped>\n",
       "    .dataframe tbody tr th:only-of-type {\n",
       "        vertical-align: middle;\n",
       "    }\n",
       "\n",
       "    .dataframe tbody tr th {\n",
       "        vertical-align: top;\n",
       "    }\n",
       "\n",
       "    .dataframe thead th {\n",
       "        text-align: right;\n",
       "    }\n",
       "</style>\n",
       "<table border=\"1\" class=\"dataframe\">\n",
       "  <thead>\n",
       "    <tr style=\"text-align: right;\">\n",
       "      <th></th>\n",
       "      <th>France</th>\n",
       "      <th>Germany</th>\n",
       "      <th>Italy</th>\n",
       "      <th>Spain</th>\n",
       "    </tr>\n",
       "  </thead>\n",
       "  <tbody>\n",
       "    <tr>\n",
       "      <th>2021-01-05</th>\n",
       "      <td>0.938201</td>\n",
       "      <td>-0.645051</td>\n",
       "      <td>0.320440</td>\n",
       "      <td>0.006237</td>\n",
       "    </tr>\n",
       "    <tr>\n",
       "      <th>2021-01-06</th>\n",
       "      <td>0.549780</td>\n",
       "      <td>0.239906</td>\n",
       "      <td>-0.769288</td>\n",
       "      <td>0.663420</td>\n",
       "    </tr>\n",
       "    <tr>\n",
       "      <th>2021-01-07</th>\n",
       "      <td>1.396136</td>\n",
       "      <td>-0.221701</td>\n",
       "      <td>0.974311</td>\n",
       "      <td>0.363178</td>\n",
       "    </tr>\n",
       "    <tr>\n",
       "      <th>2021-01-08</th>\n",
       "      <td>-0.047124</td>\n",
       "      <td>1.346120</td>\n",
       "      <td>-1.089281</td>\n",
       "      <td>2.127089</td>\n",
       "    </tr>\n",
       "    <tr>\n",
       "      <th>2021-01-09</th>\n",
       "      <td>-1.066277</td>\n",
       "      <td>0.563510</td>\n",
       "      <td>0.689497</td>\n",
       "      <td>0.123572</td>\n",
       "    </tr>\n",
       "    <tr>\n",
       "      <th>2021-01-10</th>\n",
       "      <td>1.268941</td>\n",
       "      <td>-0.739758</td>\n",
       "      <td>0.729847</td>\n",
       "      <td>-0.172141</td>\n",
       "    </tr>\n",
       "    <tr>\n",
       "      <th>2021-01-11</th>\n",
       "      <td>-2.248896</td>\n",
       "      <td>0.895269</td>\n",
       "      <td>0.129787</td>\n",
       "      <td>-0.251032</td>\n",
       "    </tr>\n",
       "    <tr>\n",
       "      <th>2021-01-12</th>\n",
       "      <td>0.506893</td>\n",
       "      <td>-0.026248</td>\n",
       "      <td>-0.076986</td>\n",
       "      <td>-0.196845</td>\n",
       "    </tr>\n",
       "    <tr>\n",
       "      <th>2021-01-13</th>\n",
       "      <td>-0.157638</td>\n",
       "      <td>0.549719</td>\n",
       "      <td>-0.123321</td>\n",
       "      <td>1.226318</td>\n",
       "    </tr>\n",
       "    <tr>\n",
       "      <th>2021-01-14</th>\n",
       "      <td>1.070910</td>\n",
       "      <td>-2.343417</td>\n",
       "      <td>0.055700</td>\n",
       "      <td>0.729173</td>\n",
       "    </tr>\n",
       "    <tr>\n",
       "      <th>2021-01-15</th>\n",
       "      <td>1.406574</td>\n",
       "      <td>-0.248273</td>\n",
       "      <td>0.974805</td>\n",
       "      <td>-0.933144</td>\n",
       "    </tr>\n",
       "  </tbody>\n",
       "</table>\n",
       "</div>"
      ],
      "text/plain": [
       "              France   Germany     Italy     Spain\n",
       "2021-01-05  0.938201 -0.645051  0.320440  0.006237\n",
       "2021-01-06  0.549780  0.239906 -0.769288  0.663420\n",
       "2021-01-07  1.396136 -0.221701  0.974311  0.363178\n",
       "2021-01-08 -0.047124  1.346120 -1.089281  2.127089\n",
       "2021-01-09 -1.066277  0.563510  0.689497  0.123572\n",
       "2021-01-10  1.268941 -0.739758  0.729847 -0.172141\n",
       "2021-01-11 -2.248896  0.895269  0.129787 -0.251032\n",
       "2021-01-12  0.506893 -0.026248 -0.076986 -0.196845\n",
       "2021-01-13 -0.157638  0.549719 -0.123321  1.226318\n",
       "2021-01-14  1.070910 -2.343417  0.055700  0.729173\n",
       "2021-01-15  1.406574 -0.248273  0.974805 -0.933144"
      ]
     },
     "execution_count": 78,
     "metadata": {},
     "output_type": "execute_result"
    }
   ],
   "source": [
    "long_df['2021/1/5':'2021/1/15']\n",
    "#long_df['2021/1']"
   ]
  },
  {
   "cell_type": "markdown",
   "metadata": {},
   "source": [
    "**Method #2**: using the truncate method"
   ]
  },
  {
   "cell_type": "code",
   "execution_count": 70,
   "metadata": {
    "collapsed": true,
    "jupyter": {
     "outputs_hidden": true
    }
   },
   "outputs": [
    {
     "data": {
      "text/html": [
       "<div>\n",
       "<style scoped>\n",
       "    .dataframe tbody tr th:only-of-type {\n",
       "        vertical-align: middle;\n",
       "    }\n",
       "\n",
       "    .dataframe tbody tr th {\n",
       "        vertical-align: top;\n",
       "    }\n",
       "\n",
       "    .dataframe thead th {\n",
       "        text-align: right;\n",
       "    }\n",
       "</style>\n",
       "<table border=\"1\" class=\"dataframe\">\n",
       "  <thead>\n",
       "    <tr style=\"text-align: right;\">\n",
       "      <th></th>\n",
       "      <th>France</th>\n",
       "      <th>Germany</th>\n",
       "      <th>Italy</th>\n",
       "      <th>Spain</th>\n",
       "    </tr>\n",
       "  </thead>\n",
       "  <tbody>\n",
       "    <tr>\n",
       "      <th>2021-01-06</th>\n",
       "      <td>0.549780</td>\n",
       "      <td>0.239906</td>\n",
       "      <td>-0.769288</td>\n",
       "      <td>0.663420</td>\n",
       "    </tr>\n",
       "    <tr>\n",
       "      <th>2021-01-07</th>\n",
       "      <td>1.396136</td>\n",
       "      <td>-0.221701</td>\n",
       "      <td>0.974311</td>\n",
       "      <td>0.363178</td>\n",
       "    </tr>\n",
       "    <tr>\n",
       "      <th>2021-01-08</th>\n",
       "      <td>-0.047124</td>\n",
       "      <td>1.346120</td>\n",
       "      <td>-1.089281</td>\n",
       "      <td>2.127089</td>\n",
       "    </tr>\n",
       "    <tr>\n",
       "      <th>2021-01-09</th>\n",
       "      <td>-1.066277</td>\n",
       "      <td>0.563510</td>\n",
       "      <td>0.689497</td>\n",
       "      <td>0.123572</td>\n",
       "    </tr>\n",
       "    <tr>\n",
       "      <th>2021-01-10</th>\n",
       "      <td>1.268941</td>\n",
       "      <td>-0.739758</td>\n",
       "      <td>0.729847</td>\n",
       "      <td>-0.172141</td>\n",
       "    </tr>\n",
       "    <tr>\n",
       "      <th>2021-01-11</th>\n",
       "      <td>-2.248896</td>\n",
       "      <td>0.895269</td>\n",
       "      <td>0.129787</td>\n",
       "      <td>-0.251032</td>\n",
       "    </tr>\n",
       "    <tr>\n",
       "      <th>2021-01-12</th>\n",
       "      <td>0.506893</td>\n",
       "      <td>-0.026248</td>\n",
       "      <td>-0.076986</td>\n",
       "      <td>-0.196845</td>\n",
       "    </tr>\n",
       "    <tr>\n",
       "      <th>2021-01-13</th>\n",
       "      <td>-0.157638</td>\n",
       "      <td>0.549719</td>\n",
       "      <td>-0.123321</td>\n",
       "      <td>1.226318</td>\n",
       "    </tr>\n",
       "    <tr>\n",
       "      <th>2021-01-14</th>\n",
       "      <td>1.070910</td>\n",
       "      <td>-2.343417</td>\n",
       "      <td>0.055700</td>\n",
       "      <td>0.729173</td>\n",
       "    </tr>\n",
       "    <tr>\n",
       "      <th>2021-01-15</th>\n",
       "      <td>1.406574</td>\n",
       "      <td>-0.248273</td>\n",
       "      <td>0.974805</td>\n",
       "      <td>-0.933144</td>\n",
       "    </tr>\n",
       "    <tr>\n",
       "      <th>2021-01-16</th>\n",
       "      <td>0.568680</td>\n",
       "      <td>-1.748677</td>\n",
       "      <td>-0.993043</td>\n",
       "      <td>-1.406153</td>\n",
       "    </tr>\n",
       "    <tr>\n",
       "      <th>2021-01-17</th>\n",
       "      <td>-0.011829</td>\n",
       "      <td>2.064026</td>\n",
       "      <td>0.575560</td>\n",
       "      <td>1.813296</td>\n",
       "    </tr>\n",
       "    <tr>\n",
       "      <th>2021-01-18</th>\n",
       "      <td>0.948589</td>\n",
       "      <td>-0.142481</td>\n",
       "      <td>-0.302754</td>\n",
       "      <td>-0.588330</td>\n",
       "    </tr>\n",
       "    <tr>\n",
       "      <th>2021-01-19</th>\n",
       "      <td>-0.330113</td>\n",
       "      <td>0.813734</td>\n",
       "      <td>0.419538</td>\n",
       "      <td>0.093893</td>\n",
       "    </tr>\n",
       "    <tr>\n",
       "      <th>2021-01-20</th>\n",
       "      <td>0.308935</td>\n",
       "      <td>1.220393</td>\n",
       "      <td>1.304385</td>\n",
       "      <td>0.462716</td>\n",
       "    </tr>\n",
       "    <tr>\n",
       "      <th>2021-01-21</th>\n",
       "      <td>-0.000739</td>\n",
       "      <td>-0.791869</td>\n",
       "      <td>-0.498596</td>\n",
       "      <td>0.120679</td>\n",
       "    </tr>\n",
       "    <tr>\n",
       "      <th>2021-01-22</th>\n",
       "      <td>-0.757319</td>\n",
       "      <td>-0.470665</td>\n",
       "      <td>-0.183461</td>\n",
       "      <td>1.159651</td>\n",
       "    </tr>\n",
       "    <tr>\n",
       "      <th>2021-01-23</th>\n",
       "      <td>0.165958</td>\n",
       "      <td>0.176762</td>\n",
       "      <td>0.505333</td>\n",
       "      <td>0.820535</td>\n",
       "    </tr>\n",
       "    <tr>\n",
       "      <th>2021-01-24</th>\n",
       "      <td>0.097710</td>\n",
       "      <td>-0.469085</td>\n",
       "      <td>0.373953</td>\n",
       "      <td>0.401570</td>\n",
       "    </tr>\n",
       "    <tr>\n",
       "      <th>2021-01-25</th>\n",
       "      <td>0.788506</td>\n",
       "      <td>1.009269</td>\n",
       "      <td>-0.839020</td>\n",
       "      <td>1.451343</td>\n",
       "    </tr>\n",
       "    <tr>\n",
       "      <th>2021-01-26</th>\n",
       "      <td>-1.026498</td>\n",
       "      <td>-0.382674</td>\n",
       "      <td>0.460702</td>\n",
       "      <td>-0.876633</td>\n",
       "    </tr>\n",
       "    <tr>\n",
       "      <th>2021-01-27</th>\n",
       "      <td>-1.119526</td>\n",
       "      <td>0.159859</td>\n",
       "      <td>-0.550852</td>\n",
       "      <td>-0.534243</td>\n",
       "    </tr>\n",
       "    <tr>\n",
       "      <th>2021-01-28</th>\n",
       "      <td>0.744020</td>\n",
       "      <td>0.484180</td>\n",
       "      <td>-1.736253</td>\n",
       "      <td>-2.135338</td>\n",
       "    </tr>\n",
       "    <tr>\n",
       "      <th>2021-01-29</th>\n",
       "      <td>-0.161268</td>\n",
       "      <td>-0.229571</td>\n",
       "      <td>-0.564591</td>\n",
       "      <td>-0.452084</td>\n",
       "    </tr>\n",
       "    <tr>\n",
       "      <th>2021-01-30</th>\n",
       "      <td>-0.519070</td>\n",
       "      <td>-2.044634</td>\n",
       "      <td>-0.797183</td>\n",
       "      <td>0.394560</td>\n",
       "    </tr>\n",
       "    <tr>\n",
       "      <th>2021-01-31</th>\n",
       "      <td>-1.607461</td>\n",
       "      <td>-0.022947</td>\n",
       "      <td>-0.571406</td>\n",
       "      <td>0.339833</td>\n",
       "    </tr>\n",
       "    <tr>\n",
       "      <th>2021-02-01</th>\n",
       "      <td>1.301387</td>\n",
       "      <td>-2.168552</td>\n",
       "      <td>-0.019654</td>\n",
       "      <td>0.466757</td>\n",
       "    </tr>\n",
       "    <tr>\n",
       "      <th>2021-02-02</th>\n",
       "      <td>-0.142439</td>\n",
       "      <td>0.374614</td>\n",
       "      <td>-0.546505</td>\n",
       "      <td>-0.094675</td>\n",
       "    </tr>\n",
       "  </tbody>\n",
       "</table>\n",
       "</div>"
      ],
      "text/plain": [
       "              France   Germany     Italy     Spain\n",
       "2021-01-06  0.549780  0.239906 -0.769288  0.663420\n",
       "2021-01-07  1.396136 -0.221701  0.974311  0.363178\n",
       "2021-01-08 -0.047124  1.346120 -1.089281  2.127089\n",
       "2021-01-09 -1.066277  0.563510  0.689497  0.123572\n",
       "2021-01-10  1.268941 -0.739758  0.729847 -0.172141\n",
       "2021-01-11 -2.248896  0.895269  0.129787 -0.251032\n",
       "2021-01-12  0.506893 -0.026248 -0.076986 -0.196845\n",
       "2021-01-13 -0.157638  0.549719 -0.123321  1.226318\n",
       "2021-01-14  1.070910 -2.343417  0.055700  0.729173\n",
       "2021-01-15  1.406574 -0.248273  0.974805 -0.933144\n",
       "2021-01-16  0.568680 -1.748677 -0.993043 -1.406153\n",
       "2021-01-17 -0.011829  2.064026  0.575560  1.813296\n",
       "2021-01-18  0.948589 -0.142481 -0.302754 -0.588330\n",
       "2021-01-19 -0.330113  0.813734  0.419538  0.093893\n",
       "2021-01-20  0.308935  1.220393  1.304385  0.462716\n",
       "2021-01-21 -0.000739 -0.791869 -0.498596  0.120679\n",
       "2021-01-22 -0.757319 -0.470665 -0.183461  1.159651\n",
       "2021-01-23  0.165958  0.176762  0.505333  0.820535\n",
       "2021-01-24  0.097710 -0.469085  0.373953  0.401570\n",
       "2021-01-25  0.788506  1.009269 -0.839020  1.451343\n",
       "2021-01-26 -1.026498 -0.382674  0.460702 -0.876633\n",
       "2021-01-27 -1.119526  0.159859 -0.550852 -0.534243\n",
       "2021-01-28  0.744020  0.484180 -1.736253 -2.135338\n",
       "2021-01-29 -0.161268 -0.229571 -0.564591 -0.452084\n",
       "2021-01-30 -0.519070 -2.044634 -0.797183  0.394560\n",
       "2021-01-31 -1.607461 -0.022947 -0.571406  0.339833\n",
       "2021-02-01  1.301387 -2.168552 -0.019654  0.466757\n",
       "2021-02-02 -0.142439  0.374614 -0.546505 -0.094675"
      ]
     },
     "execution_count": 70,
     "metadata": {},
     "output_type": "execute_result"
    }
   ],
   "source": [
    "long_df.truncate(before='2021/1/6', after='2021/2/2')"
   ]
  },
  {
   "cell_type": "markdown",
   "metadata": {},
   "source": [
    "**Method #3**: using the loc method.\n",
    "*The advantage with the loc method is that we can select columns too.*"
   ]
  },
  {
   "cell_type": "code",
   "execution_count": 8,
   "metadata": {
    "collapsed": true,
    "jupyter": {
     "outputs_hidden": true
    }
   },
   "outputs": [
    {
     "data": {
      "text/html": [
       "<div>\n",
       "<style scoped>\n",
       "    .dataframe tbody tr th:only-of-type {\n",
       "        vertical-align: middle;\n",
       "    }\n",
       "\n",
       "    .dataframe tbody tr th {\n",
       "        vertical-align: top;\n",
       "    }\n",
       "\n",
       "    .dataframe thead th {\n",
       "        text-align: right;\n",
       "    }\n",
       "</style>\n",
       "<table border=\"1\" class=\"dataframe\">\n",
       "  <thead>\n",
       "    <tr style=\"text-align: right;\">\n",
       "      <th></th>\n",
       "      <th>France</th>\n",
       "      <th>Germany</th>\n",
       "      <th>Italy</th>\n",
       "      <th>Spain</th>\n",
       "    </tr>\n",
       "  </thead>\n",
       "  <tbody>\n",
       "    <tr>\n",
       "      <th>2021-02-01</th>\n",
       "      <td>-1.361422</td>\n",
       "      <td>-1.023179</td>\n",
       "      <td>0.194414</td>\n",
       "      <td>-1.255040</td>\n",
       "    </tr>\n",
       "    <tr>\n",
       "      <th>2021-02-02</th>\n",
       "      <td>1.264894</td>\n",
       "      <td>-0.052846</td>\n",
       "      <td>-1.034230</td>\n",
       "      <td>-0.891735</td>\n",
       "    </tr>\n",
       "    <tr>\n",
       "      <th>2021-02-03</th>\n",
       "      <td>0.140424</td>\n",
       "      <td>1.126277</td>\n",
       "      <td>-0.250533</td>\n",
       "      <td>-1.739511</td>\n",
       "    </tr>\n",
       "    <tr>\n",
       "      <th>2021-02-04</th>\n",
       "      <td>0.516664</td>\n",
       "      <td>1.575196</td>\n",
       "      <td>-0.547821</td>\n",
       "      <td>-0.246290</td>\n",
       "    </tr>\n",
       "    <tr>\n",
       "      <th>2021-02-05</th>\n",
       "      <td>1.343439</td>\n",
       "      <td>-0.739778</td>\n",
       "      <td>-0.360393</td>\n",
       "      <td>0.285878</td>\n",
       "    </tr>\n",
       "    <tr>\n",
       "      <th>2021-02-06</th>\n",
       "      <td>0.496274</td>\n",
       "      <td>1.695863</td>\n",
       "      <td>1.096372</td>\n",
       "      <td>1.038212</td>\n",
       "    </tr>\n",
       "    <tr>\n",
       "      <th>2021-02-07</th>\n",
       "      <td>-0.337252</td>\n",
       "      <td>0.160098</td>\n",
       "      <td>-2.456647</td>\n",
       "      <td>1.250130</td>\n",
       "    </tr>\n",
       "    <tr>\n",
       "      <th>2021-02-08</th>\n",
       "      <td>0.488935</td>\n",
       "      <td>-0.306664</td>\n",
       "      <td>0.587250</td>\n",
       "      <td>-0.157335</td>\n",
       "    </tr>\n",
       "    <tr>\n",
       "      <th>2021-02-09</th>\n",
       "      <td>-0.060364</td>\n",
       "      <td>0.519968</td>\n",
       "      <td>-0.579234</td>\n",
       "      <td>-0.542373</td>\n",
       "    </tr>\n",
       "  </tbody>\n",
       "</table>\n",
       "</div>"
      ],
      "text/plain": [
       "              France   Germany     Italy     Spain\n",
       "2021-02-01 -1.361422 -1.023179  0.194414 -1.255040\n",
       "2021-02-02  1.264894 -0.052846 -1.034230 -0.891735\n",
       "2021-02-03  0.140424  1.126277 -0.250533 -1.739511\n",
       "2021-02-04  0.516664  1.575196 -0.547821 -0.246290\n",
       "2021-02-05  1.343439 -0.739778 -0.360393  0.285878\n",
       "2021-02-06  0.496274  1.695863  1.096372  1.038212\n",
       "2021-02-07 -0.337252  0.160098 -2.456647  1.250130\n",
       "2021-02-08  0.488935 -0.306664  0.587250 -0.157335\n",
       "2021-02-09 -0.060364  0.519968 -0.579234 -0.542373"
      ]
     },
     "execution_count": 8,
     "metadata": {},
     "output_type": "execute_result"
    }
   ],
   "source": [
    "long_df.loc['2021/2']\n",
    "#long_df.loc['2021/2', ['Germany']]\n",
    "#long_df.loc['2021/2', ['Germany', 'Italy']]"
   ]
  },
  {
   "cell_type": "markdown",
   "metadata": {},
   "source": [
    "### Shifting data using date increments\n",
    "\n",
    "**Method #1:** using the shift method\n",
    "\n",
    "\"Shifting\" refers to moving data backward or forward through time. Both Series and DataFrame have a *shift* method for doing naive shifts forward or backward, leaving the index unmodified.c"
   ]
  },
  {
   "cell_type": "code",
   "execution_count": 11,
   "metadata": {},
   "outputs": [
    {
     "data": {
      "text/plain": [
       "2021-04-01 00:00:00    2.236700\n",
       "2021-04-01 05:00:00   -1.080059\n",
       "2021-04-01 10:00:00    1.247151\n",
       "2021-04-01 15:00:00   -0.585448\n",
       "Freq: 5H, dtype: float64"
      ]
     },
     "execution_count": 11,
     "metadata": {},
     "output_type": "execute_result"
    }
   ],
   "source": [
    "myshift = pd.Series(np.random.randn(4), index = pd.date_range('4/1/2021', periods = 4, freq = '5h'))\n",
    "myshift"
   ]
  },
  {
   "cell_type": "code",
   "execution_count": 13,
   "metadata": {},
   "outputs": [
    {
     "data": {
      "text/plain": [
       "2021-04-01 00:00:00         NaN\n",
       "2021-04-01 05:00:00         NaN\n",
       "2021-04-01 10:00:00    2.236700\n",
       "2021-04-01 15:00:00   -1.080059\n",
       "Freq: 5H, dtype: float64"
      ]
     },
     "execution_count": 13,
     "metadata": {},
     "output_type": "execute_result"
    }
   ],
   "source": [
    "myshift.shift(2)"
   ]
  },
  {
   "cell_type": "code",
   "execution_count": 14,
   "metadata": {},
   "outputs": [
    {
     "data": {
      "text/plain": [
       "2021-04-01 00:00:00   -0.585448\n",
       "2021-04-01 05:00:00         NaN\n",
       "2021-04-01 10:00:00         NaN\n",
       "2021-04-01 15:00:00         NaN\n",
       "Freq: 5H, dtype: float64"
      ]
     },
     "execution_count": 14,
     "metadata": {},
     "output_type": "execute_result"
    }
   ],
   "source": [
    "myshift.shift(-3)"
   ]
  },
  {
   "cell_type": "markdown",
   "metadata": {},
   "source": [
    "To avoid discarding data, we can also use shift to advance the data and the timestamps."
   ]
  },
  {
   "cell_type": "code",
   "execution_count": 19,
   "metadata": {},
   "outputs": [
    {
     "data": {
      "text/plain": [
       "2022-12-31 00:00:00    2.236700\n",
       "2022-12-31 05:00:00   -1.080059\n",
       "2022-12-31 10:00:00    1.247151\n",
       "2022-12-31 15:00:00   -0.585448\n",
       "dtype: float64"
      ]
     },
     "execution_count": 19,
     "metadata": {},
     "output_type": "execute_result"
    }
   ],
   "source": [
    "myshift.shift(2, freq = 'Y')"
   ]
  },
  {
   "cell_type": "markdown",
   "metadata": {},
   "source": [
    "**Method #2:** using the offsets module\n",
    "For simplicity, we import the classes we want from the pandas.tseries.offsets module.\n",
    "\n",
    "For information:\n",
    "- pandas = library\n",
    "- tseries = package in pandas\n",
    "- offsets = module in tseries\n",
    "- Day and MonthEnd are classes in offsets"
   ]
  },
  {
   "cell_type": "code",
   "execution_count": 38,
   "metadata": {},
   "outputs": [],
   "source": [
    "from pandas.tseries.offsets import Day, MonthEnd\n",
    "#dir(pd.tseries.offsets)"
   ]
  },
  {
   "cell_type": "code",
   "execution_count": 30,
   "metadata": {},
   "outputs": [
    {
     "data": {
      "text/plain": [
       "datetime.datetime(2021, 1, 23, 0, 0)"
      ]
     },
     "execution_count": 30,
     "metadata": {},
     "output_type": "execute_result"
    }
   ],
   "source": [
    "mydate = datetime(2021, 1, 23)\n",
    "mydate"
   ]
  },
  {
   "cell_type": "code",
   "execution_count": 36,
   "metadata": {},
   "outputs": [
    {
     "data": {
      "text/plain": [
       "Timestamp('2021-01-29 00:00:00')"
      ]
     },
     "execution_count": 36,
     "metadata": {},
     "output_type": "execute_result"
    }
   ],
   "source": [
    "mydate + 3*Day(2)"
   ]
  },
  {
   "cell_type": "code",
   "execution_count": 35,
   "metadata": {},
   "outputs": [
    {
     "data": {
      "text/plain": [
       "Timestamp('2020-10-31 00:00:00')"
      ]
     },
     "execution_count": 35,
     "metadata": {},
     "output_type": "execute_result"
    }
   ],
   "source": [
    "mydate + MonthEnd(-3)"
   ]
  },
  {
   "cell_type": "code",
   "execution_count": 39,
   "metadata": {},
   "outputs": [],
   "source": [
    "myoffset = MonthEnd()"
   ]
  },
  {
   "cell_type": "code",
   "execution_count": 40,
   "metadata": {},
   "outputs": [
    {
     "data": {
      "text/plain": [
       "Timestamp('2021-01-31 00:00:00')"
      ]
     },
     "execution_count": 40,
     "metadata": {},
     "output_type": "execute_result"
    }
   ],
   "source": [
    "myoffset.rollforward(mydate)"
   ]
  },
  {
   "cell_type": "code",
   "execution_count": 44,
   "metadata": {},
   "outputs": [
    {
     "data": {
      "text/plain": [
       "Timestamp('2020-12-31 00:00:00')"
      ]
     },
     "execution_count": 44,
     "metadata": {},
     "output_type": "execute_result"
    }
   ],
   "source": [
    "myoffset.rollback(mydate)"
   ]
  },
  {
   "cell_type": "code",
   "execution_count": 45,
   "metadata": {
    "collapsed": true,
    "jupyter": {
     "outputs_hidden": true
    }
   },
   "outputs": [
    {
     "data": {
      "text/html": [
       "<div>\n",
       "<style scoped>\n",
       "    .dataframe tbody tr th:only-of-type {\n",
       "        vertical-align: middle;\n",
       "    }\n",
       "\n",
       "    .dataframe tbody tr th {\n",
       "        vertical-align: top;\n",
       "    }\n",
       "\n",
       "    .dataframe thead th {\n",
       "        text-align: right;\n",
       "    }\n",
       "</style>\n",
       "<table border=\"1\" class=\"dataframe\">\n",
       "  <thead>\n",
       "    <tr style=\"text-align: right;\">\n",
       "      <th></th>\n",
       "      <th>France</th>\n",
       "      <th>Germany</th>\n",
       "      <th>Italy</th>\n",
       "      <th>Spain</th>\n",
       "    </tr>\n",
       "  </thead>\n",
       "  <tbody>\n",
       "    <tr>\n",
       "      <th>2021-01-01</th>\n",
       "      <td>-0.630610</td>\n",
       "      <td>-0.068817</td>\n",
       "      <td>1.090217</td>\n",
       "      <td>1.712796</td>\n",
       "    </tr>\n",
       "    <tr>\n",
       "      <th>2021-01-02</th>\n",
       "      <td>0.948677</td>\n",
       "      <td>0.539222</td>\n",
       "      <td>-1.041701</td>\n",
       "      <td>0.507396</td>\n",
       "    </tr>\n",
       "    <tr>\n",
       "      <th>2021-01-03</th>\n",
       "      <td>-0.366887</td>\n",
       "      <td>-0.430667</td>\n",
       "      <td>-1.531266</td>\n",
       "      <td>1.546583</td>\n",
       "    </tr>\n",
       "    <tr>\n",
       "      <th>2021-01-04</th>\n",
       "      <td>0.910012</td>\n",
       "      <td>1.189580</td>\n",
       "      <td>1.787205</td>\n",
       "      <td>-0.263205</td>\n",
       "    </tr>\n",
       "    <tr>\n",
       "      <th>2021-01-05</th>\n",
       "      <td>-1.797674</td>\n",
       "      <td>-1.619345</td>\n",
       "      <td>0.676251</td>\n",
       "      <td>0.001739</td>\n",
       "    </tr>\n",
       "    <tr>\n",
       "      <th>2021-01-06</th>\n",
       "      <td>0.321533</td>\n",
       "      <td>1.940423</td>\n",
       "      <td>0.837839</td>\n",
       "      <td>0.210828</td>\n",
       "    </tr>\n",
       "    <tr>\n",
       "      <th>2021-01-07</th>\n",
       "      <td>-0.465830</td>\n",
       "      <td>1.854119</td>\n",
       "      <td>-0.017738</td>\n",
       "      <td>-0.394126</td>\n",
       "    </tr>\n",
       "    <tr>\n",
       "      <th>2021-01-08</th>\n",
       "      <td>1.196111</td>\n",
       "      <td>1.160710</td>\n",
       "      <td>-0.364169</td>\n",
       "      <td>0.095471</td>\n",
       "    </tr>\n",
       "    <tr>\n",
       "      <th>2021-01-09</th>\n",
       "      <td>-0.031656</td>\n",
       "      <td>2.074876</td>\n",
       "      <td>-1.142208</td>\n",
       "      <td>0.134514</td>\n",
       "    </tr>\n",
       "    <tr>\n",
       "      <th>2021-01-10</th>\n",
       "      <td>-0.693052</td>\n",
       "      <td>0.010603</td>\n",
       "      <td>-0.234759</td>\n",
       "      <td>-0.006515</td>\n",
       "    </tr>\n",
       "    <tr>\n",
       "      <th>2021-01-11</th>\n",
       "      <td>0.555131</td>\n",
       "      <td>0.250231</td>\n",
       "      <td>0.705061</td>\n",
       "      <td>-0.688773</td>\n",
       "    </tr>\n",
       "    <tr>\n",
       "      <th>2021-01-12</th>\n",
       "      <td>1.511071</td>\n",
       "      <td>-0.724379</td>\n",
       "      <td>0.269705</td>\n",
       "      <td>-0.060208</td>\n",
       "    </tr>\n",
       "    <tr>\n",
       "      <th>2021-01-13</th>\n",
       "      <td>-0.537823</td>\n",
       "      <td>-1.874160</td>\n",
       "      <td>0.279368</td>\n",
       "      <td>1.114617</td>\n",
       "    </tr>\n",
       "    <tr>\n",
       "      <th>2021-01-14</th>\n",
       "      <td>-1.100073</td>\n",
       "      <td>-1.049586</td>\n",
       "      <td>0.974494</td>\n",
       "      <td>0.895851</td>\n",
       "    </tr>\n",
       "    <tr>\n",
       "      <th>2021-01-15</th>\n",
       "      <td>0.372660</td>\n",
       "      <td>1.067217</td>\n",
       "      <td>1.438003</td>\n",
       "      <td>1.025293</td>\n",
       "    </tr>\n",
       "    <tr>\n",
       "      <th>2021-01-16</th>\n",
       "      <td>0.262412</td>\n",
       "      <td>0.233475</td>\n",
       "      <td>0.462401</td>\n",
       "      <td>-0.244198</td>\n",
       "    </tr>\n",
       "    <tr>\n",
       "      <th>2021-01-17</th>\n",
       "      <td>0.280454</td>\n",
       "      <td>-0.118261</td>\n",
       "      <td>-0.708141</td>\n",
       "      <td>1.556299</td>\n",
       "    </tr>\n",
       "    <tr>\n",
       "      <th>2021-01-18</th>\n",
       "      <td>-0.696480</td>\n",
       "      <td>-0.766690</td>\n",
       "      <td>-0.604915</td>\n",
       "      <td>2.468022</td>\n",
       "    </tr>\n",
       "    <tr>\n",
       "      <th>2021-01-19</th>\n",
       "      <td>0.911998</td>\n",
       "      <td>-1.525033</td>\n",
       "      <td>0.393840</td>\n",
       "      <td>0.197824</td>\n",
       "    </tr>\n",
       "    <tr>\n",
       "      <th>2021-01-20</th>\n",
       "      <td>0.536905</td>\n",
       "      <td>0.143039</td>\n",
       "      <td>2.063069</td>\n",
       "      <td>-0.128154</td>\n",
       "    </tr>\n",
       "    <tr>\n",
       "      <th>2021-01-21</th>\n",
       "      <td>-0.775177</td>\n",
       "      <td>-0.163104</td>\n",
       "      <td>1.496794</td>\n",
       "      <td>0.090258</td>\n",
       "    </tr>\n",
       "    <tr>\n",
       "      <th>2021-01-22</th>\n",
       "      <td>0.629372</td>\n",
       "      <td>-0.149614</td>\n",
       "      <td>-0.593982</td>\n",
       "      <td>-0.218215</td>\n",
       "    </tr>\n",
       "    <tr>\n",
       "      <th>2021-01-23</th>\n",
       "      <td>0.706435</td>\n",
       "      <td>-1.060659</td>\n",
       "      <td>-0.683110</td>\n",
       "      <td>-0.255668</td>\n",
       "    </tr>\n",
       "    <tr>\n",
       "      <th>2021-01-24</th>\n",
       "      <td>-0.134056</td>\n",
       "      <td>0.096094</td>\n",
       "      <td>0.836142</td>\n",
       "      <td>-0.503351</td>\n",
       "    </tr>\n",
       "    <tr>\n",
       "      <th>2021-01-25</th>\n",
       "      <td>0.468197</td>\n",
       "      <td>1.130265</td>\n",
       "      <td>1.658072</td>\n",
       "      <td>-1.115328</td>\n",
       "    </tr>\n",
       "    <tr>\n",
       "      <th>2021-01-26</th>\n",
       "      <td>-0.127012</td>\n",
       "      <td>0.216278</td>\n",
       "      <td>1.197741</td>\n",
       "      <td>0.870062</td>\n",
       "    </tr>\n",
       "    <tr>\n",
       "      <th>2021-01-27</th>\n",
       "      <td>-0.779059</td>\n",
       "      <td>-0.741032</td>\n",
       "      <td>1.430088</td>\n",
       "      <td>2.089024</td>\n",
       "    </tr>\n",
       "    <tr>\n",
       "      <th>2021-01-28</th>\n",
       "      <td>0.162906</td>\n",
       "      <td>1.154336</td>\n",
       "      <td>-0.500293</td>\n",
       "      <td>-0.694197</td>\n",
       "    </tr>\n",
       "    <tr>\n",
       "      <th>2021-01-29</th>\n",
       "      <td>-0.732852</td>\n",
       "      <td>-0.065586</td>\n",
       "      <td>-0.464732</td>\n",
       "      <td>-0.019343</td>\n",
       "    </tr>\n",
       "    <tr>\n",
       "      <th>2021-01-30</th>\n",
       "      <td>0.071081</td>\n",
       "      <td>0.100813</td>\n",
       "      <td>-0.812975</td>\n",
       "      <td>-1.847061</td>\n",
       "    </tr>\n",
       "    <tr>\n",
       "      <th>2021-01-31</th>\n",
       "      <td>-0.493764</td>\n",
       "      <td>0.118034</td>\n",
       "      <td>-0.929303</td>\n",
       "      <td>-1.101637</td>\n",
       "    </tr>\n",
       "    <tr>\n",
       "      <th>2021-02-01</th>\n",
       "      <td>-1.361422</td>\n",
       "      <td>-1.023179</td>\n",
       "      <td>0.194414</td>\n",
       "      <td>-1.255040</td>\n",
       "    </tr>\n",
       "    <tr>\n",
       "      <th>2021-02-02</th>\n",
       "      <td>1.264894</td>\n",
       "      <td>-0.052846</td>\n",
       "      <td>-1.034230</td>\n",
       "      <td>-0.891735</td>\n",
       "    </tr>\n",
       "    <tr>\n",
       "      <th>2021-02-03</th>\n",
       "      <td>0.140424</td>\n",
       "      <td>1.126277</td>\n",
       "      <td>-0.250533</td>\n",
       "      <td>-1.739511</td>\n",
       "    </tr>\n",
       "    <tr>\n",
       "      <th>2021-02-04</th>\n",
       "      <td>0.516664</td>\n",
       "      <td>1.575196</td>\n",
       "      <td>-0.547821</td>\n",
       "      <td>-0.246290</td>\n",
       "    </tr>\n",
       "    <tr>\n",
       "      <th>2021-02-05</th>\n",
       "      <td>1.343439</td>\n",
       "      <td>-0.739778</td>\n",
       "      <td>-0.360393</td>\n",
       "      <td>0.285878</td>\n",
       "    </tr>\n",
       "    <tr>\n",
       "      <th>2021-02-06</th>\n",
       "      <td>0.496274</td>\n",
       "      <td>1.695863</td>\n",
       "      <td>1.096372</td>\n",
       "      <td>1.038212</td>\n",
       "    </tr>\n",
       "    <tr>\n",
       "      <th>2021-02-07</th>\n",
       "      <td>-0.337252</td>\n",
       "      <td>0.160098</td>\n",
       "      <td>-2.456647</td>\n",
       "      <td>1.250130</td>\n",
       "    </tr>\n",
       "    <tr>\n",
       "      <th>2021-02-08</th>\n",
       "      <td>0.488935</td>\n",
       "      <td>-0.306664</td>\n",
       "      <td>0.587250</td>\n",
       "      <td>-0.157335</td>\n",
       "    </tr>\n",
       "    <tr>\n",
       "      <th>2021-02-09</th>\n",
       "      <td>-0.060364</td>\n",
       "      <td>0.519968</td>\n",
       "      <td>-0.579234</td>\n",
       "      <td>-0.542373</td>\n",
       "    </tr>\n",
       "  </tbody>\n",
       "</table>\n",
       "</div>"
      ],
      "text/plain": [
       "              France   Germany     Italy     Spain\n",
       "2021-01-01 -0.630610 -0.068817  1.090217  1.712796\n",
       "2021-01-02  0.948677  0.539222 -1.041701  0.507396\n",
       "2021-01-03 -0.366887 -0.430667 -1.531266  1.546583\n",
       "2021-01-04  0.910012  1.189580  1.787205 -0.263205\n",
       "2021-01-05 -1.797674 -1.619345  0.676251  0.001739\n",
       "2021-01-06  0.321533  1.940423  0.837839  0.210828\n",
       "2021-01-07 -0.465830  1.854119 -0.017738 -0.394126\n",
       "2021-01-08  1.196111  1.160710 -0.364169  0.095471\n",
       "2021-01-09 -0.031656  2.074876 -1.142208  0.134514\n",
       "2021-01-10 -0.693052  0.010603 -0.234759 -0.006515\n",
       "2021-01-11  0.555131  0.250231  0.705061 -0.688773\n",
       "2021-01-12  1.511071 -0.724379  0.269705 -0.060208\n",
       "2021-01-13 -0.537823 -1.874160  0.279368  1.114617\n",
       "2021-01-14 -1.100073 -1.049586  0.974494  0.895851\n",
       "2021-01-15  0.372660  1.067217  1.438003  1.025293\n",
       "2021-01-16  0.262412  0.233475  0.462401 -0.244198\n",
       "2021-01-17  0.280454 -0.118261 -0.708141  1.556299\n",
       "2021-01-18 -0.696480 -0.766690 -0.604915  2.468022\n",
       "2021-01-19  0.911998 -1.525033  0.393840  0.197824\n",
       "2021-01-20  0.536905  0.143039  2.063069 -0.128154\n",
       "2021-01-21 -0.775177 -0.163104  1.496794  0.090258\n",
       "2021-01-22  0.629372 -0.149614 -0.593982 -0.218215\n",
       "2021-01-23  0.706435 -1.060659 -0.683110 -0.255668\n",
       "2021-01-24 -0.134056  0.096094  0.836142 -0.503351\n",
       "2021-01-25  0.468197  1.130265  1.658072 -1.115328\n",
       "2021-01-26 -0.127012  0.216278  1.197741  0.870062\n",
       "2021-01-27 -0.779059 -0.741032  1.430088  2.089024\n",
       "2021-01-28  0.162906  1.154336 -0.500293 -0.694197\n",
       "2021-01-29 -0.732852 -0.065586 -0.464732 -0.019343\n",
       "2021-01-30  0.071081  0.100813 -0.812975 -1.847061\n",
       "2021-01-31 -0.493764  0.118034 -0.929303 -1.101637\n",
       "2021-02-01 -1.361422 -1.023179  0.194414 -1.255040\n",
       "2021-02-02  1.264894 -0.052846 -1.034230 -0.891735\n",
       "2021-02-03  0.140424  1.126277 -0.250533 -1.739511\n",
       "2021-02-04  0.516664  1.575196 -0.547821 -0.246290\n",
       "2021-02-05  1.343439 -0.739778 -0.360393  0.285878\n",
       "2021-02-06  0.496274  1.695863  1.096372  1.038212\n",
       "2021-02-07 -0.337252  0.160098 -2.456647  1.250130\n",
       "2021-02-08  0.488935 -0.306664  0.587250 -0.157335\n",
       "2021-02-09 -0.060364  0.519968 -0.579234 -0.542373"
      ]
     },
     "execution_count": 45,
     "metadata": {},
     "output_type": "execute_result"
    }
   ],
   "source": [
    "long_df"
   ]
  },
  {
   "cell_type": "code",
   "execution_count": 46,
   "metadata": {},
   "outputs": [
    {
     "data": {
      "text/html": [
       "<div>\n",
       "<style scoped>\n",
       "    .dataframe tbody tr th:only-of-type {\n",
       "        vertical-align: middle;\n",
       "    }\n",
       "\n",
       "    .dataframe tbody tr th {\n",
       "        vertical-align: top;\n",
       "    }\n",
       "\n",
       "    .dataframe thead th {\n",
       "        text-align: right;\n",
       "    }\n",
       "</style>\n",
       "<table border=\"1\" class=\"dataframe\">\n",
       "  <thead>\n",
       "    <tr style=\"text-align: right;\">\n",
       "      <th></th>\n",
       "      <th>France</th>\n",
       "      <th>Germany</th>\n",
       "      <th>Italy</th>\n",
       "      <th>Spain</th>\n",
       "    </tr>\n",
       "  </thead>\n",
       "  <tbody>\n",
       "    <tr>\n",
       "      <th>2021-01-31</th>\n",
       "      <td>0.015579</td>\n",
       "      <td>0.094270</td>\n",
       "      <td>0.257000</td>\n",
       "      <td>0.225052</td>\n",
       "    </tr>\n",
       "    <tr>\n",
       "      <th>2021-02-28</th>\n",
       "      <td>0.276844</td>\n",
       "      <td>0.328326</td>\n",
       "      <td>-0.372314</td>\n",
       "      <td>-0.250896</td>\n",
       "    </tr>\n",
       "  </tbody>\n",
       "</table>\n",
       "</div>"
      ],
      "text/plain": [
       "              France   Germany     Italy     Spain\n",
       "2021-01-31  0.015579  0.094270  0.257000  0.225052\n",
       "2021-02-28  0.276844  0.328326 -0.372314 -0.250896"
      ]
     },
     "execution_count": 46,
     "metadata": {},
     "output_type": "execute_result"
    }
   ],
   "source": [
    "long_df.groupby(myoffset.rollforward).mean()"
   ]
  },
  {
   "cell_type": "markdown",
   "metadata": {},
   "source": [
    "## Periods and period arithmetic\n",
    "*Periods* represents timespans, like days, months, quarters, or years. The **Period** class represents this data type, requiring a string or an integer and a frequency."
   ]
  },
  {
   "cell_type": "code",
   "execution_count": 54,
   "metadata": {},
   "outputs": [
    {
     "data": {
      "text/plain": [
       "Period('2021', 'A-DEC')"
      ]
     },
     "execution_count": 54,
     "metadata": {},
     "output_type": "execute_result"
    }
   ],
   "source": [
    "myperiod = pd.Period('2021/1/09', freq = 'Y')\n",
    "myperiod"
   ]
  },
  {
   "cell_type": "code",
   "execution_count": 55,
   "metadata": {},
   "outputs": [
    {
     "data": {
      "text/plain": [
       "Period('2026', 'A-DEC')"
      ]
     },
     "execution_count": 55,
     "metadata": {},
     "output_type": "execute_result"
    }
   ],
   "source": [
    "myperiod + 5"
   ]
  },
  {
   "cell_type": "code",
   "execution_count": 56,
   "metadata": {},
   "outputs": [
    {
     "data": {
      "text/plain": [
       "PeriodIndex(['2021-01', '2021-02', '2021-03', '2021-04', '2021-05', '2021-06',\n",
       "             '2021-07', '2021-08', '2021-09', '2021-10', '2021-11', '2021-12'],\n",
       "            dtype='period[M]', freq='M')"
      ]
     },
     "execution_count": 56,
     "metadata": {},
     "output_type": "execute_result"
    }
   ],
   "source": [
    "#To construct ranges of periods:\n",
    "myrange = pd.period_range('2021/1/1', '2021/12/1', freq = 'M')\n",
    "myrange"
   ]
  },
  {
   "cell_type": "code",
   "execution_count": 70,
   "metadata": {},
   "outputs": [],
   "source": [
    "#The Period index class stores a sequence of periods and can serve as an axis index:\n",
    "per = pd.Series(np.random.randn(12), index = myrange)\n",
    "per"
   ]
  },
  {
   "cell_type": "markdown",
   "metadata": {},
   "source": [
    "### Convert Timestamps to Periods (and Back)\n",
    "The **date_range** method constructs Timestamps while the **Period** method constructs Periods."
   ]
  },
  {
   "cell_type": "code",
   "execution_count": 65,
   "metadata": {},
   "outputs": [
    {
     "data": {
      "text/plain": [
       "DatetimeIndex(['2021-01-31', '2021-02-28', '2021-03-31', '2021-04-30',\n",
       "               '2021-05-31', '2021-06-30', '2021-07-31', '2021-08-31',\n",
       "               '2021-09-30', '2021-10-31', '2021-11-30', '2021-12-31',\n",
       "               '2022-01-31', '2022-02-28', '2022-03-31'],\n",
       "              dtype='datetime64[ns]', freq='M')"
      ]
     },
     "execution_count": 65,
     "metadata": {},
     "output_type": "execute_result"
    }
   ],
   "source": [
    "long_ts2 = pd.Series(np.random.randn(15), index = pd.date_range('1/1/2021', periods = 15, freq = 'M'))\n",
    "long_ts2.index"
   ]
  },
  {
   "cell_type": "code",
   "execution_count": 66,
   "metadata": {
    "collapsed": true,
    "jupyter": {
     "outputs_hidden": true
    }
   },
   "outputs": [
    {
     "data": {
      "text/plain": [
       "2021-01-31    0.875776\n",
       "2021-02-28    0.168509\n",
       "2021-03-31   -0.258156\n",
       "2021-04-30    0.609056\n",
       "2021-05-31    0.761074\n",
       "2021-06-30   -0.615403\n",
       "2021-07-31    1.273479\n",
       "2021-08-31    0.104571\n",
       "2021-09-30   -0.387281\n",
       "2021-10-31    0.087257\n",
       "2021-11-30   -0.111904\n",
       "2021-12-31    0.186383\n",
       "2022-01-31    0.614148\n",
       "2022-02-28   -1.717390\n",
       "2022-03-31    0.327114\n",
       "Freq: M, dtype: float64"
      ]
     },
     "execution_count": 66,
     "metadata": {},
     "output_type": "execute_result"
    }
   ],
   "source": [
    "long_ts2"
   ]
  },
  {
   "cell_type": "code",
   "execution_count": 68,
   "metadata": {
    "collapsed": true,
    "jupyter": {
     "outputs_hidden": true
    }
   },
   "outputs": [
    {
     "data": {
      "text/plain": [
       "2021-01    0.875776\n",
       "2021-02    0.168509\n",
       "2021-03   -0.258156\n",
       "2021-04    0.609056\n",
       "2021-05    0.761074\n",
       "2021-06   -0.615403\n",
       "2021-07    1.273479\n",
       "2021-08    0.104571\n",
       "2021-09   -0.387281\n",
       "2021-10    0.087257\n",
       "2021-11   -0.111904\n",
       "2021-12    0.186383\n",
       "2022-01    0.614148\n",
       "2022-02   -1.717390\n",
       "2022-03    0.327114\n",
       "Freq: M, dtype: float64"
      ]
     },
     "execution_count": 68,
     "metadata": {},
     "output_type": "execute_result"
    }
   ],
   "source": [
    "#To convert Timestamps into Periods:\n",
    "long_ts2.to_period()"
   ]
  },
  {
   "cell_type": "code",
   "execution_count": 69,
   "metadata": {
    "collapsed": true,
    "jupyter": {
     "outputs_hidden": true
    }
   },
   "outputs": [
    {
     "data": {
      "text/plain": [
       "2021-01-31    0.875776\n",
       "2021-02-28    0.168509\n",
       "2021-03-31   -0.258156\n",
       "2021-04-30    0.609056\n",
       "2021-05-31    0.761074\n",
       "2021-06-30   -0.615403\n",
       "2021-07-31    1.273479\n",
       "2021-08-31    0.104571\n",
       "2021-09-30   -0.387281\n",
       "2021-10-31    0.087257\n",
       "2021-11-30   -0.111904\n",
       "2021-12-31    0.186383\n",
       "2022-01-31    0.614148\n",
       "2022-02-28   -1.717390\n",
       "2022-03-31    0.327114\n",
       "Freq: M, dtype: float64"
      ]
     },
     "execution_count": 69,
     "metadata": {},
     "output_type": "execute_result"
    }
   ],
   "source": [
    "long_ts2"
   ]
  },
  {
   "cell_type": "code",
   "execution_count": 72,
   "metadata": {
    "collapsed": true,
    "jupyter": {
     "outputs_hidden": true
    }
   },
   "outputs": [
    {
     "data": {
      "text/plain": [
       "2021-01   -1.686917\n",
       "2021-02    0.787402\n",
       "2021-03   -1.394935\n",
       "2021-04    0.417148\n",
       "2021-05   -0.170850\n",
       "2021-06   -0.147302\n",
       "2021-07    0.715388\n",
       "2021-08   -0.054517\n",
       "2021-09    0.109884\n",
       "2021-10   -0.866299\n",
       "2021-11    0.451536\n",
       "2021-12    1.054915\n",
       "Freq: M, dtype: float64"
      ]
     },
     "execution_count": 72,
     "metadata": {},
     "output_type": "execute_result"
    }
   ],
   "source": [
    "per"
   ]
  },
  {
   "cell_type": "code",
   "execution_count": 71,
   "metadata": {
    "collapsed": true,
    "jupyter": {
     "outputs_hidden": true
    }
   },
   "outputs": [
    {
     "data": {
      "text/plain": [
       "2021-01-01   -1.686917\n",
       "2021-02-01    0.787402\n",
       "2021-03-01   -1.394935\n",
       "2021-04-01    0.417148\n",
       "2021-05-01   -0.170850\n",
       "2021-06-01   -0.147302\n",
       "2021-07-01    0.715388\n",
       "2021-08-01   -0.054517\n",
       "2021-09-01    0.109884\n",
       "2021-10-01   -0.866299\n",
       "2021-11-01    0.451536\n",
       "2021-12-01    1.054915\n",
       "Freq: MS, dtype: float64"
      ]
     },
     "execution_count": 71,
     "metadata": {},
     "output_type": "execute_result"
    }
   ],
   "source": [
    "#To convert Periods into Timestamps:\n",
    "per.to_timestamp()"
   ]
  },
  {
   "cell_type": "markdown",
   "metadata": {},
   "source": [
    "## Resampling and frequency conversion\n",
    "*Resampling* refers to the process of converting a time series from one frequency to another:\n",
    "- *Downsampling*: Converting lower frequency to higher frequency;\n",
    "- *Upsampling*: Converting higher frequency to lower frequency.\n",
    "\n",
    "pandas objects are equipped with a **resample** method. It works similarly to groupby, i.e. you call resample to group the data, then call an aggregation function.\n",
    "\n",
    "For more information on the resample method: https://pandas.pydata.org/pandas-docs/stable/reference/api/pandas.DataFrame.resample.html?highlight=resample#pandas.DataFrame.resample"
   ]
  },
  {
   "cell_type": "code",
   "execution_count": 77,
   "metadata": {},
   "outputs": [
    {
     "data": {
      "text/plain": [
       "2021-01-01   -0.987953\n",
       "2021-01-02    1.629270\n",
       "2021-01-03    0.888600\n",
       "2021-01-04   -0.684234\n",
       "2021-01-05    0.289026\n",
       "                ...   \n",
       "2021-05-26   -1.409447\n",
       "2021-05-27   -0.685541\n",
       "2021-05-28    1.963948\n",
       "2021-05-29   -1.314365\n",
       "2021-05-30   -1.244985\n",
       "Freq: D, Length: 150, dtype: float64"
      ]
     },
     "execution_count": 77,
     "metadata": {},
     "output_type": "execute_result"
    }
   ],
   "source": [
    "long_ts"
   ]
  },
  {
   "cell_type": "code",
   "execution_count": 79,
   "metadata": {},
   "outputs": [
    {
     "data": {
      "text/plain": [
       "2021-01-31    0.189336\n",
       "2021-02-28    0.261929\n",
       "2021-03-31   -0.200218\n",
       "2021-04-30   -0.132223\n",
       "2021-05-31   -0.115610\n",
       "Freq: M, dtype: float64"
      ]
     },
     "execution_count": 79,
     "metadata": {},
     "output_type": "execute_result"
    }
   ],
   "source": [
    "long_ts.resample('M').mean()"
   ]
  },
  {
   "cell_type": "code",
   "execution_count": 80,
   "metadata": {},
   "outputs": [
    {
     "data": {
      "text/plain": [
       "2021-01    0.189336\n",
       "2021-02    0.261929\n",
       "2021-03   -0.200218\n",
       "2021-04   -0.132223\n",
       "2021-05   -0.115610\n",
       "Freq: M, dtype: float64"
      ]
     },
     "execution_count": 80,
     "metadata": {},
     "output_type": "execute_result"
    }
   ],
   "source": [
    "long_ts.resample('M', kind = 'period').mean()"
   ]
  },
  {
   "cell_type": "code",
   "execution_count": null,
   "metadata": {},
   "outputs": [],
   "source": []
  },
  {
   "cell_type": "code",
   "execution_count": null,
   "metadata": {},
   "outputs": [],
   "source": []
  },
  {
   "cell_type": "code",
   "execution_count": null,
   "metadata": {},
   "outputs": [],
   "source": []
  },
  {
   "cell_type": "code",
   "execution_count": null,
   "metadata": {},
   "outputs": [],
   "source": []
  },
  {
   "cell_type": "code",
   "execution_count": null,
   "metadata": {},
   "outputs": [],
   "source": []
  },
  {
   "cell_type": "code",
   "execution_count": null,
   "metadata": {},
   "outputs": [],
   "source": []
  }
 ],
 "metadata": {
  "kernelspec": {
   "display_name": "Python 3",
   "language": "python",
   "name": "python3"
  },
  "language_info": {
   "codemirror_mode": {
    "name": "ipython",
    "version": 3
   },
   "file_extension": ".py",
   "mimetype": "text/x-python",
   "name": "python",
   "nbconvert_exporter": "python",
   "pygments_lexer": "ipython3",
   "version": "3.8.5"
  }
 },
 "nbformat": 4,
 "nbformat_minor": 4
}
