{
 "cells": [
  {
   "cell_type": "code",
   "execution_count": 1,
   "metadata": {},
   "outputs": [],
   "source": [
    "import pandas as pd"
   ]
  },
  {
   "cell_type": "code",
   "execution_count": 4,
   "metadata": {},
   "outputs": [],
   "source": [
    "data = pd.read_csv(\"presence3months.csv\")"
   ]
  },
  {
   "cell_type": "code",
   "execution_count": 6,
   "metadata": {},
   "outputs": [
    {
     "data": {
      "text/html": [
       "<div>\n",
       "<style scoped>\n",
       "    .dataframe tbody tr th:only-of-type {\n",
       "        vertical-align: middle;\n",
       "    }\n",
       "\n",
       "    .dataframe tbody tr th {\n",
       "        vertical-align: top;\n",
       "    }\n",
       "\n",
       "    .dataframe thead th {\n",
       "        text-align: right;\n",
       "    }\n",
       "</style>\n",
       "<table border=\"1\" class=\"dataframe\">\n",
       "  <thead>\n",
       "    <tr style=\"text-align: right;\">\n",
       "      <th></th>\n",
       "      <th>Date</th>\n",
       "      <th>Parameter</th>\n",
       "      <th>Value</th>\n",
       "      <th>Unit</th>\n",
       "    </tr>\n",
       "  </thead>\n",
       "  <tbody>\n",
       "    <tr>\n",
       "      <th>0</th>\n",
       "      <td>2020-12-02 02:04:55</td>\n",
       "      <td>PRESENCE</td>\n",
       "      <td>1</td>\n",
       "      <td>NaN</td>\n",
       "    </tr>\n",
       "    <tr>\n",
       "      <th>1</th>\n",
       "      <td>2020-12-02 02:09:44</td>\n",
       "      <td>PRESENCE</td>\n",
       "      <td>0</td>\n",
       "      <td>NaN</td>\n",
       "    </tr>\n",
       "    <tr>\n",
       "      <th>2</th>\n",
       "      <td>2020-12-02 06:15:31</td>\n",
       "      <td>PRESENCE</td>\n",
       "      <td>1</td>\n",
       "      <td>NaN</td>\n",
       "    </tr>\n",
       "    <tr>\n",
       "      <th>3</th>\n",
       "      <td>2020-12-02 06:27:53</td>\n",
       "      <td>PRESENCE</td>\n",
       "      <td>0</td>\n",
       "      <td>NaN</td>\n",
       "    </tr>\n",
       "    <tr>\n",
       "      <th>4</th>\n",
       "      <td>2020-12-02 06:33:01</td>\n",
       "      <td>PRESENCE</td>\n",
       "      <td>1</td>\n",
       "      <td>NaN</td>\n",
       "    </tr>\n",
       "    <tr>\n",
       "      <th>5</th>\n",
       "      <td>2020-12-02 06:38:22</td>\n",
       "      <td>PRESENCE</td>\n",
       "      <td>0</td>\n",
       "      <td>NaN</td>\n",
       "    </tr>\n",
       "    <tr>\n",
       "      <th>6</th>\n",
       "      <td>2020-12-02 06:56:51</td>\n",
       "      <td>PRESENCE</td>\n",
       "      <td>1</td>\n",
       "      <td>NaN</td>\n",
       "    </tr>\n",
       "    <tr>\n",
       "      <th>7</th>\n",
       "      <td>2020-12-02 07:01:18</td>\n",
       "      <td>PRESENCE</td>\n",
       "      <td>0</td>\n",
       "      <td>NaN</td>\n",
       "    </tr>\n",
       "    <tr>\n",
       "      <th>8</th>\n",
       "      <td>2020-12-02 07:31:10</td>\n",
       "      <td>PRESENCE</td>\n",
       "      <td>1</td>\n",
       "      <td>NaN</td>\n",
       "    </tr>\n",
       "    <tr>\n",
       "      <th>9</th>\n",
       "      <td>2020-12-02 07:39:12</td>\n",
       "      <td>PRESENCE</td>\n",
       "      <td>0</td>\n",
       "      <td>NaN</td>\n",
       "    </tr>\n",
       "    <tr>\n",
       "      <th>10</th>\n",
       "      <td>2020-12-02 08:18:15</td>\n",
       "      <td>PRESENCE</td>\n",
       "      <td>1</td>\n",
       "      <td>NaN</td>\n",
       "    </tr>\n",
       "    <tr>\n",
       "      <th>11</th>\n",
       "      <td>2020-12-02 08:22:32</td>\n",
       "      <td>PRESENCE</td>\n",
       "      <td>0</td>\n",
       "      <td>NaN</td>\n",
       "    </tr>\n",
       "    <tr>\n",
       "      <th>12</th>\n",
       "      <td>2020-12-02 08:30:26</td>\n",
       "      <td>PRESENCE</td>\n",
       "      <td>1</td>\n",
       "      <td>NaN</td>\n",
       "    </tr>\n",
       "    <tr>\n",
       "      <th>13</th>\n",
       "      <td>2020-12-02 08:35:13</td>\n",
       "      <td>PRESENCE</td>\n",
       "      <td>0</td>\n",
       "      <td>NaN</td>\n",
       "    </tr>\n",
       "    <tr>\n",
       "      <th>14</th>\n",
       "      <td>2020-12-02 08:45:52</td>\n",
       "      <td>PRESENCE</td>\n",
       "      <td>1</td>\n",
       "      <td>NaN</td>\n",
       "    </tr>\n",
       "    <tr>\n",
       "      <th>15</th>\n",
       "      <td>2020-12-02 08:57:16</td>\n",
       "      <td>PRESENCE</td>\n",
       "      <td>0</td>\n",
       "      <td>NaN</td>\n",
       "    </tr>\n",
       "    <tr>\n",
       "      <th>16</th>\n",
       "      <td>2020-12-02 09:04:35</td>\n",
       "      <td>PRESENCE</td>\n",
       "      <td>1</td>\n",
       "      <td>NaN</td>\n",
       "    </tr>\n",
       "    <tr>\n",
       "      <th>17</th>\n",
       "      <td>2020-12-02 09:19:44</td>\n",
       "      <td>PRESENCE</td>\n",
       "      <td>0</td>\n",
       "      <td>NaN</td>\n",
       "    </tr>\n",
       "    <tr>\n",
       "      <th>18</th>\n",
       "      <td>2020-12-02 09:29:33</td>\n",
       "      <td>PRESENCE</td>\n",
       "      <td>1</td>\n",
       "      <td>NaN</td>\n",
       "    </tr>\n",
       "    <tr>\n",
       "      <th>19</th>\n",
       "      <td>2020-12-02 09:34:51</td>\n",
       "      <td>PRESENCE</td>\n",
       "      <td>0</td>\n",
       "      <td>NaN</td>\n",
       "    </tr>\n",
       "  </tbody>\n",
       "</table>\n",
       "</div>"
      ],
      "text/plain": [
       "                   Date Parameter  Value  Unit\n",
       "0   2020-12-02 02:04:55  PRESENCE      1   NaN\n",
       "1   2020-12-02 02:09:44  PRESENCE      0   NaN\n",
       "2   2020-12-02 06:15:31  PRESENCE      1   NaN\n",
       "3   2020-12-02 06:27:53  PRESENCE      0   NaN\n",
       "4   2020-12-02 06:33:01  PRESENCE      1   NaN\n",
       "5   2020-12-02 06:38:22  PRESENCE      0   NaN\n",
       "6   2020-12-02 06:56:51  PRESENCE      1   NaN\n",
       "7   2020-12-02 07:01:18  PRESENCE      0   NaN\n",
       "8   2020-12-02 07:31:10  PRESENCE      1   NaN\n",
       "9   2020-12-02 07:39:12  PRESENCE      0   NaN\n",
       "10  2020-12-02 08:18:15  PRESENCE      1   NaN\n",
       "11  2020-12-02 08:22:32  PRESENCE      0   NaN\n",
       "12  2020-12-02 08:30:26  PRESENCE      1   NaN\n",
       "13  2020-12-02 08:35:13  PRESENCE      0   NaN\n",
       "14  2020-12-02 08:45:52  PRESENCE      1   NaN\n",
       "15  2020-12-02 08:57:16  PRESENCE      0   NaN\n",
       "16  2020-12-02 09:04:35  PRESENCE      1   NaN\n",
       "17  2020-12-02 09:19:44  PRESENCE      0   NaN\n",
       "18  2020-12-02 09:29:33  PRESENCE      1   NaN\n",
       "19  2020-12-02 09:34:51  PRESENCE      0   NaN"
      ]
     },
     "execution_count": 6,
     "metadata": {},
     "output_type": "execute_result"
    }
   ],
   "source": [
    "data.head(20)"
   ]
  },
  {
   "cell_type": "code",
   "execution_count": 7,
   "metadata": {},
   "outputs": [
    {
     "name": "stdout",
     "output_type": "stream",
     "text": [
      "<class 'pandas.core.frame.DataFrame'>\n",
      "RangeIndex: 6826 entries, 0 to 6825\n",
      "Data columns (total 4 columns):\n",
      " #   Column     Non-Null Count  Dtype  \n",
      "---  ------     --------------  -----  \n",
      " 0   Date       6826 non-null   object \n",
      " 1   Parameter  6826 non-null   object \n",
      " 2   Value      6826 non-null   int64  \n",
      " 3   Unit       0 non-null      float64\n",
      "dtypes: float64(1), int64(1), object(2)\n",
      "memory usage: 213.4+ KB\n"
     ]
    }
   ],
   "source": [
    "data.info()"
   ]
  },
  {
   "cell_type": "markdown",
   "metadata": {},
   "source": [
    "## Look at a specific column"
   ]
  },
  {
   "cell_type": "code",
   "execution_count": 9,
   "metadata": {},
   "outputs": [
    {
     "data": {
      "text/plain": [
       "0       2020-12-02 02:04:55\n",
       "1       2020-12-02 02:09:44\n",
       "2       2020-12-02 06:15:31\n",
       "3       2020-12-02 06:27:53\n",
       "4       2020-12-02 06:33:01\n",
       "               ...         \n",
       "6821    2021-03-19 20:28:03\n",
       "6822    2021-03-19 20:32:00\n",
       "6823    2021-03-19 20:37:05\n",
       "6824    2021-03-19 21:30:13\n",
       "6825    2021-03-19 21:34:58\n",
       "Name: Date, Length: 6826, dtype: object"
      ]
     },
     "execution_count": 9,
     "metadata": {},
     "output_type": "execute_result"
    }
   ],
   "source": [
    "data[\"Date\"]"
   ]
  },
  {
   "cell_type": "markdown",
   "metadata": {},
   "source": [
    "## Convert Date values into datetime stamp"
   ]
  },
  {
   "cell_type": "code",
   "execution_count": 11,
   "metadata": {},
   "outputs": [
    {
     "name": "stdout",
     "output_type": "stream",
     "text": [
      "<class 'pandas.core.frame.DataFrame'>\n",
      "RangeIndex: 6826 entries, 0 to 6825\n",
      "Data columns (total 4 columns):\n",
      " #   Column     Non-Null Count  Dtype  \n",
      "---  ------     --------------  -----  \n",
      " 0   Date       6826 non-null   object \n",
      " 1   Parameter  6826 non-null   object \n",
      " 2   Value      6826 non-null   int64  \n",
      " 3   Unit       0 non-null      float64\n",
      "dtypes: float64(1), int64(1), object(2)\n",
      "memory usage: 213.4+ KB\n"
     ]
    }
   ],
   "source": [
    "data.info()"
   ]
  },
  {
   "cell_type": "code",
   "execution_count": 14,
   "metadata": {},
   "outputs": [],
   "source": [
    "data[\"Date\"] = pd.to_datetime(data[\"Date\"])"
   ]
  },
  {
   "cell_type": "code",
   "execution_count": 13,
   "metadata": {},
   "outputs": [
    {
     "name": "stdout",
     "output_type": "stream",
     "text": [
      "<class 'pandas.core.frame.DataFrame'>\n",
      "RangeIndex: 6826 entries, 0 to 6825\n",
      "Data columns (total 4 columns):\n",
      " #   Column     Non-Null Count  Dtype         \n",
      "---  ------     --------------  -----         \n",
      " 0   Date       6826 non-null   datetime64[ns]\n",
      " 1   Parameter  6826 non-null   object        \n",
      " 2   Value      6826 non-null   int64         \n",
      " 3   Unit       0 non-null      float64       \n",
      "dtypes: datetime64[ns](1), float64(1), int64(1), object(1)\n",
      "memory usage: 213.4+ KB\n"
     ]
    }
   ],
   "source": [
    "data.info()"
   ]
  },
  {
   "cell_type": "markdown",
   "metadata": {},
   "source": [
    "## Create new columns"
   ]
  },
  {
   "cell_type": "code",
   "execution_count": 15,
   "metadata": {},
   "outputs": [],
   "source": [
    "data[\"Day\"] = data[\"Date\"].dt.date\n",
    "data[\"time\"] = data[\"Date\"].dt.time"
   ]
  },
  {
   "cell_type": "code",
   "execution_count": 16,
   "metadata": {},
   "outputs": [
    {
     "name": "stdout",
     "output_type": "stream",
     "text": [
      "<class 'pandas.core.frame.DataFrame'>\n",
      "RangeIndex: 6826 entries, 0 to 6825\n",
      "Data columns (total 6 columns):\n",
      " #   Column     Non-Null Count  Dtype         \n",
      "---  ------     --------------  -----         \n",
      " 0   Date       6826 non-null   datetime64[ns]\n",
      " 1   Parameter  6826 non-null   object        \n",
      " 2   Value      6826 non-null   int64         \n",
      " 3   Unit       0 non-null      float64       \n",
      " 4   Day        6826 non-null   object        \n",
      " 5   time       6826 non-null   object        \n",
      "dtypes: datetime64[ns](1), float64(1), int64(1), object(3)\n",
      "memory usage: 320.1+ KB\n"
     ]
    }
   ],
   "source": [
    "data.info()"
   ]
  },
  {
   "cell_type": "markdown",
   "metadata": {},
   "source": [
    "## Select the rows where presence is 1 for the first time in the day"
   ]
  },
  {
   "cell_type": "markdown",
   "metadata": {},
   "source": [
    "### Select the rows where presence is 1 for the first time in the day"
   ]
  },
  {
   "cell_type": "code",
   "execution_count": 23,
   "metadata": {},
   "outputs": [],
   "source": [
    "start_date = pd.to_datetime(\"2020-12-02 00:00:00\")\n",
    "end_date = pd.to_datetime(\"2020-12-03 00:00:00\")\n",
    "last_date = pd.to_datetime(\"2021-03-19 00:00:00\")\n",
    "first_time = pd.DataFrame()\n",
    "while end_date < last_date:\n",
    "    select_start = data_presence[(data_presence[\"Date\"] >= start_date)]\n",
    "    select_end = select_start[(select_start[\"Date\"] <= end_date)]\n",
    "    start_date = start_date + pd.Timedelta(days=1)\n",
    "    end_date = end_date + pd.Timedelta(days=1)\n",
    "    if select_end.shape == (0, 4):\n",
    "        continue\n",
    "    if start_date == pd.to_datetime(\"2020-12-31 00:00:00\"):\n",
    "        continue\n",
    "    else:\n",
    "        top_row = select_end.iloc[0,]\n",
    "        first_time = first_time.append(top_row)\n",
    "first_time.to_csv(\"first_time.csv\")"
   ]
  },
  {
   "cell_type": "code",
   "execution_count": 24,
   "metadata": {},
   "outputs": [
    {
     "data": {
      "text/html": [
       "<div>\n",
       "<style scoped>\n",
       "    .dataframe tbody tr th:only-of-type {\n",
       "        vertical-align: middle;\n",
       "    }\n",
       "\n",
       "    .dataframe tbody tr th {\n",
       "        vertical-align: top;\n",
       "    }\n",
       "\n",
       "    .dataframe thead th {\n",
       "        text-align: right;\n",
       "    }\n",
       "</style>\n",
       "<table border=\"1\" class=\"dataframe\">\n",
       "  <thead>\n",
       "    <tr style=\"text-align: right;\">\n",
       "      <th></th>\n",
       "      <th>Date</th>\n",
       "      <th>Type</th>\n",
       "      <th>Unit</th>\n",
       "      <th>Value</th>\n",
       "    </tr>\n",
       "  </thead>\n",
       "  <tbody>\n",
       "    <tr>\n",
       "      <th>4391</th>\n",
       "      <td>2020-12-02 02:04:55</td>\n",
       "      <td>PRESENCE</td>\n",
       "      <td>NaN</td>\n",
       "      <td>1.0</td>\n",
       "    </tr>\n",
       "    <tr>\n",
       "      <th>4457</th>\n",
       "      <td>2020-12-03 05:32:59</td>\n",
       "      <td>PRESENCE</td>\n",
       "      <td>NaN</td>\n",
       "      <td>1.0</td>\n",
       "    </tr>\n",
       "    <tr>\n",
       "      <th>4511</th>\n",
       "      <td>2020-12-04 04:33:35</td>\n",
       "      <td>PRESENCE</td>\n",
       "      <td>NaN</td>\n",
       "      <td>1.0</td>\n",
       "    </tr>\n",
       "    <tr>\n",
       "      <th>4577</th>\n",
       "      <td>2020-12-05 08:01:38</td>\n",
       "      <td>PRESENCE</td>\n",
       "      <td>NaN</td>\n",
       "      <td>1.0</td>\n",
       "    </tr>\n",
       "    <tr>\n",
       "      <th>4651</th>\n",
       "      <td>2020-12-06 05:04:23</td>\n",
       "      <td>PRESENCE</td>\n",
       "      <td>NaN</td>\n",
       "      <td>1.0</td>\n",
       "    </tr>\n",
       "    <tr>\n",
       "      <th>...</th>\n",
       "      <td>...</td>\n",
       "      <td>...</td>\n",
       "      <td>...</td>\n",
       "      <td>...</td>\n",
       "    </tr>\n",
       "    <tr>\n",
       "      <th>9331</th>\n",
       "      <td>2021-02-21 05:14:32</td>\n",
       "      <td>PRESENCE</td>\n",
       "      <td>NaN</td>\n",
       "      <td>1.0</td>\n",
       "    </tr>\n",
       "    <tr>\n",
       "      <th>9381</th>\n",
       "      <td>2021-02-22 06:08:54</td>\n",
       "      <td>PRESENCE</td>\n",
       "      <td>NaN</td>\n",
       "      <td>1.0</td>\n",
       "    </tr>\n",
       "    <tr>\n",
       "      <th>9445</th>\n",
       "      <td>2021-02-23 05:55:09</td>\n",
       "      <td>PRESENCE</td>\n",
       "      <td>NaN</td>\n",
       "      <td>1.0</td>\n",
       "    </tr>\n",
       "    <tr>\n",
       "      <th>9513</th>\n",
       "      <td>2021-02-24 04:08:27</td>\n",
       "      <td>PRESENCE</td>\n",
       "      <td>NaN</td>\n",
       "      <td>1.0</td>\n",
       "    </tr>\n",
       "    <tr>\n",
       "      <th>9587</th>\n",
       "      <td>2021-02-25 04:43:51</td>\n",
       "      <td>PRESENCE</td>\n",
       "      <td>NaN</td>\n",
       "      <td>1.0</td>\n",
       "    </tr>\n",
       "  </tbody>\n",
       "</table>\n",
       "<p>79 rows × 4 columns</p>\n",
       "</div>"
      ],
      "text/plain": [
       "                    Date      Type  Unit  Value\n",
       "4391 2020-12-02 02:04:55  PRESENCE   NaN    1.0\n",
       "4457 2020-12-03 05:32:59  PRESENCE   NaN    1.0\n",
       "4511 2020-12-04 04:33:35  PRESENCE   NaN    1.0\n",
       "4577 2020-12-05 08:01:38  PRESENCE   NaN    1.0\n",
       "4651 2020-12-06 05:04:23  PRESENCE   NaN    1.0\n",
       "...                  ...       ...   ...    ...\n",
       "9331 2021-02-21 05:14:32  PRESENCE   NaN    1.0\n",
       "9381 2021-02-22 06:08:54  PRESENCE   NaN    1.0\n",
       "9445 2021-02-23 05:55:09  PRESENCE   NaN    1.0\n",
       "9513 2021-02-24 04:08:27  PRESENCE   NaN    1.0\n",
       "9587 2021-02-25 04:43:51  PRESENCE   NaN    1.0\n",
       "\n",
       "[79 rows x 4 columns]"
      ]
     },
     "execution_count": 24,
     "metadata": {},
     "output_type": "execute_result"
    }
   ],
   "source": [
    "first_time"
   ]
  },
  {
   "cell_type": "code",
   "execution_count": 25,
   "metadata": {},
   "outputs": [
    {
     "name": "stdout",
     "output_type": "stream",
     "text": [
      "<class 'pandas.core.frame.DataFrame'>\n",
      "Int64Index: 79 entries, 4391 to 9587\n",
      "Data columns (total 5 columns):\n",
      " #   Column  Non-Null Count  Dtype         \n",
      "---  ------  --------------  -----         \n",
      " 0   Date    79 non-null     datetime64[ns]\n",
      " 1   Type    79 non-null     object        \n",
      " 2   Unit    0 non-null      float64       \n",
      " 3   Value   79 non-null     float64       \n",
      " 4   Time    79 non-null     object        \n",
      "dtypes: datetime64[ns](1), float64(2), object(2)\n",
      "memory usage: 3.7+ KB\n"
     ]
    }
   ],
   "source": [
    "#Create a new column called Time with only the time as object\n",
    "first_time[\"Time\"] = first_time[\"Date\"].dt.time\n",
    "first_time.info()"
   ]
  },
  {
   "cell_type": "markdown",
   "metadata": {},
   "source": [
    "### Figure out the average time we go to the kitchen for the 1st time in the day"
   ]
  },
  {
   "cell_type": "code",
   "execution_count": 26,
   "metadata": {},
   "outputs": [],
   "source": [
    "time_only = pd.to_datetime(first_time[\"Time\"], format='%H:%M:%S') - pd.to_datetime(first_time[\"Time\"], format='%H:%M:%S').dt.normalize()\n",
    "#Add the column \"Time_only\" into the first_time dataframe\n",
    "first_time[\"Time_only\"] = time_only\n",
    "#Remove column \"Time\" into the first_time dataframe\n",
    "first_time = first_time.drop([\"Time\"], 1)\n",
    "#Rename the column \"Time_only\" into \"Time\"\n",
    "first_time = first_time.rename(columns={\"Time_only\":\"Time\"})"
   ]
  },
  {
   "cell_type": "code",
   "execution_count": 27,
   "metadata": {},
   "outputs": [
    {
     "name": "stdout",
     "output_type": "stream",
     "text": [
      "<class 'pandas.core.frame.DataFrame'>\n",
      "Int64Index: 79 entries, 4391 to 9587\n",
      "Data columns (total 5 columns):\n",
      " #   Column  Non-Null Count  Dtype          \n",
      "---  ------  --------------  -----          \n",
      " 0   Date    79 non-null     datetime64[ns] \n",
      " 1   Type    79 non-null     object         \n",
      " 2   Unit    0 non-null      float64        \n",
      " 3   Value   79 non-null     float64        \n",
      " 4   Time    79 non-null     timedelta64[ns]\n",
      "dtypes: datetime64[ns](1), float64(2), object(1), timedelta64[ns](1)\n",
      "memory usage: 3.7+ KB\n"
     ]
    }
   ],
   "source": [
    "first_time.info()"
   ]
  },
  {
   "cell_type": "code",
   "execution_count": 28,
   "metadata": {},
   "outputs": [
    {
     "data": {
      "text/plain": [
       "count                           79\n",
       "mean     0 days 04:58:28.329113924\n",
       "std      0 days 01:14:03.755286257\n",
       "min                0 days 00:08:44\n",
       "25%                0 days 04:36:36\n",
       "50%                0 days 05:12:59\n",
       "75%         0 days 05:41:14.500000\n",
       "max                0 days 08:01:38\n",
       "Name: Time, dtype: object"
      ]
     },
     "execution_count": 28,
     "metadata": {},
     "output_type": "execute_result"
    }
   ],
   "source": [
    "time_only.describe()"
   ]
  },
  {
   "cell_type": "code",
   "execution_count": 29,
   "metadata": {},
   "outputs": [
    {
     "data": {
      "text/html": [
       "<div>\n",
       "<style scoped>\n",
       "    .dataframe tbody tr th:only-of-type {\n",
       "        vertical-align: middle;\n",
       "    }\n",
       "\n",
       "    .dataframe tbody tr th {\n",
       "        vertical-align: top;\n",
       "    }\n",
       "\n",
       "    .dataframe thead th {\n",
       "        text-align: right;\n",
       "    }\n",
       "</style>\n",
       "<table border=\"1\" class=\"dataframe\">\n",
       "  <thead>\n",
       "    <tr style=\"text-align: right;\">\n",
       "      <th></th>\n",
       "      <th>Date</th>\n",
       "      <th>Type</th>\n",
       "      <th>Unit</th>\n",
       "      <th>Value</th>\n",
       "      <th>Time</th>\n",
       "      <th>Day</th>\n",
       "      <th>time</th>\n",
       "    </tr>\n",
       "  </thead>\n",
       "  <tbody>\n",
       "    <tr>\n",
       "      <th>4391</th>\n",
       "      <td>2020-12-02 02:04:55</td>\n",
       "      <td>PRESENCE</td>\n",
       "      <td>NaN</td>\n",
       "      <td>1.0</td>\n",
       "      <td>0 days 02:04:55</td>\n",
       "      <td>2020-12-02</td>\n",
       "      <td>02:04:55</td>\n",
       "    </tr>\n",
       "    <tr>\n",
       "      <th>4457</th>\n",
       "      <td>2020-12-03 05:32:59</td>\n",
       "      <td>PRESENCE</td>\n",
       "      <td>NaN</td>\n",
       "      <td>1.0</td>\n",
       "      <td>0 days 05:32:59</td>\n",
       "      <td>2020-12-03</td>\n",
       "      <td>05:32:59</td>\n",
       "    </tr>\n",
       "    <tr>\n",
       "      <th>4511</th>\n",
       "      <td>2020-12-04 04:33:35</td>\n",
       "      <td>PRESENCE</td>\n",
       "      <td>NaN</td>\n",
       "      <td>1.0</td>\n",
       "      <td>0 days 04:33:35</td>\n",
       "      <td>2020-12-04</td>\n",
       "      <td>04:33:35</td>\n",
       "    </tr>\n",
       "    <tr>\n",
       "      <th>4577</th>\n",
       "      <td>2020-12-05 08:01:38</td>\n",
       "      <td>PRESENCE</td>\n",
       "      <td>NaN</td>\n",
       "      <td>1.0</td>\n",
       "      <td>0 days 08:01:38</td>\n",
       "      <td>2020-12-05</td>\n",
       "      <td>08:01:38</td>\n",
       "    </tr>\n",
       "    <tr>\n",
       "      <th>4651</th>\n",
       "      <td>2020-12-06 05:04:23</td>\n",
       "      <td>PRESENCE</td>\n",
       "      <td>NaN</td>\n",
       "      <td>1.0</td>\n",
       "      <td>0 days 05:04:23</td>\n",
       "      <td>2020-12-06</td>\n",
       "      <td>05:04:23</td>\n",
       "    </tr>\n",
       "    <tr>\n",
       "      <th>...</th>\n",
       "      <td>...</td>\n",
       "      <td>...</td>\n",
       "      <td>...</td>\n",
       "      <td>...</td>\n",
       "      <td>...</td>\n",
       "      <td>...</td>\n",
       "      <td>...</td>\n",
       "    </tr>\n",
       "    <tr>\n",
       "      <th>9331</th>\n",
       "      <td>2021-02-21 05:14:32</td>\n",
       "      <td>PRESENCE</td>\n",
       "      <td>NaN</td>\n",
       "      <td>1.0</td>\n",
       "      <td>0 days 05:14:32</td>\n",
       "      <td>2021-02-21</td>\n",
       "      <td>05:14:32</td>\n",
       "    </tr>\n",
       "    <tr>\n",
       "      <th>9381</th>\n",
       "      <td>2021-02-22 06:08:54</td>\n",
       "      <td>PRESENCE</td>\n",
       "      <td>NaN</td>\n",
       "      <td>1.0</td>\n",
       "      <td>0 days 06:08:54</td>\n",
       "      <td>2021-02-22</td>\n",
       "      <td>06:08:54</td>\n",
       "    </tr>\n",
       "    <tr>\n",
       "      <th>9445</th>\n",
       "      <td>2021-02-23 05:55:09</td>\n",
       "      <td>PRESENCE</td>\n",
       "      <td>NaN</td>\n",
       "      <td>1.0</td>\n",
       "      <td>0 days 05:55:09</td>\n",
       "      <td>2021-02-23</td>\n",
       "      <td>05:55:09</td>\n",
       "    </tr>\n",
       "    <tr>\n",
       "      <th>9513</th>\n",
       "      <td>2021-02-24 04:08:27</td>\n",
       "      <td>PRESENCE</td>\n",
       "      <td>NaN</td>\n",
       "      <td>1.0</td>\n",
       "      <td>0 days 04:08:27</td>\n",
       "      <td>2021-02-24</td>\n",
       "      <td>04:08:27</td>\n",
       "    </tr>\n",
       "    <tr>\n",
       "      <th>9587</th>\n",
       "      <td>2021-02-25 04:43:51</td>\n",
       "      <td>PRESENCE</td>\n",
       "      <td>NaN</td>\n",
       "      <td>1.0</td>\n",
       "      <td>0 days 04:43:51</td>\n",
       "      <td>2021-02-25</td>\n",
       "      <td>04:43:51</td>\n",
       "    </tr>\n",
       "  </tbody>\n",
       "</table>\n",
       "<p>79 rows × 7 columns</p>\n",
       "</div>"
      ],
      "text/plain": [
       "                    Date      Type  Unit  Value            Time         Day  \\\n",
       "4391 2020-12-02 02:04:55  PRESENCE   NaN    1.0 0 days 02:04:55  2020-12-02   \n",
       "4457 2020-12-03 05:32:59  PRESENCE   NaN    1.0 0 days 05:32:59  2020-12-03   \n",
       "4511 2020-12-04 04:33:35  PRESENCE   NaN    1.0 0 days 04:33:35  2020-12-04   \n",
       "4577 2020-12-05 08:01:38  PRESENCE   NaN    1.0 0 days 08:01:38  2020-12-05   \n",
       "4651 2020-12-06 05:04:23  PRESENCE   NaN    1.0 0 days 05:04:23  2020-12-06   \n",
       "...                  ...       ...   ...    ...             ...         ...   \n",
       "9331 2021-02-21 05:14:32  PRESENCE   NaN    1.0 0 days 05:14:32  2021-02-21   \n",
       "9381 2021-02-22 06:08:54  PRESENCE   NaN    1.0 0 days 06:08:54  2021-02-22   \n",
       "9445 2021-02-23 05:55:09  PRESENCE   NaN    1.0 0 days 05:55:09  2021-02-23   \n",
       "9513 2021-02-24 04:08:27  PRESENCE   NaN    1.0 0 days 04:08:27  2021-02-24   \n",
       "9587 2021-02-25 04:43:51  PRESENCE   NaN    1.0 0 days 04:43:51  2021-02-25   \n",
       "\n",
       "          time  \n",
       "4391  02:04:55  \n",
       "4457  05:32:59  \n",
       "4511  04:33:35  \n",
       "4577  08:01:38  \n",
       "4651  05:04:23  \n",
       "...        ...  \n",
       "9331  05:14:32  \n",
       "9381  06:08:54  \n",
       "9445  05:55:09  \n",
       "9513  04:08:27  \n",
       "9587  04:43:51  \n",
       "\n",
       "[79 rows x 7 columns]"
      ]
     },
     "execution_count": 29,
     "metadata": {},
     "output_type": "execute_result"
    }
   ],
   "source": [
    "first_time[\"Day\"] = first_time[\"Date\"].dt.date\n",
    "first_time[\"time\"] = first_time[\"Date\"].dt.time\n",
    "first_time"
   ]
  },
  {
   "cell_type": "code",
   "execution_count": 46,
   "metadata": {},
   "outputs": [
    {
     "data": {
      "text/plain": [
       "<AxesSubplot:xlabel='Day'>"
      ]
     },
     "execution_count": 46,
     "metadata": {},
     "output_type": "execute_result"
    },
    {
     "data": {
      "image/png": "[encoded data removed]",
      "text/plain": [
       "<Figure size 720x504 with 1 Axes>"
      ]
     },
     "metadata": {
      "needs_background": "light"
     },
     "output_type": "display_data"
    }
   ],
   "source": [
    "first_time.plot.line(x = \"Day\", y = \"Time\", legend = False, figsize = (10,7))"
   ]
  },
  {
   "cell_type": "markdown",
   "metadata": {},
   "source": [
    "## Group our data by day"
   ]
  },
  {
   "cell_type": "code",
   "execution_count": 27,
   "metadata": {},
   "outputs": [],
   "source": [
    "#Convert into datetime stamps\n",
    "presence[\"Day\"] = pd.to_datetime(presence[\"Day\"])\n",
    "#presence[\"Time\"] = pd.to_datetime(presence[\"Time\"])"
   ]
  },
  {
   "cell_type": "code",
   "execution_count": 28,
   "metadata": {},
   "outputs": [
    {
     "name": "stdout",
     "output_type": "stream",
     "text": [
      "<class 'pandas.core.frame.DataFrame'>\n",
      "RangeIndex: 6826 entries, 0 to 6825\n",
      "Data columns (total 5 columns):\n",
      " #   Column     Non-Null Count  Dtype         \n",
      "---  ------     --------------  -----         \n",
      " 0   Date       6826 non-null   datetime64[ns]\n",
      " 1   Parameter  6826 non-null   object        \n",
      " 2   Value      6826 non-null   int64         \n",
      " 3   Day        6826 non-null   datetime64[ns]\n",
      " 4   Time       6826 non-null   object        \n",
      "dtypes: datetime64[ns](2), int64(1), object(2)\n",
      "memory usage: 266.8+ KB\n"
     ]
    }
   ],
   "source": [
    "presence.info()"
   ]
  },
  {
   "cell_type": "code",
   "execution_count": 34,
   "metadata": {},
   "outputs": [],
   "source": []
  },
  {
   "cell_type": "code",
   "execution_count": 45,
   "metadata": {},
   "outputs": [
    {
     "data": {
      "text/html": [
       "<div>\n",
       "<style scoped>\n",
       "    .dataframe tbody tr th:only-of-type {\n",
       "        vertical-align: middle;\n",
       "    }\n",
       "\n",
       "    .dataframe tbody tr th {\n",
       "        vertical-align: top;\n",
       "    }\n",
       "\n",
       "    .dataframe thead th {\n",
       "        text-align: right;\n",
       "    }\n",
       "</style>\n",
       "<table border=\"1\" class=\"dataframe\">\n",
       "  <thead>\n",
       "    <tr style=\"text-align: right;\">\n",
       "      <th></th>\n",
       "      <th>Date</th>\n",
       "      <th>Parameter</th>\n",
       "      <th>Value</th>\n",
       "      <th>Day</th>\n",
       "      <th>Time</th>\n",
       "    </tr>\n",
       "    <tr>\n",
       "      <th>Day</th>\n",
       "      <th></th>\n",
       "      <th></th>\n",
       "      <th></th>\n",
       "      <th></th>\n",
       "      <th></th>\n",
       "    </tr>\n",
       "  </thead>\n",
       "  <tbody>\n",
       "    <tr>\n",
       "      <th>2020-12-02</th>\n",
       "      <td>2020-12-02 02:04:55</td>\n",
       "      <td>PRESENCE</td>\n",
       "      <td>1</td>\n",
       "      <td>2020-12-02</td>\n",
       "      <td>02:04:55</td>\n",
       "    </tr>\n",
       "    <tr>\n",
       "      <th>2020-12-02</th>\n",
       "      <td>2020-12-02 02:09:44</td>\n",
       "      <td>PRESENCE</td>\n",
       "      <td>0</td>\n",
       "      <td>2020-12-02</td>\n",
       "      <td>02:09:44</td>\n",
       "    </tr>\n",
       "    <tr>\n",
       "      <th>2020-12-02</th>\n",
       "      <td>2020-12-02 06:15:31</td>\n",
       "      <td>PRESENCE</td>\n",
       "      <td>1</td>\n",
       "      <td>2020-12-02</td>\n",
       "      <td>06:15:31</td>\n",
       "    </tr>\n",
       "    <tr>\n",
       "      <th>2020-12-02</th>\n",
       "      <td>2020-12-02 06:27:53</td>\n",
       "      <td>PRESENCE</td>\n",
       "      <td>0</td>\n",
       "      <td>2020-12-02</td>\n",
       "      <td>06:27:53</td>\n",
       "    </tr>\n",
       "    <tr>\n",
       "      <th>2020-12-02</th>\n",
       "      <td>2020-12-02 06:33:01</td>\n",
       "      <td>PRESENCE</td>\n",
       "      <td>1</td>\n",
       "      <td>2020-12-02</td>\n",
       "      <td>06:33:01</td>\n",
       "    </tr>\n",
       "    <tr>\n",
       "      <th>...</th>\n",
       "      <td>...</td>\n",
       "      <td>...</td>\n",
       "      <td>...</td>\n",
       "      <td>...</td>\n",
       "      <td>...</td>\n",
       "    </tr>\n",
       "    <tr>\n",
       "      <th>2021-03-19</th>\n",
       "      <td>2021-03-19 20:28:03</td>\n",
       "      <td>PRESENCE</td>\n",
       "      <td>0</td>\n",
       "      <td>2021-03-19</td>\n",
       "      <td>20:28:03</td>\n",
       "    </tr>\n",
       "    <tr>\n",
       "      <th>2021-03-19</th>\n",
       "      <td>2021-03-19 20:32:00</td>\n",
       "      <td>PRESENCE</td>\n",
       "      <td>1</td>\n",
       "      <td>2021-03-19</td>\n",
       "      <td>20:32:00</td>\n",
       "    </tr>\n",
       "    <tr>\n",
       "      <th>2021-03-19</th>\n",
       "      <td>2021-03-19 20:37:05</td>\n",
       "      <td>PRESENCE</td>\n",
       "      <td>0</td>\n",
       "      <td>2021-03-19</td>\n",
       "      <td>20:37:05</td>\n",
       "    </tr>\n",
       "    <tr>\n",
       "      <th>2021-03-19</th>\n",
       "      <td>2021-03-19 21:30:13</td>\n",
       "      <td>PRESENCE</td>\n",
       "      <td>1</td>\n",
       "      <td>2021-03-19</td>\n",
       "      <td>21:30:13</td>\n",
       "    </tr>\n",
       "    <tr>\n",
       "      <th>2021-03-19</th>\n",
       "      <td>2021-03-19 21:34:58</td>\n",
       "      <td>PRESENCE</td>\n",
       "      <td>0</td>\n",
       "      <td>2021-03-19</td>\n",
       "      <td>21:34:58</td>\n",
       "    </tr>\n",
       "  </tbody>\n",
       "</table>\n",
       "<p>6826 rows × 5 columns</p>\n",
       "</div>"
      ],
      "text/plain": [
       "                          Date Parameter  Value        Day      Time\n",
       "Day                                                                 \n",
       "2020-12-02 2020-12-02 02:04:55  PRESENCE      1 2020-12-02  02:04:55\n",
       "2020-12-02 2020-12-02 02:09:44  PRESENCE      0 2020-12-02  02:09:44\n",
       "2020-12-02 2020-12-02 06:15:31  PRESENCE      1 2020-12-02  06:15:31\n",
       "2020-12-02 2020-12-02 06:27:53  PRESENCE      0 2020-12-02  06:27:53\n",
       "2020-12-02 2020-12-02 06:33:01  PRESENCE      1 2020-12-02  06:33:01\n",
       "...                        ...       ...    ...        ...       ...\n",
       "2021-03-19 2021-03-19 20:28:03  PRESENCE      0 2021-03-19  20:28:03\n",
       "2021-03-19 2021-03-19 20:32:00  PRESENCE      1 2021-03-19  20:32:00\n",
       "2021-03-19 2021-03-19 20:37:05  PRESENCE      0 2021-03-19  20:37:05\n",
       "2021-03-19 2021-03-19 21:30:13  PRESENCE      1 2021-03-19  21:30:13\n",
       "2021-03-19 2021-03-19 21:34:58  PRESENCE      0 2021-03-19  21:34:58\n",
       "\n",
       "[6826 rows x 5 columns]"
      ]
     },
     "execution_count": 45,
     "metadata": {},
     "output_type": "execute_result"
    }
   ],
   "source": [
    "presence_day"
   ]
  },
  {
   "cell_type": "code",
   "execution_count": 48,
   "metadata": {},
   "outputs": [
    {
     "data": {
      "text/plain": [
       "<pandas.core.groupby.generic.DataFrameGroupBy object at 0x7f2833f93a30>"
      ]
     },
     "execution_count": 48,
     "metadata": {},
     "output_type": "execute_result"
    }
   ],
   "source": [
    "presence.groupby(presence[\"Day\"])"
   ]
  },
  {
   "cell_type": "code",
   "execution_count": 46,
   "metadata": {},
   "outputs": [
    {
     "data": {
      "text/plain": [
       "<pandas.core.groupby.generic.DataFrameGroupBy object at 0x7f283ba56700>"
      ]
     },
     "execution_count": 46,
     "metadata": {},
     "output_type": "execute_result"
    }
   ],
   "source": [
    "presence_day.groupby(presence_day.Date.dt.date)"
   ]
  },
  {
   "cell_type": "code",
   "execution_count": 47,
   "metadata": {},
   "outputs": [
    {
     "data": {
      "text/html": [
       "<div>\n",
       "<style scoped>\n",
       "    .dataframe tbody tr th:only-of-type {\n",
       "        vertical-align: middle;\n",
       "    }\n",
       "\n",
       "    .dataframe tbody tr th {\n",
       "        vertical-align: top;\n",
       "    }\n",
       "\n",
       "    .dataframe thead th {\n",
       "        text-align: right;\n",
       "    }\n",
       "</style>\n",
       "<table border=\"1\" class=\"dataframe\">\n",
       "  <thead>\n",
       "    <tr style=\"text-align: right;\">\n",
       "      <th></th>\n",
       "      <th>Date</th>\n",
       "      <th>Parameter</th>\n",
       "      <th>Value</th>\n",
       "      <th>Day</th>\n",
       "      <th>Time</th>\n",
       "    </tr>\n",
       "    <tr>\n",
       "      <th>Day</th>\n",
       "      <th></th>\n",
       "      <th></th>\n",
       "      <th></th>\n",
       "      <th></th>\n",
       "      <th></th>\n",
       "    </tr>\n",
       "  </thead>\n",
       "  <tbody>\n",
       "    <tr>\n",
       "      <th>2020-12-02</th>\n",
       "      <td>2020-12-02 02:04:55</td>\n",
       "      <td>PRESENCE</td>\n",
       "      <td>1</td>\n",
       "      <td>2020-12-02</td>\n",
       "      <td>02:04:55</td>\n",
       "    </tr>\n",
       "    <tr>\n",
       "      <th>2020-12-02</th>\n",
       "      <td>2020-12-02 02:09:44</td>\n",
       "      <td>PRESENCE</td>\n",
       "      <td>0</td>\n",
       "      <td>2020-12-02</td>\n",
       "      <td>02:09:44</td>\n",
       "    </tr>\n",
       "    <tr>\n",
       "      <th>2020-12-02</th>\n",
       "      <td>2020-12-02 06:15:31</td>\n",
       "      <td>PRESENCE</td>\n",
       "      <td>1</td>\n",
       "      <td>2020-12-02</td>\n",
       "      <td>06:15:31</td>\n",
       "    </tr>\n",
       "    <tr>\n",
       "      <th>2020-12-02</th>\n",
       "      <td>2020-12-02 06:27:53</td>\n",
       "      <td>PRESENCE</td>\n",
       "      <td>0</td>\n",
       "      <td>2020-12-02</td>\n",
       "      <td>06:27:53</td>\n",
       "    </tr>\n",
       "    <tr>\n",
       "      <th>2020-12-02</th>\n",
       "      <td>2020-12-02 06:33:01</td>\n",
       "      <td>PRESENCE</td>\n",
       "      <td>1</td>\n",
       "      <td>2020-12-02</td>\n",
       "      <td>06:33:01</td>\n",
       "    </tr>\n",
       "    <tr>\n",
       "      <th>...</th>\n",
       "      <td>...</td>\n",
       "      <td>...</td>\n",
       "      <td>...</td>\n",
       "      <td>...</td>\n",
       "      <td>...</td>\n",
       "    </tr>\n",
       "    <tr>\n",
       "      <th>2021-03-19</th>\n",
       "      <td>2021-03-19 20:28:03</td>\n",
       "      <td>PRESENCE</td>\n",
       "      <td>0</td>\n",
       "      <td>2021-03-19</td>\n",
       "      <td>20:28:03</td>\n",
       "    </tr>\n",
       "    <tr>\n",
       "      <th>2021-03-19</th>\n",
       "      <td>2021-03-19 20:32:00</td>\n",
       "      <td>PRESENCE</td>\n",
       "      <td>1</td>\n",
       "      <td>2021-03-19</td>\n",
       "      <td>20:32:00</td>\n",
       "    </tr>\n",
       "    <tr>\n",
       "      <th>2021-03-19</th>\n",
       "      <td>2021-03-19 20:37:05</td>\n",
       "      <td>PRESENCE</td>\n",
       "      <td>0</td>\n",
       "      <td>2021-03-19</td>\n",
       "      <td>20:37:05</td>\n",
       "    </tr>\n",
       "    <tr>\n",
       "      <th>2021-03-19</th>\n",
       "      <td>2021-03-19 21:30:13</td>\n",
       "      <td>PRESENCE</td>\n",
       "      <td>1</td>\n",
       "      <td>2021-03-19</td>\n",
       "      <td>21:30:13</td>\n",
       "    </tr>\n",
       "    <tr>\n",
       "      <th>2021-03-19</th>\n",
       "      <td>2021-03-19 21:34:58</td>\n",
       "      <td>PRESENCE</td>\n",
       "      <td>0</td>\n",
       "      <td>2021-03-19</td>\n",
       "      <td>21:34:58</td>\n",
       "    </tr>\n",
       "  </tbody>\n",
       "</table>\n",
       "<p>6826 rows × 5 columns</p>\n",
       "</div>"
      ],
      "text/plain": [
       "                          Date Parameter  Value        Day      Time\n",
       "Day                                                                 \n",
       "2020-12-02 2020-12-02 02:04:55  PRESENCE      1 2020-12-02  02:04:55\n",
       "2020-12-02 2020-12-02 02:09:44  PRESENCE      0 2020-12-02  02:09:44\n",
       "2020-12-02 2020-12-02 06:15:31  PRESENCE      1 2020-12-02  06:15:31\n",
       "2020-12-02 2020-12-02 06:27:53  PRESENCE      0 2020-12-02  06:27:53\n",
       "2020-12-02 2020-12-02 06:33:01  PRESENCE      1 2020-12-02  06:33:01\n",
       "...                        ...       ...    ...        ...       ...\n",
       "2021-03-19 2021-03-19 20:28:03  PRESENCE      0 2021-03-19  20:28:03\n",
       "2021-03-19 2021-03-19 20:32:00  PRESENCE      1 2021-03-19  20:32:00\n",
       "2021-03-19 2021-03-19 20:37:05  PRESENCE      0 2021-03-19  20:37:05\n",
       "2021-03-19 2021-03-19 21:30:13  PRESENCE      1 2021-03-19  21:30:13\n",
       "2021-03-19 2021-03-19 21:34:58  PRESENCE      0 2021-03-19  21:34:58\n",
       "\n",
       "[6826 rows x 5 columns]"
      ]
     },
     "execution_count": 47,
     "metadata": {},
     "output_type": "execute_result"
    }
   ],
   "source": [
    "presence_day"
   ]
  },
  {
   "cell_type": "markdown",
   "metadata": {},
   "source": [
    "### Open the file with our selection"
   ]
  },
  {
   "cell_type": "code",
   "execution_count": 4,
   "metadata": {},
   "outputs": [],
   "source": [
    "presence = pd.read_csv(\"data3months.csv\")"
   ]
  },
  {
   "cell_type": "code",
   "execution_count": 5,
   "metadata": {},
   "outputs": [
    {
     "data": {
      "text/html": [
       "<div>\n",
       "<style scoped>\n",
       "    .dataframe tbody tr th:only-of-type {\n",
       "        vertical-align: middle;\n",
       "    }\n",
       "\n",
       "    .dataframe tbody tr th {\n",
       "        vertical-align: top;\n",
       "    }\n",
       "\n",
       "    .dataframe thead th {\n",
       "        text-align: right;\n",
       "    }\n",
       "</style>\n",
       "<table border=\"1\" class=\"dataframe\">\n",
       "  <thead>\n",
       "    <tr style=\"text-align: right;\">\n",
       "      <th></th>\n",
       "      <th>Unnamed: 0</th>\n",
       "      <th>Date</th>\n",
       "      <th>Parameter</th>\n",
       "      <th>Value</th>\n",
       "      <th>Unit</th>\n",
       "    </tr>\n",
       "  </thead>\n",
       "  <tbody>\n",
       "    <tr>\n",
       "      <th>0</th>\n",
       "      <td>5254</td>\n",
       "      <td>2020-12-02 02:04:55</td>\n",
       "      <td>PRESENCE</td>\n",
       "      <td>1</td>\n",
       "      <td>NaN</td>\n",
       "    </tr>\n",
       "    <tr>\n",
       "      <th>1</th>\n",
       "      <td>5255</td>\n",
       "      <td>2020-12-02 02:09:44</td>\n",
       "      <td>PRESENCE</td>\n",
       "      <td>0</td>\n",
       "      <td>NaN</td>\n",
       "    </tr>\n",
       "    <tr>\n",
       "      <th>2</th>\n",
       "      <td>5256</td>\n",
       "      <td>2020-12-02 06:15:31</td>\n",
       "      <td>PRESENCE</td>\n",
       "      <td>1</td>\n",
       "      <td>NaN</td>\n",
       "    </tr>\n",
       "    <tr>\n",
       "      <th>3</th>\n",
       "      <td>5257</td>\n",
       "      <td>2020-12-02 06:27:53</td>\n",
       "      <td>PRESENCE</td>\n",
       "      <td>0</td>\n",
       "      <td>NaN</td>\n",
       "    </tr>\n",
       "    <tr>\n",
       "      <th>4</th>\n",
       "      <td>5258</td>\n",
       "      <td>2020-12-02 06:33:01</td>\n",
       "      <td>PRESENCE</td>\n",
       "      <td>1</td>\n",
       "      <td>NaN</td>\n",
       "    </tr>\n",
       "  </tbody>\n",
       "</table>\n",
       "</div>"
      ],
      "text/plain": [
       "   Unnamed: 0                 Date Parameter  Value  Unit\n",
       "0        5254  2020-12-02 02:04:55  PRESENCE      1   NaN\n",
       "1        5255  2020-12-02 02:09:44  PRESENCE      0   NaN\n",
       "2        5256  2020-12-02 06:15:31  PRESENCE      1   NaN\n",
       "3        5257  2020-12-02 06:27:53  PRESENCE      0   NaN\n",
       "4        5258  2020-12-02 06:33:01  PRESENCE      1   NaN"
      ]
     },
     "execution_count": 5,
     "metadata": {},
     "output_type": "execute_result"
    }
   ],
   "source": [
    "presence.head()"
   ]
  },
  {
   "cell_type": "code",
   "execution_count": 6,
   "metadata": {},
   "outputs": [
    {
     "name": "stdout",
     "output_type": "stream",
     "text": [
      "<class 'pandas.core.frame.DataFrame'>\n",
      "RangeIndex: 6826 entries, 0 to 6825\n",
      "Data columns (total 5 columns):\n",
      " #   Column      Non-Null Count  Dtype  \n",
      "---  ------      --------------  -----  \n",
      " 0   Unnamed: 0  6826 non-null   int64  \n",
      " 1   Date        6826 non-null   object \n",
      " 2   Parameter   6826 non-null   object \n",
      " 3   Value       6826 non-null   int64  \n",
      " 4   Unit        0 non-null      float64\n",
      "dtypes: float64(1), int64(2), object(2)\n",
      "memory usage: 266.8+ KB\n"
     ]
    }
   ],
   "source": [
    "presence.info()"
   ]
  },
  {
   "cell_type": "code",
   "execution_count": 7,
   "metadata": {},
   "outputs": [],
   "source": [
    "#Remove Unnamed and Unit columns\n",
    "presence = presence.drop([\"Unnamed: 0\", \"Unit\"], 1)"
   ]
  },
  {
   "cell_type": "code",
   "execution_count": 8,
   "metadata": {
    "collapsed": true,
    "jupyter": {
     "outputs_hidden": true
    }
   },
   "outputs": [
    {
     "name": "stdout",
     "output_type": "stream",
     "text": [
      "<class 'pandas.core.frame.DataFrame'>\n",
      "RangeIndex: 6826 entries, 0 to 6825\n",
      "Data columns (total 3 columns):\n",
      " #   Column     Non-Null Count  Dtype \n",
      "---  ------     --------------  ----- \n",
      " 0   Date       6826 non-null   object\n",
      " 1   Parameter  6826 non-null   object\n",
      " 2   Value      6826 non-null   int64 \n",
      "dtypes: int64(1), object(2)\n",
      "memory usage: 160.1+ KB\n"
     ]
    }
   ],
   "source": [
    "presence.info()"
   ]
  }
 ],
 "metadata": {
  "kernelspec": {
   "display_name": "Python 3",
   "language": "python",
   "name": "python3"
  },
  "language_info": {
   "codemirror_mode": {
    "name": "ipython",
    "version": 3
   },
   "file_extension": ".py",
   "mimetype": "text/x-python",
   "name": "python",
   "nbconvert_exporter": "python",
   "pygments_lexer": "ipython3",
   "version": "3.8.5"
  }
 },
 "nbformat": 4,
 "nbformat_minor": 4
}
